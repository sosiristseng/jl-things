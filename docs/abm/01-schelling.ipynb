{
 "cells": [
  {
   "cell_type": "markdown",
   "source": [
    "# Schelling's segregation model\n",
    "\n",
    "Source: [`Agents.jl` tutorial](https://juliadynamics.github.io/Agents.jl/stable/tutorial/). [Wikipedia](https://en.wikipedia.org/wiki/Schelling%27s_model_of_segregation)\n",
    "\n",
    "- Agents : They belong to one of two groups (0 or 1).\n",
    "- Model : Each position of the grid can be occupied by at most one agent.\n",
    "- For each step\n",
    "  - If an agent has at least 3 neighbors belonging to the same group, then it is happy.\n",
    "  - If an agent is unhappy, it keeps moving to new locations until it is happy.\n",
    "\n",
    "To define an agent type, we should make a mutable struct derived from `AbstractAgent` with 2 mandatory fields:\n",
    "- `id::Int` . The identifier number of the agent.\n",
    "- `pos` . For agents on a 2D grid, the position field should be a tuple of 2 integers.\n",
    "\n",
    "On top of that, we could define other properties for the agents.\n",
    "\n",
    "## Setup\n",
    "\n",
    "First, we create a 2D space with a Chebyshev metric. This leads to *8 neighboring positions* per position (except at the edges of the grid)."
   ],
   "metadata": {}
  },
  {
   "outputs": [],
   "cell_type": "code",
   "source": [
    "using Agents\n",
    "using Random"
   ],
   "metadata": {},
   "execution_count": null
  },
  {
   "cell_type": "markdown",
   "source": [
    "The helper function `display_mp4()` displays mp4 files in Jupyter notebooks"
   ],
   "metadata": {}
  },
  {
   "outputs": [],
   "cell_type": "code",
   "source": [
    "using Base64\n",
    "function display_mp4(filename)\n",
    "    display(\"text/html\", string(\"\"\"<video autoplay controls><source src=\"data:video/x-m4v;base64,\"\"\",\n",
    "        Base64.base64encode(open(read, filename)),\"\"\"\" type=\"video/mp4\"></video>\"\"\"))\n",
    "end"
   ],
   "metadata": {},
   "execution_count": null
  },
  {
   "cell_type": "markdown",
   "source": [
    "Define the Agent type using the [`@agent`](https://juliadynamics.github.io/Agents.jl/stable/api/#Agents.@agent) macro.\n",
    "The agents inherit all properties of `GridAgent{2}` sicne they live on a 2D grid. They also have two properties: `mood` (happy or not) and `group`."
   ],
   "metadata": {}
  },
  {
   "outputs": [],
   "cell_type": "code",
   "source": [
    "@agent struct SchellingAgent(GridAgent{2})\n",
    "    mood::Bool = false ## true = happy\n",
    "    group::Int ## the group does not have a default value!\n",
    "end"
   ],
   "metadata": {},
   "execution_count": null
  },
  {
   "cell_type": "markdown",
   "source": [
    "Define the stepping function for the agent\n",
    "`nearby_agents(agent, model)` lists neighbors\n",
    "If there are over 2 neighbors of the same group, make the agent happy.\n",
    "Else,  the agent will move to a random empty position"
   ],
   "metadata": {}
  },
  {
   "outputs": [],
   "cell_type": "code",
   "source": [
    "function schelling_step!(agent::SchellingAgent, model)\n",
    "    minhappy = model.min_to_be_happy\n",
    "    count_neighbors_same_group = 0\n",
    "    for neighbor in nearby_agents(agent, model)\n",
    "        if agent.group == neighbor.group\n",
    "            count_neighbors_same_group += 1\n",
    "        end\n",
    "    end\n",
    "    if count_neighbors_same_group ≥ minhappy\n",
    "        agent.mood = true ## The agent is happy\n",
    "    else\n",
    "        agent.mood = false\n",
    "        move_agent_single!(agent, model) ## Move the agent to a random position\n",
    "    end\n",
    "    return nothing\n",
    "end"
   ],
   "metadata": {},
   "execution_count": null
  },
  {
   "cell_type": "markdown",
   "source": [
    "Recommended to use a function to create the ABM for easily alter its parameters"
   ],
   "metadata": {}
  },
  {
   "outputs": [],
   "cell_type": "code",
   "source": [
    "function init_schelling(; numagents = 300, griddims = (20, 20), min_to_be_happy = 3, seed = 2024)\n",
    "    # Create a space for the agents to reside\n",
    "    space = GridSpace(griddims)\n",
    "    # Define parameters of the ABM\n",
    "    properties = Dict(:min_to_be_happy => min_to_be_happy)\n",
    "    rng = Random.Xoshiro(seed)\n",
    "    # Create the model\n",
    "    model = StandardABM(\n",
    "        SchellingAgent, space;\n",
    "        properties, rng,\n",
    "        agent_step! = schelling_step!,\n",
    "        container = Vector, ## agents are not removed, this is faster\n",
    "        scheduler = Schedulers.Randomly()\n",
    "    )\n",
    "\n",
    "    # Populate the model with agents, adding equal amount of the two types of agents at random positions in the model.\n",
    "    # We don't have to set the starting position. Agents.jl will choose a random position.\n",
    "    for n in 1:numagents\n",
    "        add_agent_single!(model; group = n < 300 / 2 ? 1 : 2)\n",
    "    end\n",
    "    return model\n",
    "end"
   ],
   "metadata": {},
   "execution_count": null
  },
  {
   "cell_type": "markdown",
   "source": [
    "## Running the model"
   ],
   "metadata": {}
  },
  {
   "outputs": [],
   "cell_type": "code",
   "source": [
    "model = init_schelling()"
   ],
   "metadata": {},
   "execution_count": null
  },
  {
   "cell_type": "markdown",
   "source": [
    "The `step!()` function evolves the model forward. The `run!()` function is similar to `step!()` but also collects data along the simulation.\n",
    "Progress the model by one step"
   ],
   "metadata": {}
  },
  {
   "outputs": [],
   "cell_type": "code",
   "source": [
    "step!(model)"
   ],
   "metadata": {},
   "execution_count": null
  },
  {
   "cell_type": "markdown",
   "source": [
    "Progress the model by 3 steps"
   ],
   "metadata": {}
  },
  {
   "outputs": [],
   "cell_type": "code",
   "source": [
    "step!(model, 3)"
   ],
   "metadata": {},
   "execution_count": null
  },
  {
   "cell_type": "markdown",
   "source": [
    "Progress the model until 90% of the agents are happy"
   ],
   "metadata": {}
  },
  {
   "outputs": [],
   "cell_type": "code",
   "source": [
    "happy90(model, time) = count(a -> a.mood == true, allagents(model))/nagents(model) ≥ 0.9\n",
    "step!(model, happy90)"
   ],
   "metadata": {},
   "execution_count": null
  },
  {
   "cell_type": "markdown",
   "source": [
    "How many steps are passed"
   ],
   "metadata": {}
  },
  {
   "outputs": [],
   "cell_type": "code",
   "source": [
    "abmtime(model)"
   ],
   "metadata": {},
   "execution_count": null
  },
  {
   "cell_type": "markdown",
   "source": [
    "## Visualization\n",
    "The `abmplot()` function visulizes the simulation result using Makie.jl.\n",
    "Here we use the Cairo backend"
   ],
   "metadata": {}
  },
  {
   "outputs": [],
   "cell_type": "code",
   "source": [
    "using CairoMakie\n",
    "CairoMakie.activate!(px_per_unit = 1.0)"
   ],
   "metadata": {},
   "execution_count": null
  },
  {
   "cell_type": "markdown",
   "source": [
    "Some helper functions to identify agent groups."
   ],
   "metadata": {}
  },
  {
   "outputs": [],
   "cell_type": "code",
   "source": [
    "groupcolor(a) = a.group == 1 ? :blue : :orange\n",
    "groupmarker(a) = a.group == 1 ? :circle : :rect"
   ],
   "metadata": {},
   "execution_count": null
  },
  {
   "cell_type": "markdown",
   "source": [
    "Plot the initial conditions of the model"
   ],
   "metadata": {}
  },
  {
   "outputs": [],
   "cell_type": "code",
   "source": [
    "model = init_schelling()\n",
    "figure, _ = abmplot(model; agent_color = groupcolor, agent_marker = groupmarker, agent_size = 15)\n",
    "figure"
   ],
   "metadata": {},
   "execution_count": null
  },
  {
   "cell_type": "markdown",
   "source": [
    "Let's make an animation for the model evolution.\n",
    "Using the `abmvideo()` function"
   ],
   "metadata": {}
  },
  {
   "outputs": [],
   "cell_type": "code",
   "source": [
    "model = init_schelling()\n",
    "Agents.abmvideo(\n",
    "    \"schelling.mp4\", model;\n",
    "    agent_color = groupcolor,\n",
    "    agent_marker = groupmarker,\n",
    "    agent_size = 15,\n",
    "    framerate = 4, frames = 20,\n",
    "    title = \"Schelling's segregation model\"\n",
    ")\n",
    "\n",
    "display_mp4(\"schelling.mp4\")"
   ],
   "metadata": {},
   "execution_count": null
  },
  {
   "cell_type": "markdown",
   "source": [
    "## Data analysis\n",
    "The `run!()` function runs simulation and collects data in the `DataFrame` format. The `adata` (aggregated data) keyword selects fields we want to extract in the DataFrame."
   ],
   "metadata": {}
  },
  {
   "outputs": [],
   "cell_type": "code",
   "source": [
    "x(agent) = agent.pos[1]\n",
    "adata = [x, :mood, :group]\n",
    "model = init_schelling()\n",
    "adf, mdf = run!(model, 5; adata)\n",
    "adf[end-10:end, :] ## display only the last few rows"
   ],
   "metadata": {},
   "execution_count": null
  },
  {
   "cell_type": "markdown",
   "source": [
    "---\n",
    "\n",
    "*This notebook was generated using [Literate.jl](https://github.com/fredrikekre/Literate.jl).*"
   ],
   "metadata": {}
  }
 ],
 "nbformat_minor": 3,
 "metadata": {
  "language_info": {
   "file_extension": ".jl",
   "mimetype": "application/julia",
   "name": "julia",
   "version": "1.10.3"
  },
  "kernelspec": {
   "name": "julia-1.10",
   "display_name": "Julia 1.10.3",
   "language": "julia"
  }
 },
 "nbformat": 4
}
