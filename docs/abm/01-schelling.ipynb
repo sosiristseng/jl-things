{
 "cells": [
  {
   "cell_type": "markdown",
   "metadata": {},
   "source": [
    "# Schelling's segregation model\n",
    "\n",
    "This example is taken from `Agents.jl` [tutorial](https://juliadynamics.github.io/Agents.jl/stable/examples/schelling/).\n",
    "\n",
    "- Agents : They belong to one of two groups (0 or 1).\n",
    "- Model : Each position of the grid can be occupied by at most one agent.\n",
    "- For each step\n",
    "  - If an agent has at least 3 neighbors belonging to the same group, then it is happy.\n",
    "  - If an agent is unhappy, it keeps moving to new locations until it is happy.\n",
    "\n",
    "To define an agent type, we should make a mutable struct derived from `AbstractAgent` with 2 mandatory fields:\n",
    "- `id::Int` . The identifier number of the agent.\n",
    "- `pos` . For agents on a 2D grid, the position field should be a tuple of 2 integers.\n",
    "\n",
    "On top of that, we could define other properties for the agents.\n",
    "\n",
    "```julia\n",
    "mutable struct SchellingAgent <: AbstractAgent\n",
    "    id::Int             # The identifier number of the agent\n",
    "    pos::NTuple{2, Int} # The x, y location of the agent on a 2D grid\n",
    "    mood::Bool          # whether the agent is happy in its position. (true = happy)\n",
    "    group::Int          # The group of the agent, determines mood as it interacts with neighbors\n",
    "end\n",
    "```\n",
    "\n",
    "## Setup\n",
    "\n",
    "First, we create a 2D space with a Chebyshev metric. This leads to *8 neighboring positions* per position (except at the edges of the grid)."
   ]
  },
  {
   "cell_type": "code",
   "execution_count": null,
   "metadata": {},
   "outputs": [],
   "source": [
    "using Agents\n",
    "using Random"
   ]
  },
  {
   "cell_type": "markdown",
   "metadata": {},
   "source": [
    "Create a space for the agents to reside"
   ]
  },
  {
   "cell_type": "code",
   "execution_count": null,
   "metadata": {},
   "outputs": [],
   "source": [
    "space = GridSpace((10, 10); periodic = false)"
   ]
  },
  {
   "cell_type": "markdown",
   "metadata": {},
   "source": [
    "We define the Agent type using the [`@agent`](https://juliadynamics.github.io/Agents.jl/stable/tutorial/#Agents.@agent) macro. Thus we don't have to setup the mandatory `id` and `pos` fields by ourselves. The relevant fileds are `mood` (whetehr the agent is happy or not) and `group` (which group the agent is on)."
   ]
  },
  {
   "cell_type": "code",
   "execution_count": null,
   "metadata": {},
   "outputs": [],
   "source": [
    "@agent SchellingAgent GridAgent{2} begin\n",
    "    mood::Bool  ## True = happy\n",
    "    group::Int  ## 0 or 1\n",
    "end"
   ]
  },
  {
   "cell_type": "markdown",
   "metadata": {},
   "source": [
    "Parameters for the ABM"
   ]
  },
  {
   "cell_type": "code",
   "execution_count": null,
   "metadata": {},
   "outputs": [],
   "source": [
    "properties = Dict(:min_to_be_happy => 3)"
   ]
  },
  {
   "cell_type": "markdown",
   "metadata": {},
   "source": [
    "Define Schelling's model"
   ]
  },
  {
   "cell_type": "code",
   "execution_count": null,
   "metadata": {},
   "outputs": [],
   "source": [
    "schelling = ABM(SchellingAgent, space; properties)"
   ]
  },
  {
   "cell_type": "markdown",
   "metadata": {},
   "source": [
    "The `init_schelling()` function makes the model easier to reproduce and change its parameter(s)."
   ]
  },
  {
   "cell_type": "code",
   "execution_count": null,
   "metadata": {},
   "outputs": [],
   "source": [
    "function init_schelling(; numagents = 320, griddims = (20, 20), min_to_be_happy = 3, seed = 125)\n",
    "    space = GridSpace(griddims, periodic = false)\n",
    "    properties = Dict(:min_to_be_happy => min_to_be_happy)\n",
    "    rng = Random.MersenneTwister(seed)\n",
    "    model = ABM(\n",
    "        SchellingAgent, space;\n",
    "        properties,\n",
    "        rng,\n",
    "        scheduler = Schedulers.randomly\n",
    "    )\n",
    "\n",
    "    # Populate the model with agents, adding equal amount of the two types of agents at random positions in the model\n",
    "    for n in 1:numagents\n",
    "        agent = SchellingAgent(n, (1, 1), false, n < numagents / 2 ? 1 : 2)\n",
    "        # We don't have to set the starting position. Agents.jl will choose a random position.\n",
    "        add_agent_single!(agent, model)\n",
    "    end\n",
    "    return model\n",
    "end"
   ]
  },
  {
   "cell_type": "markdown",
   "metadata": {},
   "source": [
    "Finally, we define a step function agent_step!() to determine what happens to each agent. We use some built-in functions: nearby_agents() and  move_agent_single!()."
   ]
  },
  {
   "cell_type": "code",
   "execution_count": null,
   "metadata": {},
   "outputs": [],
   "source": [
    "function agent_step!(agent::SchellingAgent, model)\n",
    "    minhappy = model.min_to_be_happy\n",
    "    count_neighbors_same_group = 0\n",
    "    # For each neighbor, get group and compare to current agent's group\n",
    "    # and increment count_neighbors_same_group as appropriately.\n",
    "    # Here `nearby_agents` (with default arguments) will provide an iterator\n",
    "    # over the nearby agents one grid point away, which are at most 8.\n",
    "    for neighbor in nearby_agents(agent, model)\n",
    "        if agent.group == neighbor.group\n",
    "            count_neighbors_same_group += 1\n",
    "        end\n",
    "    end\n",
    "    if count_neighbors_same_group ≥ minhappy\n",
    "        agent.mood = true ## The agent is happy\n",
    "    else\n",
    "        move_agent_single!(agent, model) ## Move the agent to a random position\n",
    "    end\n",
    "    return nothing\n",
    "end"
   ]
  },
  {
   "cell_type": "markdown",
   "metadata": {},
   "source": [
    "## Running the model"
   ]
  },
  {
   "cell_type": "code",
   "execution_count": null,
   "metadata": {},
   "outputs": [],
   "source": [
    "model = init_schelling()"
   ]
  },
  {
   "cell_type": "markdown",
   "metadata": {},
   "source": [
    "The step!() function moves the model forward. The run!() function is similar to step!() but also collects data along the simulation.\n",
    "Step the model by one iteration"
   ]
  },
  {
   "cell_type": "code",
   "execution_count": null,
   "metadata": {},
   "outputs": [],
   "source": [
    "step!(model, agent_step!)"
   ]
  },
  {
   "cell_type": "markdown",
   "metadata": {},
   "source": [
    "Step the model by three iterations"
   ]
  },
  {
   "cell_type": "code",
   "execution_count": null,
   "metadata": {},
   "outputs": [],
   "source": [
    "step!(model, agent_step!, 3)"
   ]
  },
  {
   "cell_type": "markdown",
   "metadata": {},
   "source": [
    "## Visualization\n",
    "The `abmplot()` function visulizes the simulation result using Makie.jl.\n",
    "Here we use the Cairo backend"
   ]
  },
  {
   "cell_type": "code",
   "execution_count": null,
   "metadata": {},
   "outputs": [],
   "source": [
    "using CairoMakie"
   ]
  },
  {
   "cell_type": "markdown",
   "metadata": {},
   "source": [
    "Some helper functions to identify agent groups."
   ]
  },
  {
   "cell_type": "code",
   "execution_count": null,
   "metadata": {},
   "outputs": [],
   "source": [
    "groupcolor(a) = a.group == 1 ? :blue : :orange\n",
    "groupmarker(a) = a.group == 1 ? :circle : :rect"
   ]
  },
  {
   "cell_type": "markdown",
   "metadata": {},
   "source": [
    "Plot the initial conditions of the model"
   ]
  },
  {
   "cell_type": "code",
   "execution_count": null,
   "metadata": {},
   "outputs": [],
   "source": [
    "model = init_schelling(griddims = (30, 30), numagents = 500)\n",
    "figure, _ = Agents.abmplot(model; ac = groupcolor, am = groupmarker, as = 10)\n",
    "figure"
   ]
  },
  {
   "cell_type": "markdown",
   "metadata": {},
   "source": [
    "Let's make an animation about the simulation."
   ]
  },
  {
   "cell_type": "code",
   "execution_count": null,
   "metadata": {},
   "outputs": [],
   "source": [
    "model = init_schelling(griddims = (30, 30), numagents = 500)\n",
    "\n",
    "Agents.abmvideo(\n",
    "    \"schelling.mp4\", model, agent_step!;\n",
    "    ac = groupcolor, am = groupmarker, as = 10,\n",
    "    framerate = 4, frames = 20,\n",
    "    figure = (size=(400, 400),),\n",
    "    title = \"Schelling's segregation model\"\n",
    ")"
   ]
  },
  {
   "cell_type": "markdown",
   "metadata": {},
   "source": [
    "`display_mp4()` displays mp4 files in Jupyter notebooks"
   ]
  },
  {
   "cell_type": "code",
   "execution_count": null,
   "metadata": {},
   "outputs": [],
   "source": [
    "using Base64\n",
    "\n",
    "function display_mp4(filename)\n",
    "    display(\"text/html\", string(\"\"\"<video autoplay controls><source src=\"data:video/x-m4v;base64,\"\"\",\n",
    "        Base64.base64encode(open(read, filename)),\"\"\"\" type=\"video/mp4\"></video>\"\"\"))\n",
    "end\n",
    "\n",
    "display_mp4(\"schelling.mp4\")"
   ]
  },
  {
   "cell_type": "markdown",
   "metadata": {},
   "source": [
    "## Data analysis\n",
    "\n",
    "The `run!()` function runs simulation and collects data in the `DataFrame` format. The `adata` (aggregated data) keyword extacts information in the DataFrame.\n",
    "\n",
    "aggregated data (adata). fields we want to extract"
   ]
  },
  {
   "cell_type": "code",
   "execution_count": null,
   "metadata": {},
   "outputs": [],
   "source": [
    "adata = [:pos, :mood, :group]\n",
    "model = init_schelling()\n",
    "data, _ = run!(model, agent_step!, 5; adata)"
   ]
  },
  {
   "cell_type": "markdown",
   "metadata": {},
   "source": [
    "print only the first 10 rows"
   ]
  },
  {
   "cell_type": "code",
   "execution_count": null,
   "metadata": {},
   "outputs": [],
   "source": [
    "data[1:10, :]"
   ]
  },
  {
   "cell_type": "markdown",
   "metadata": {},
   "source": [
    "aggregated data also accepts functions extracting information"
   ]
  },
  {
   "cell_type": "code",
   "execution_count": null,
   "metadata": {},
   "outputs": [],
   "source": [
    "x = (agent) -> agent.pos[1]\n",
    "model = init_schelling()\n",
    "adata = [x, :mood, :group]\n",
    "data, _ = run!(model, agent_step!, 5; adata)\n",
    "data[1:10, :]"
   ]
  },
  {
   "cell_type": "markdown",
   "metadata": {},
   "source": [
    "## Launching an interactive app\n",
    "\n",
    "See [this section](https://juliadynamics.github.io/Agents.jl/stable/examples/schelling/#Launching-the-interactive-application-1) using `abm_data_exploration()` in the official tutorial.\n",
    "\n",
    "## Saving the model states\n",
    "\n",
    "- `AgentsIO.save_checkpoint()`\n",
    "- `AgentsIO.load_checkpoint()`\n",
    "\n",
    "https://juliadynamics.github.io/Agents.jl/stable/examples/schelling/#Saving/loading-the-model-state-1"
   ]
  }
 ],
 "metadata": {
  "kernelspec": {
   "display_name": "Julia 1.10.1",
   "language": "julia",
   "name": "julia-1.10"
  },
  "language_info": {
   "file_extension": ".jl",
   "mimetype": "application/julia",
   "name": "julia",
   "version": "1.10.1"
  }
 },
 "nbformat": 4,
 "nbformat_minor": 3
}
