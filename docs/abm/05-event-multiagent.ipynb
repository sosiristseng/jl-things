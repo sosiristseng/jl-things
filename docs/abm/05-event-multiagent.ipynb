{
 "cells": [
  {
   "cell_type": "markdown",
   "source": [
    "# Event-driven continuous-time multiagent model\n",
    "\n",
    "The spatial rock-paper-scissors (RPS) is an ABM with the following rules:\n",
    "\n",
    "+ Agents can be any of three \"kinds\": Rock, Paper, or Scissors.\n",
    "+ Agents live in a 2D periodic grid space allowing only one agent per cell.\n",
    "+ When an agent activates, it can do one of three actions:\n",
    "    1. Attack: choose a random nearby agent and attack it. If the agent loses the RPS game it gets removed.\n",
    "    2. Move: choose a random nearby position. If it is empty move to it, otherwise swap positions with the agent there.\n",
    "    3. Reproduce: choose a random empty nearby position (if any exist). Generate there a new agent of the same type."
   ],
   "metadata": {}
  },
  {
   "outputs": [],
   "cell_type": "code",
   "source": [
    "using Agents\n",
    "using Random\n",
    "using LinearAlgebra\n",
    "using Base64\n",
    "using Agents.DataFrames\n",
    "using CairoMakie\n",
    "CairoMakie.activate!(px_per_unit = 1.0)\n",
    "\n",
    "function display_mp4(filename)\n",
    "    display(\"text/html\", string(\"\"\"<video autoplay controls><source src=\"data:video/x-m4v;base64,\"\"\",\n",
    "        Base64.base64encode(open(read, filename)), \"\"\"\" type=\"video/mp4\"></video>\"\"\"))\n",
    "end"
   ],
   "metadata": {},
   "execution_count": null
  },
  {
   "cell_type": "markdown",
   "source": [
    "Rock, Paper, or Scissors (RPS) agent\n",
    "The agent type could be obtained via `kindof(agent)`"
   ],
   "metadata": {}
  },
  {
   "outputs": [],
   "cell_type": "code",
   "source": [
    "@multiagent struct RPS(GridAgent{2})\n",
    "    @subagent struct Rock end\n",
    "    @subagent struct Paper end\n",
    "    @subagent struct Scissors end\n",
    "end"
   ],
   "metadata": {},
   "execution_count": null
  },
  {
   "cell_type": "markdown",
   "source": [
    "Attack actions"
   ],
   "metadata": {}
  },
  {
   "outputs": [],
   "cell_type": "code",
   "source": [
    "function attack!(agent, model)\n",
    "    # Randomly pick a nearby agent\n",
    "    contender = random_nearby_agent(agent, model)\n",
    "    # do nothing if there isn't anyone nearby\n",
    "    isnothing(contender) && return\n",
    "    # else perform standard rock paper scissors logic\n",
    "    # and remove the contender if you win.\n",
    "    # Remember to compare agents with `kindof` instead of\n",
    "    # `typeof` since we use `@multiagent`\n",
    "    kind = kindof(agent)\n",
    "    kindc = kindof(contender)\n",
    "    if kind === :Rock && kindc === :Scissors\n",
    "        remove_agent!(contender, model)\n",
    "    elseif kind === :Scissors && kindc === :Paper\n",
    "        remove_agent!(contender, model)\n",
    "    elseif kind === :Paper && kindc === :Rock\n",
    "        remove_agent!(contender, model)\n",
    "    end\n",
    "    return\n",
    "end"
   ],
   "metadata": {},
   "execution_count": null
  },
  {
   "cell_type": "markdown",
   "source": [
    "Move actions\n",
    "Use `move_agent!` and `swap_agents!` functions"
   ],
   "metadata": {}
  },
  {
   "outputs": [],
   "cell_type": "code",
   "source": [
    "function move!(agent, model)\n",
    "    rand_pos = random_nearby_position(agent.pos, model)\n",
    "    if isempty(rand_pos, model)\n",
    "        move_agent!(agent, rand_pos, model)\n",
    "    else\n",
    "        occupant_id = id_in_position(rand_pos, model)\n",
    "        occupant = model[occupant_id]\n",
    "        swap_agents!(agent, occupant, model)\n",
    "    end\n",
    "    return\n",
    "end"
   ],
   "metadata": {},
   "execution_count": null
  },
  {
   "cell_type": "markdown",
   "source": [
    "Reproduce actions\n",
    "Use `replicate!` function"
   ],
   "metadata": {}
  },
  {
   "outputs": [],
   "cell_type": "code",
   "source": [
    "function reproduce!(agent, model)\n",
    "    pos = random_nearby_position(agent, model, 1, pos -> isempty(pos, model))\n",
    "    isnothing(pos) && return\n",
    "    # pass target position as a keyword argument\n",
    "    replicate!(agent, model; pos)\n",
    "    return\n",
    "end"
   ],
   "metadata": {},
   "execution_count": null
  },
  {
   "cell_type": "markdown",
   "source": [
    "Defining the propensity (\"rate\" in Gillespie stochastic simulations) and timing of the events"
   ],
   "metadata": {}
  },
  {
   "outputs": [],
   "cell_type": "code",
   "source": [
    "attack_propensity = 1.0\n",
    "movement_propensity = 0.5\n",
    "reproduction_propensity(agent, model) = cos(abmtime(model))^2"
   ],
   "metadata": {},
   "execution_count": null
  },
  {
   "cell_type": "markdown",
   "source": [
    "Register events with `AgentEvent` structures"
   ],
   "metadata": {}
  },
  {
   "outputs": [],
   "cell_type": "code",
   "source": [
    "attack_event = AgentEvent(action! = attack!, propensity = attack_propensity)\n",
    "reproduction_event = AgentEvent(action! = reproduce!, propensity = reproduction_propensity)"
   ],
   "metadata": {},
   "execution_count": null
  },
  {
   "cell_type": "markdown",
   "source": [
    "We want a different distribution other than exponential dist. for movement time"
   ],
   "metadata": {}
  },
  {
   "outputs": [],
   "cell_type": "code",
   "source": [
    "function movement_time(agent, model, propensity)\n",
    "    # Make time around 1\n",
    "    t = 0.1 * randn(abmrng(model)) + 1\n",
    "    return clamp(t, 0, Inf)\n",
    "end"
   ],
   "metadata": {},
   "execution_count": null
  },
  {
   "cell_type": "markdown",
   "source": [
    "Also the rocks do not move"
   ],
   "metadata": {}
  },
  {
   "outputs": [],
   "cell_type": "code",
   "source": [
    "movement_event = AgentEvent(\n",
    "    action! = move!, propensity = movement_propensity,\n",
    "    kinds = (:Scissors, :Paper), timing = movement_time\n",
    ")"
   ],
   "metadata": {},
   "execution_count": null
  },
  {
   "cell_type": "markdown",
   "source": [
    "Those are all the events"
   ],
   "metadata": {}
  },
  {
   "outputs": [],
   "cell_type": "code",
   "source": [
    "events = (attack_event, reproduction_event, movement_event)"
   ],
   "metadata": {},
   "execution_count": null
  },
  {
   "cell_type": "markdown",
   "source": [
    "Model factory function\n",
    "`EventQueueABM` for an event-driven ABM"
   ],
   "metadata": {}
  },
  {
   "outputs": [],
   "cell_type": "code",
   "source": [
    "function initialize_rps(; n = 100, nx = n, ny = n, seed = 42)\n",
    "    space = GridSpaceSingle((nx, ny))\n",
    "    rng = Xoshiro(seed)\n",
    "    model = EventQueueABM(RPS, events, space; rng, warn = false)\n",
    "    for p in positions(model)\n",
    "        # Randomly assign one of the agent\n",
    "        type = rand(abmrng(model), (Rock, Paper, Scissors))\n",
    "        add_agent!(p, type, model)\n",
    "    end\n",
    "    return model\n",
    "end"
   ],
   "metadata": {},
   "execution_count": null
  },
  {
   "cell_type": "markdown",
   "source": [
    "Create model"
   ],
   "metadata": {}
  },
  {
   "outputs": [],
   "cell_type": "code",
   "source": [
    "model = initialize_rps()"
   ],
   "metadata": {},
   "execution_count": null
  },
  {
   "cell_type": "markdown",
   "source": [
    "Have a look at the event queue"
   ],
   "metadata": {}
  },
  {
   "outputs": [],
   "cell_type": "code",
   "source": [
    "abmqueue(model)"
   ],
   "metadata": {},
   "execution_count": null
  },
  {
   "cell_type": "markdown",
   "source": [
    "The time in `EventQueueABM` is continuous, so we can pass real-valued time"
   ],
   "metadata": {}
  },
  {
   "outputs": [],
   "cell_type": "code",
   "source": [
    "step!(model, 123.456)\n",
    "nagents(model)"
   ],
   "metadata": {},
   "execution_count": null
  },
  {
   "cell_type": "markdown",
   "source": [
    "step! also accepts a terminating condition"
   ],
   "metadata": {}
  },
  {
   "outputs": [],
   "cell_type": "code",
   "source": [
    "function terminate(model, t)\n",
    "    willterm = length(allagents(model)) < 5000\n",
    "    return willterm || (t > 1000.0)\n",
    "end\n",
    "\n",
    "model = initialize_rps()\n",
    "step!(model, terminate)\n",
    "abmtime(model)"
   ],
   "metadata": {},
   "execution_count": null
  },
  {
   "cell_type": "markdown",
   "source": [
    "## Data collection\n",
    "adata: aggregated data to extract information from the execution stats\n",
    "adf: agent data frame"
   ],
   "metadata": {}
  },
  {
   "outputs": [],
   "cell_type": "code",
   "source": [
    "model = initialize_rps()\n",
    "adata = [(a -> kindof(a) === X, count) for X in allkinds(RPS)]\n",
    "\n",
    "adf, mdf = run!(model, 100.0; adata, when = 0.5, dt = 0.01)\n",
    "adf[1:10, :]"
   ],
   "metadata": {},
   "execution_count": null
  },
  {
   "cell_type": "markdown",
   "source": [
    "## Visualize population change"
   ],
   "metadata": {}
  },
  {
   "outputs": [],
   "cell_type": "code",
   "source": [
    "tvec = adf[!, :time]  ## time as x axis\n",
    "populations = adf[:, Not(:time)]  ## agents as data\n",
    "alabels = [\"rocks\", \"papers\", \"scissors\"]\n",
    "\n",
    "fig = Figure();\n",
    "ax = Axis(fig[1,1]; xlabel = \"time\", ylabel = \"population\")\n",
    "for (i, l) in enumerate(alabels)\n",
    "    lines!(ax, tvec, populations[!, i]; label = l)\n",
    "end\n",
    "axislegend(ax)\n",
    "fig"
   ],
   "metadata": {},
   "execution_count": null
  },
  {
   "cell_type": "markdown",
   "source": [
    "## Visualize agent distribution"
   ],
   "metadata": {}
  },
  {
   "outputs": [],
   "cell_type": "code",
   "source": [
    "const colormap = Dict(:Rock => \"black\", :Scissors => \"gray\", :Paper => \"orange\")\n",
    "agent_color(agent) = colormap[kindof(agent)]\n",
    "plotkw = (agent_color, agent_marker = :rect, agent_size = 5)\n",
    "fig, ax, abmobs = abmplot(model; plotkw...)\n",
    "\n",
    "fig"
   ],
   "metadata": {},
   "execution_count": null
  },
  {
   "cell_type": "markdown",
   "source": [
    "## Animation"
   ],
   "metadata": {}
  },
  {
   "outputs": [],
   "cell_type": "code",
   "source": [
    "model = initialize_rps()\n",
    "abmvideo(\"rps_eventqueue.mp4\", model;\n",
    "    dt = 0.5, frames = 300,\n",
    "    title = \"Rock Paper Scissors (event based)\",\n",
    "    plotkw...,\n",
    ")\n",
    "\n",
    "display_mp4(\"rps_eventqueue.mp4\")"
   ],
   "metadata": {},
   "execution_count": null
  },
  {
   "cell_type": "markdown",
   "source": [
    "---\n",
    "\n",
    "*This notebook was generated using [Literate.jl](https://github.com/fredrikekre/Literate.jl).*"
   ],
   "metadata": {}
  }
 ],
 "nbformat_minor": 3,
 "metadata": {
  "language_info": {
   "file_extension": ".jl",
   "mimetype": "application/julia",
   "name": "julia",
   "version": "1.10.3"
  },
  "kernelspec": {
   "name": "julia-1.10",
   "display_name": "Julia 1.10.3",
   "language": "julia"
  }
 },
 "nbformat": 4
}
