{
 "cells": [
  {
   "cell_type": "markdown",
   "metadata": {},
   "source": [
    "# Flocking of birds\n",
    "\n",
    "The flock model illustrates how flocking behavior can emerge when each bird follows three simple rules:\n",
    "\n",
    "- maintain a minimum distance from other birds to avoid collision\n",
    "- fly towards the average position of neighbors\n",
    "- fly in the average direction of neighbors\n",
    "\n",
    "## Model setup"
   ]
  },
  {
   "cell_type": "code",
   "execution_count": null,
   "metadata": {},
   "outputs": [],
   "source": [
    "using Agents\n",
    "using Random\n",
    "using LinearAlgebra\n"
   ]
  },
  {
   "cell_type": "code",
   "execution_count": null,
   "metadata": {},
   "outputs": [],
   "source": [
    "@agent Bird ContinuousAgent{2} begin\n",
    "    speed::Float64\n",
    "    cohere_factor::Float64\n",
    "    separation::Float64\n",
    "    separate_factor::Float64\n",
    "    match_factor::Float64\n",
    "    visual_distance::Float64\n",
    "end\n"
   ]
  },
  {
   "cell_type": "code",
   "execution_count": null,
   "metadata": {},
   "outputs": [],
   "source": [
    "function init_flocking(;\n",
    "    n_birds = 100,\n",
    "    speed = 1.0,\n",
    "    cohere_factor = 0.25,\n",
    "    separation = 4.0,\n",
    "    separate_factor = 0.25,\n",
    "    match_factor = 0.01,\n",
    "    visual_distance = 5.0,\n",
    "    extent = (100, 100),\n",
    "    spacing = visual_distance / 1.5,\n",
    ")\n",
    "    space2d = ContinuousSpace(extent; spacing)\n",
    "    model = ABM(Bird, space2d, scheduler = Schedulers.Randomly())\n",
    "    for _ in 1:n_birds\n",
    "        vel = Tuple(rand(model.rng, 2) * 2 .- 1)\n",
    "        add_agent!(\n",
    "            model,\n",
    "            vel,\n",
    "            speed,\n",
    "            cohere_factor,\n",
    "            separation,\n",
    "            separate_factor,\n",
    "            match_factor,\n",
    "            visual_distance,\n",
    "        )\n",
    "    end\n",
    "    return model\n",
    "end\n"
   ]
  },
  {
   "cell_type": "code",
   "execution_count": null,
   "metadata": {},
   "outputs": [],
   "source": [
    "function agent_step!(bird::Bird, model)\n",
    "    ## Obtain the ids of neighbors within the bird's visual distance\n",
    "    neighbor_ids = nearby_ids(bird, model, bird.visual_distance)\n",
    "    N = 0\n",
    "    match = separate = cohere = (0.0, 0.0)\n",
    "    ## Calculate behaviour properties based on neighbors\n",
    "    for id in neighbor_ids\n",
    "        N += 1\n",
    "        neighbor = model[id].pos\n",
    "        heading = neighbor .- bird.pos\n",
    "\n",
    "        ## `cohere` computes the average position of neighboring birds\n",
    "        cohere = cohere .+ heading\n",
    "        if edistance(bird.pos, neighbor, model) < bird.separation\n",
    "            ## `separate` repels the bird away from neighboring birds\n",
    "            separate = separate .- heading\n",
    "        end\n",
    "        ## `match` computes the average trajectory of neighboring birds\n",
    "        match = match .+ model[id].vel\n",
    "    end\n",
    "    N = max(N, 1)\n",
    "    ## Normalise results based on model input and neighbor count\n",
    "    cohere = cohere ./ N .* bird.cohere_factor\n",
    "    separate = separate ./ N .* bird.separate_factor\n",
    "    match = match ./ N .* bird.match_factor\n",
    "    ## Compute velocity based on rules defined above\n",
    "    bird.vel = (bird.vel .+ cohere .+ separate .+ match) ./ 2\n",
    "    bird.vel = bird.vel ./ norm(bird.vel)\n",
    "    ## Move bird according to new velocity and speed\n",
    "    move_agent!(bird, model, bird.speed)\n",
    "end\n"
   ]
  },
  {
   "cell_type": "markdown",
   "metadata": {},
   "source": [
    "## Visualization"
   ]
  },
  {
   "cell_type": "code",
   "execution_count": null,
   "metadata": {},
   "outputs": [],
   "source": [
    "using CairoMakie\n",
    "\n",
    "const bird_polygon = Makie.Polygon(Point2f[(-0.5, -0.5), (1, 0), (-0.5, 0.5)])\n",
    "\n",
    "function bird_marker(b::Bird)\n",
    "    φ = atan(b.vel[2], b.vel[1])\n",
    "    rotate_polygon(bird_polygon, φ)\n",
    "end\n"
   ]
  },
  {
   "cell_type": "code",
   "execution_count": null,
   "metadata": {},
   "outputs": [],
   "source": [
    "model = init_flocking()\n",
    "figure, = Agents.abmplot(model; am = bird_marker)\n",
    "figure\n"
   ]
  },
  {
   "cell_type": "markdown",
   "metadata": {},
   "source": [
    "## Animation"
   ]
  },
  {
   "cell_type": "code",
   "execution_count": null,
   "metadata": {},
   "outputs": [],
   "source": [
    "model = init_flocking()\n",
    "\n",
    "Agents.abmvideo(\n",
    "    \"flocking.mp4\", model, agent_step!;\n",
    "    am = bird_marker,\n",
    "    framerate = 20, frames = 200,\n",
    "    figure = (size = (600, 600),),\n",
    "    title = \"Flocking\"\n",
    ")\n"
   ]
  },
  {
   "cell_type": "code",
   "execution_count": null,
   "metadata": {},
   "outputs": [],
   "source": [
    "using Base64\n",
    "\n",
    "function display_mp4(filename)\n",
    "    display(\"text/html\", string(\"\"\"<video autoplay controls><source src=\"data:video/x-m4v;base64,\"\"\",\n",
    "        Base64.base64encode(open(read, filename)),\"\"\"\" type=\"video/mp4\"></video>\"\"\"))\n",
    "end\n",
    "\n",
    "display_mp4(\"flocking.mp4\")\n"
   ]
  }
 ],
 "metadata": {
  "kernelspec": {
   "display_name": "Julia 1.10.0",
   "language": "julia",
   "name": "julia-1.10"
  },
  "language_info": {
   "file_extension": ".jl",
   "mimetype": "application/julia",
   "name": "julia",
   "version": "1.10.0"
  }
 },
 "nbformat": 4,
 "nbformat_minor": 2
}
