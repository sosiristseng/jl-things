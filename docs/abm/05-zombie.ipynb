{
 "cells": [
  {
   "cell_type": "markdown",
   "metadata": {},
   "source": [
    "# Zombie Outbreak: An OpenStreetMap Example\n",
    "Source: https://juliadynamics.github.io/Agents.jl/stable/examples/zombies/"
   ]
  },
  {
   "cell_type": "code",
   "execution_count": null,
   "metadata": {},
   "outputs": [],
   "source": [
    "using Agents\n",
    "using Random"
   ]
  },
  {
   "cell_type": "markdown",
   "metadata": {},
   "source": [
    "Define zombies/humans to be Openstreetmap (OSM) agents.\n",
    "\n",
    "The following code, which uses `@agent` macro, is equivalent to\n",
    "\n",
    "```julia\n",
    "mutable struct Zombie <: AbstractAgent\n",
    "    id::Int\n",
    "    pos::Tuple{Int, Int, Float64}\n",
    "    infected::Bool\n",
    "    speed::Float64\n",
    "end\n",
    "```"
   ]
  },
  {
   "cell_type": "code",
   "execution_count": null,
   "metadata": {},
   "outputs": [],
   "source": [
    "@agent Zombie OSMAgent begin\n",
    "    infected::Bool\n",
    "    speed::Float64\n",
    "end"
   ]
  },
  {
   "cell_type": "code",
   "execution_count": null,
   "metadata": {},
   "outputs": [],
   "source": [
    "function init_zombie(; seed = 1234)\n",
    "    map_path = OSM.test_map()\n",
    "    properties = Dict(:dt => 1 / 60)\n",
    "    model = ABM(\n",
    "        Zombie,\n",
    "        OpenStreetMapSpace(map_path);\n",
    "        properties = properties,\n",
    "        rng = Random.MersenneTwister(seed)\n",
    "    )\n",
    "\n",
    "    for id in 1:100\n",
    "        start = random_position(model) ## At an intersection\n",
    "        speed = rand(model.rng) * 5.0 + 2.0 ## Random speed from 2-7kmph\n",
    "        human = Zombie(id, start, false, speed)\n",
    "        add_agent_pos!(human, model)\n",
    "        OSM.plan_random_route!(human, model; limit = 50) ## try 50 times to find a random route\n",
    "    end\n",
    "\n",
    "    # We'll add patient zero at a specific (longitude, latitude)\n",
    "    start = OSM.nearest_road((9.9351811, 51.5328328), model)\n",
    "    finish = OSM.nearest_node((9.945125635913511, 51.530876112711745), model)\n",
    "\n",
    "    speed = rand(model.rng) * 5.0 + 2.0 ## Random speed from 2-7 kmph\n",
    "    zombie = add_agent!(start, model, true, speed)\n",
    "    plan_route!(zombie, finish, model)\n",
    "    # This function call creates & adds an agent, see `add_agent!`\n",
    "    return model\n",
    "end"
   ]
  },
  {
   "cell_type": "code",
   "execution_count": null,
   "metadata": {},
   "outputs": [],
   "source": [
    "function zombie_step!(agent::Zombie, model)\n",
    "    # Each agent will progress along their route\n",
    "    # Keep track of distance left to move this step, in case the agent reaches its\n",
    "    # destination early\n",
    "    distance_left = move_along_route!(agent, model, agent.speed * model.dt)\n",
    "\n",
    "    if is_stationary(agent, model) && rand(model.rng) < 0.1\n",
    "        # When stationary, give the agent a 10% chance of going somewhere else\n",
    "        OSM.plan_random_route!(agent, model; limit = 50)\n",
    "        # Start on new route, moving the remaining distance\n",
    "        move_along_route!(agent, model, distance_left)\n",
    "    end\n",
    "\n",
    "    if agent.infected\n",
    "        # Agents will be infected if they get too close (within 10m) to a zombie.\n",
    "        map(i -> model[i].infected = true, nearby_ids(agent, model, 0.01))\n",
    "    end\n",
    "    return\n",
    "end"
   ]
  },
  {
   "cell_type": "markdown",
   "metadata": {},
   "source": [
    "## Visulization"
   ]
  },
  {
   "cell_type": "code",
   "execution_count": null,
   "metadata": {},
   "outputs": [],
   "source": [
    "using CairoMakie\n",
    "using OSMMakie\n",
    "\n",
    "zombie_color(agent::Zombie) = agent.infected ? :green : :black\n",
    "zombie_size(agent::Zombie) = agent.infected ? 10 : 8\n",
    "\n",
    "model = init_zombie()\n",
    "\n",
    "Agents.abmvideo(\n",
    "    \"outbreak.mp4\",\n",
    "    model, zombie_step!;\n",
    "    title = \"Zombie outbreak\",\n",
    "    framerate = 15, frames = 200,\n",
    "    as=zombie_size, ac=zombie_color,\n",
    "    figure=(size=(300, 300),),\n",
    ")\n",
    "\n",
    "using Base64\n",
    "function display_mp4(filename)\n",
    "    display(\"text/html\", string(\"\"\"<video autoplay controls><source src=\"data:video/x-m4v;base64,\"\"\",\n",
    "        Base64.base64encode(open(read, filename)),\"\"\"\" type=\"video/mp4\"></video>\"\"\"))\n",
    "end\n",
    "\n",
    "display_mp4(\"outbreak.mp4\")"
   ]
  }
 ],
 "metadata": {
  "kernelspec": {
   "display_name": "Julia 1.10.1",
   "language": "julia",
   "name": "julia-1.10"
  },
  "language_info": {
   "file_extension": ".jl",
   "mimetype": "application/julia",
   "name": "julia",
   "version": "1.10.1"
  }
 },
 "nbformat": 4,
 "nbformat_minor": 3
}
