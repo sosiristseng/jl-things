{
 "cells": [
  {
   "cell_type": "markdown",
   "metadata": {},
   "source": [
    "# Agent-based Modeling\n",
    "\n",
    "Agent-based Modeling (ABM) is a simulation method where the autonomous agents interacting with the environment (space) and/or each other by a set of rules.\n",
    "\n",
    "The most obvious example of ABM is to simulate actions of non-player characters (NPCs) in computer games.\n",
    "\n",
    "ABM is able to model heterogeneously, i.e. it does not require the environment to be well stirred (as opposed to ODEs), continuous (as opposed to to PDEs), nor need the characteristics of each kind of agents to be identical (as opposed to SSAs).\n",
    "\n",
    "This makes ABM more flexible to model individual behaviors.\n",
    "- traffic jam\n",
    "- infectious disease spread\n",
    "- molecular interactions\n",
    "\n",
    "## Elements of ABM\n",
    "\n",
    "To use `Agents.jl`, we need to define:\n",
    "\n",
    "- The [**space**](https://juliadynamics.github.io/Agents.jl/stable/api/#Available-spaces-1) where the agents live\n",
    "- The [**agents**](https://juliadynamics.github.io/Agents.jl/stable/tutorial/#Agents.@agent) with self-defined properties.\n",
    "- The **model** to hold the `space`, the `agent`s, and other parameters (called `properties`)\n",
    "- The stepping function `step!()` to tell how the model evolve.\n",
    "\n",
    "## Could I do ABM by myself?\n",
    "\n",
    "Yes, you can define the agents, rules and stepping functions from scratch, but it's more convenient (and perhaps more performant) to use a test package like `Agents.jl`.\n",
    "\n",
    "## Resources\n",
    "\n",
    "- [Documentation](https://juliadynamics.github.io/Agents.jl/stable/) of `Agents.jl`.\n",
    "- [sir-julia](https://github.com/epirecipes/sir-julia) : Various implementations of the classical SIR model in Julia.\n",
    "\n",
    "## Runtime environment"
   ]
  },
  {
   "cell_type": "code",
   "execution_count": null,
   "metadata": {},
   "outputs": [],
   "source": [
    "import InteractiveUtils\n",
    "InteractiveUtils.versioninfo()\n"
   ]
  },
  {
   "cell_type": "code",
   "execution_count": null,
   "metadata": {},
   "outputs": [],
   "source": [
    "import Pkg\n",
    "Pkg.status()\n"
   ]
  }
 ],
 "metadata": {
  "kernelspec": {
   "display_name": "Julia 1.10.0",
   "language": "julia",
   "name": "julia-1.10"
  },
  "language_info": {
   "file_extension": ".jl",
   "mimetype": "application/julia",
   "name": "julia",
   "version": "1.10.0"
  }
 },
 "nbformat": 4,
 "nbformat_minor": 2
}
