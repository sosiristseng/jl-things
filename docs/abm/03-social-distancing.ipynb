{
 "cells": [
  {
   "cell_type": "markdown",
   "source": [
    "# COVID-19 social distancing model\n",
    "\n",
    "This continuous space model assumes people as circles bumping each other to simulate infection process.\n",
    "\n",
    "Source: [Agents.jl model zoo](https://juliadynamics.github.io/AgentsExampleZoo.jl/dev/examples/social_distancing/)"
   ],
   "metadata": {}
  },
  {
   "outputs": [],
   "cell_type": "code",
   "source": [
    "using Agents\n",
    "using Random\n",
    "using Base64\n",
    "using CairoMakie\n",
    "CairoMakie.activate!(px_per_unit = 1.0)\n",
    "\n",
    "function display_mp4(filename)\n",
    "    display(\"text/html\", string(\"\"\"<video autoplay controls><source src=\"data:video/x-m4v;base64,\"\"\",\n",
    "        Base64.base64encode(open(read, filename)), \"\"\"\" type=\"video/mp4\"></video>\"\"\"))\n",
    "end"
   ],
   "metadata": {},
   "execution_count": null
  },
  {
   "cell_type": "markdown",
   "source": [
    "Let us first create a simple model where balls move around in a continuous space. We need to create agents that comply with `ContinuousSpace`, i.e. they have a pos and vel fields, both of which are tuples of float numbers."
   ],
   "metadata": {}
  },
  {
   "outputs": [],
   "cell_type": "code",
   "source": [
    "@agent struct SocialAgent(ContinuousAgent{2, Float64})\n",
    "    mass::Float64\n",
    "end"
   ],
   "metadata": {},
   "execution_count": null
  },
  {
   "cell_type": "markdown",
   "source": [
    "Ball collision model"
   ],
   "metadata": {}
  },
  {
   "outputs": [],
   "cell_type": "code",
   "source": [
    "function ball_model(; speed=0.002, seed=42, model_step! = (m)->nothing)\n",
    "    space2d = ContinuousSpace((1, 1); spacing = 0.02)\n",
    "    rng = MersenneTwister(seed)\n",
    "    model = StandardABM(SocialAgent, space2d; agent_step!, model_step!, properties = Dict(:dt => 1.0), rng)\n",
    "\n",
    "    for i in 1:500\n",
    "        pos = Tuple(rand(rng, 2))\n",
    "        vel = sincos(2π * rand(rng)) .* speed\n",
    "        mass = 1.0\n",
    "        add_agent!(pos, model, vel, mass)\n",
    "    end\n",
    "    return model\n",
    "end"
   ],
   "metadata": {},
   "execution_count": null
  },
  {
   "cell_type": "markdown",
   "source": [
    "Move the agent in a continuous space"
   ],
   "metadata": {}
  },
  {
   "outputs": [],
   "cell_type": "code",
   "source": [
    "agent_step!(agent, model) = move_agent!(agent, model, model.dt)"
   ],
   "metadata": {},
   "execution_count": null
  },
  {
   "cell_type": "markdown",
   "source": [
    "## Visualization (I)"
   ],
   "metadata": {}
  },
  {
   "outputs": [],
   "cell_type": "code",
   "source": [
    "Agents.abmvideo(\n",
    "    \"socialdist1.mp4\", ball_model();\n",
    "    title=\"Ball Model\", agent_size=10,\n",
    "    frames=50, dt=2, framerate=25,\n",
    ")\n",
    "\n",
    "display_mp4(\"socialdist1.mp4\")"
   ],
   "metadata": {},
   "execution_count": null
  },
  {
   "cell_type": "markdown",
   "source": [
    "As you can see the agents move in a straight line in a periodic space without interactions. Let's change that."
   ],
   "metadata": {}
  },
  {
   "cell_type": "markdown",
   "source": [
    "## Billiard-like interaction\n",
    "\n",
    "We can simulate agent collisions using the API:\n",
    "\n",
    "- `interacting_pairs(m, radius, method)`\n",
    "- `elastic_collision!(a1, a2, :mass)`\n",
    "\n",
    "And we redefine the model stepping function with elastic collision:"
   ],
   "metadata": {}
  },
  {
   "outputs": [],
   "cell_type": "code",
   "source": [
    "function model_step!(model)\n",
    "    for (a1, a2) in interacting_pairs(model, 0.010, :nearest)\n",
    "        elastic_collision!(a1, a2, :mass)\n",
    "    end\n",
    "end\n",
    "\n",
    "Agents.abmvideo(\n",
    "    \"socialdist2.mp4\", ball_model(;model_step!);\n",
    "    title=\"Billiard-like\", agent_size=10,\n",
    "    frames=100, dt=2, framerate=25,\n",
    ")"
   ],
   "metadata": {},
   "execution_count": null
  },
  {
   "cell_type": "markdown",
   "source": [
    "## Immovable agents\n",
    "For the following social distancing example, it will become crucial that some agents don't move, and can't be moved (i.e. they stay \"isolated\"). This is very easy to do with the elastic_collision! function, we only have to make some agents have infinite mass."
   ],
   "metadata": {}
  },
  {
   "outputs": [],
   "cell_type": "code",
   "source": [
    "model3 = ball_model(;model_step!)\n",
    "\n",
    "for i in 1:400\n",
    "    agent = model3[i]\n",
    "    agent.mass = Inf\n",
    "    agent.vel = (0.0, 0.0)\n",
    "end\n",
    "\n",
    "Agents.abmvideo(\n",
    "    \"socialdist3.mp4\",\n",
    "    model3;\n",
    "    title=\"Billiard-like with stationary agents\",\n",
    "    agent_size=10,\n",
    "    frames=50, dt=2, framerate=25,\n",
    ")\n",
    "\n",
    "display_mp4(\"socialdist3.mp4\")"
   ],
   "metadata": {},
   "execution_count": null
  },
  {
   "cell_type": "markdown",
   "source": [
    "## Virus spread (SIR model)\n",
    "The agents can be infected with a disease and transfer the disease to other agents around them."
   ],
   "metadata": {}
  },
  {
   "outputs": [],
   "cell_type": "code",
   "source": [
    "@agent struct SIRAgent(ContinuousAgent{2, Float64})\n",
    "    mass::Float64       ## Movable or not\n",
    "    days_infected::Int  ## number of days since is infected\n",
    "    status::Symbol      ## :S, :I or :R\n",
    "    β::Float64          ## Transmission rate\n",
    "end\n",
    "\n",
    "const steps_per_day = 24\n",
    "\n",
    "function sir_initiation(;\n",
    "    infection_period = 30 * steps_per_day,\n",
    "    detection_time = 14 * steps_per_day,\n",
    "    reinfection_probability = 0.05,\n",
    "    isolated = 0.0, # in percentage\n",
    "    interaction_radius = 0.012,\n",
    "    dt = 1.0,\n",
    "    speed = 0.002,\n",
    "    death_rate = 0.044, # from website of WHO\n",
    "    N = 1000,\n",
    "    initial_infected = 5,\n",
    "    seed = 42,\n",
    "    βmin = 0.4,\n",
    "    βmax = 0.8,\n",
    ")\n",
    "\n",
    "    properties = (;\n",
    "        infection_period,\n",
    "        reinfection_probability,\n",
    "        detection_time,\n",
    "        death_rate,\n",
    "        interaction_radius,\n",
    "        dt,\n",
    "    )\n",
    "    space = ContinuousSpace((1,1); spacing = 0.02)\n",
    "    model = StandardABM(SIRAgent, space, agent_step! = sir_agent_step!,\n",
    "                        model_step! = sir_model_step!, properties = properties,\n",
    "                        rng = MersenneTwister(seed))\n",
    "\n",
    "    # Add initial individuals\n",
    "    for ind in 1:N\n",
    "        pos = Tuple(rand(abmrng(model), 2))\n",
    "        status = ind ≤ N - initial_infected ? :S : :I\n",
    "        isisolated = ind ≤ isolated * N\n",
    "        mass = isisolated ? Inf : 1.0\n",
    "        vel = isisolated ? (0.0, 0.0) : sincos(2π * rand(abmrng(model))) .* speed\n",
    "\n",
    "        β = (βmax - βmin) * rand(abmrng(model)) + βmin\n",
    "        add_agent!(pos, model, vel, mass, 0, status, β)\n",
    "    end\n",
    "\n",
    "    return model\n",
    "end"
   ],
   "metadata": {},
   "execution_count": null
  },
  {
   "cell_type": "markdown",
   "source": [
    "Stepping functions"
   ],
   "metadata": {}
  },
  {
   "outputs": [],
   "cell_type": "code",
   "source": [
    "function transmit!(a1, a2, reinfectprob, model)\n",
    "    # for transmission, only 1 can have the disease (otherwise nothing happens)\n",
    "    count(a.status == :I for a in (a1, a2)) ≠ 1 && return nothing\n",
    "    infected, healthy = a1.status == :I ? (a1, a2) : (a2, a1)\n",
    "    rng = abmrng(model)\n",
    "\n",
    "    rand(rng) > infected.β && return nothing\n",
    "\n",
    "    if healthy.status == :R\n",
    "        rand(rng) > reinfectprob && return nothing\n",
    "    end\n",
    "    healthy.status = :I\n",
    "    return nothing\n",
    "end\n",
    "\n",
    "function recover_or_die!(agent, model)\n",
    "    if agent.days_infected ≥ model.infection_period\n",
    "        if rand(abmrng(model)) ≤ model.death_rate\n",
    "            remove_agent!(agent, model)\n",
    "        else\n",
    "            agent.status = :R\n",
    "            agent.days_infected = 0\n",
    "        end\n",
    "    end\n",
    "    return nothing\n",
    "end\n",
    "\n",
    "function sir_model_step!(model)\n",
    "    r = model.interaction_radius\n",
    "    for (a1, a2) in interacting_pairs(model, r, :nearest)\n",
    "        transmit!(a1, a2, model.reinfection_probability, model)\n",
    "        elastic_collision!(a1, a2, :mass)\n",
    "    end\n",
    "    return nothing\n",
    "end\n",
    "\n",
    "update!(agent) = agent.status == :I && (agent.days_infected += 1)\n",
    "\n",
    "function sir_agent_step!(agent, model)\n",
    "    move_agent!(agent, model, model.dt)\n",
    "    update!(agent)\n",
    "    recover_or_die!(agent, model)\n",
    "end"
   ],
   "metadata": {},
   "execution_count": null
  },
  {
   "cell_type": "markdown",
   "source": [
    "Visualize the initial condition"
   ],
   "metadata": {}
  },
  {
   "outputs": [],
   "cell_type": "code",
   "source": [
    "sir_model = sir_initiation()"
   ],
   "metadata": {},
   "execution_count": null
  },
  {
   "cell_type": "markdown",
   "source": [
    "S = black; I = infectious; R = recovered"
   ],
   "metadata": {}
  },
  {
   "outputs": [],
   "cell_type": "code",
   "source": [
    "sir_colors(a) = a.status == :S ? \"#2b2b33\" : a.status == :I ? \"#bf2642\" : \"#338c54\""
   ],
   "metadata": {},
   "execution_count": null
  },
  {
   "cell_type": "markdown",
   "source": [
    "Plot figure"
   ],
   "metadata": {}
  },
  {
   "outputs": [],
   "cell_type": "code",
   "source": [
    "fig, ax, abmp = abmplot(sir_model; agent_color = sir_colors, agent_size = 10)\n",
    "fig"
   ],
   "metadata": {},
   "execution_count": null
  },
  {
   "cell_type": "markdown",
   "source": [
    "Animation time"
   ],
   "metadata": {}
  },
  {
   "outputs": [],
   "cell_type": "code",
   "source": [
    "sir_model = sir_initiation()\n",
    "\n",
    "abmvideo(\n",
    "    \"socialdist4.mp4\",\n",
    "    sir_model;\n",
    "    title = \"SIR model\",\n",
    "    frames = 80,\n",
    "    agent_color = sir_colors,\n",
    "    agent_size = 10,\n",
    "    dt = 1,\n",
    "    framerate = 20,\n",
    ")"
   ],
   "metadata": {},
   "execution_count": null
  },
  {
   "cell_type": "markdown",
   "source": [
    "## Analyzing exponential spread"
   ],
   "metadata": {}
  },
  {
   "outputs": [],
   "cell_type": "code",
   "source": [
    "infected(x) = count(i == :I for i in x)\n",
    "recovered(x) = count(i == :R for i in x)\n",
    "adata = [(:status, infected), (:status, recovered)]"
   ],
   "metadata": {},
   "execution_count": null
  },
  {
   "cell_type": "markdown",
   "source": [
    "Try different parameters"
   ],
   "metadata": {}
  },
  {
   "outputs": [],
   "cell_type": "code",
   "source": [
    "r1, r2 = 0.02, 0.05\n",
    "β1, β2 = 0.5, 0.1\n",
    "sir_model1 = sir_initiation(reinfection_probability=r1, βmax=β1)\n",
    "sir_model2 = sir_initiation(reinfection_probability=r2, βmax=β1)\n",
    "sir_model3 = sir_initiation(reinfection_probability=r1, βmax=β2)\n",
    "\n",
    "data1, _ = run!(sir_model1, 3000; adata)\n",
    "data2, _ = run!(sir_model2, 3000; adata)\n",
    "data3, _ = run!(sir_model3, 3000; adata)\n",
    "\n",
    "data1[(end-10):end, :]"
   ],
   "metadata": {},
   "execution_count": null
  },
  {
   "outputs": [],
   "cell_type": "code",
   "source": [
    "figure = Figure()\n",
    "ax = figure[1, 1] = Axis(figure; ylabel = \"Infected\")\n",
    "l1 = lines!(ax, data1[:, dataname((:status, infected))], color = :orange)\n",
    "l2 = lines!(ax, data2[:, dataname((:status, infected))], color = :blue)\n",
    "l3 = lines!(ax, data3[:, dataname((:status, infected))], color = :green)\n",
    "figure[1, 2][1,1] = Legend(figure, [l1, l2, l3], [\"r=$r1, beta=$β1\", \"r=$r2, beta=$β1\", \"r=$r1, beta=$β2\"])\n",
    "figure"
   ],
   "metadata": {},
   "execution_count": null
  },
  {
   "cell_type": "markdown",
   "source": [
    "## Social distancing\n",
    "The simplest way to model social distancing is to make some agents not move. Here we make 80% of the agents not move."
   ],
   "metadata": {}
  },
  {
   "outputs": [],
   "cell_type": "code",
   "source": [
    "sir_model = sir_initiation(isolated=0.80)\n",
    "\n",
    "Agents.abmvideo(\n",
    "    \"socialdist5.mp4\",\n",
    "    sir_model;\n",
    "    title=\"Social Distancing\",\n",
    "    frames=200,\n",
    "    dt=2,\n",
    "    agent_color=sir_colors,\n",
    "    agent_size = 10,\n",
    "    framerate=20,\n",
    ")\n",
    "\n",
    "display_mp4(\"socialdist5.mp4\")"
   ],
   "metadata": {},
   "execution_count": null
  },
  {
   "cell_type": "markdown",
   "source": [
    "Compare the number of infected agents for different parameters."
   ],
   "metadata": {}
  },
  {
   "outputs": [],
   "cell_type": "code",
   "source": [
    "r4 = 0.02\n",
    "sir_model4 = sir_initiation(reinfection_probability=r4, βmax=β1, isolated=0.80)\n",
    "\n",
    "data4, _ = run!(sir_model4, 3000; adata)\n",
    "\n",
    "figure = Figure()\n",
    "ax = figure[1, 1] = Axis(figure; ylabel=\"Infected\", xlabel=\"Steps\")\n",
    "l1 = lines!(ax, data1[:, dataname((:status, infected))], color=:orange)\n",
    "l2 = lines!(ax, data2[:, dataname((:status, infected))], color=:blue)\n",
    "l3 = lines!(ax, data3[:, dataname((:status, infected))], color=:green)\n",
    "l4 = lines!(ax, data4[:, dataname((:status, infected))], color=:red)\n",
    "figure[1, 2] = Legend(\n",
    "    figure,\n",
    "    [l1, l2, l3, l4],\n",
    "    [\"r=$r1, beta=$β1\", \"r=$r2, beta=$β1\", \"r=$r1, beta=$β2\", \"r=$r4, social distancing\"],\n",
    ")\n",
    "figure"
   ],
   "metadata": {},
   "execution_count": null
  },
  {
   "cell_type": "markdown",
   "source": [
    "---\n",
    "\n",
    "*This notebook was generated using [Literate.jl](https://github.com/fredrikekre/Literate.jl).*"
   ],
   "metadata": {}
  }
 ],
 "nbformat_minor": 3,
 "metadata": {
  "language_info": {
   "file_extension": ".jl",
   "mimetype": "application/julia",
   "name": "julia",
   "version": "1.10.3"
  },
  "kernelspec": {
   "name": "julia-1.10",
   "display_name": "Julia 1.10.3",
   "language": "julia"
  }
 },
 "nbformat": 4
}
