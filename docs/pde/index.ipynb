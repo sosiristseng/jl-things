{
 "cells": [
  {
   "cell_type": "markdown",
   "source": [
    "# Partial Differential Eqautions (PDEs)\n",
    "\n",
    "Solving partial differential eqautions (PDEs) using https://github.com/SciML/MethodOfLines.jl\n",
    "\n",
    "## Other PDE packages\n",
    "\n",
    "- https://github.com/Ferrite-FEM/Ferrite.jl (Finite Element method)\n",
    "- https://github.com/gridap/Gridap.jl and its [tutorials](https://github.com/gridap/Tutorials)\n",
    "- https://github.com/trixi-framework/Trixi.jl\n",
    "- https://github.com/weymouth/WaterLily.jl for fluid dynamics.\n",
    "\n",
    "## PDE courses\n",
    "\n",
    "- [Solving partial differential equations in parallel on GPUs](https://github.com/eth-vaw-glaciology/course-101-0250-00)\n",
    "\n",
    "## Using neural networks to solve differential equations\n",
    "\n",
    "- Universal Differential Equations (UDEs): https://github.com/SciML/DiffEqFlux.jl\n",
    "- Physically-infomed neural networks (PINNs): https://github.com/SciML/NeuralPDE.jl\n",
    "\n",
    "`DiffEqFlux` is generally more efficient than `NeuralPDE` because `NeuralPDE` also tries to discover physical rules in the data, as mentioned in [this thread](https://discourse.julialang.org/t/comparisons-between-julia-neuralpde-jl-and-diffeqflux-jl-and-deepxde-python-package/52669).\n",
    "\n",
    "## Runtime information"
   ],
   "metadata": {}
  },
  {
   "outputs": [],
   "cell_type": "code",
   "source": [
    "import InteractiveUtils\n",
    "InteractiveUtils.versioninfo()"
   ],
   "metadata": {},
   "execution_count": null
  },
  {
   "outputs": [],
   "cell_type": "code",
   "source": [
    "import Pkg\n",
    "Pkg.status()"
   ],
   "metadata": {},
   "execution_count": null
  },
  {
   "cell_type": "markdown",
   "source": [
    "---\n",
    "\n",
    "*This notebook was generated using [Literate.jl](https://github.com/fredrikekre/Literate.jl).*"
   ],
   "metadata": {}
  }
 ],
 "nbformat_minor": 3,
 "metadata": {
  "language_info": {
   "file_extension": ".jl",
   "mimetype": "application/julia",
   "name": "julia",
   "version": "1.10.0"
  },
  "kernelspec": {
   "name": "julia-1.10",
   "display_name": "Julia 1.10.0",
   "language": "julia"
  }
 },
 "nbformat": 4
}
