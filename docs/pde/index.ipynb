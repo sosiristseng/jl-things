{
 "cells": [
  {
   "attachments": {},
   "cell_type": "markdown",
   "metadata": {},
   "source": [
    "# Partial Differential Eqautions (PDEs)\n",
    "\n",
    "Solving partial differential eqautions (PDEs) using https://github.com/SciML/MethodOfLines.jl\n",
    "\n",
    "## Other PDE packages\n",
    "\n",
    "- https://github.com/Ferrite-FEM/Ferrite.jl (Finite Element method)\n",
    "- https://github.com/gridap/Gridap.jl and its [tutorials](https://github.com/gridap/Tutorials)\n",
    "- https://github.com/trixi-framework/Trixi.jl\n",
    "- https://github.com/weymouth/WaterLily.jl for fluid dynamics.\n",
    "\n",
    "## PDE courses\n",
    "\n",
    "- [Solving partial differential equations in parallel on GPUs](https://github.com/eth-vaw-glaciology/course-101-0250-00)\n",
    "\n",
    "## Using neural networks to solve differential equations\n",
    "\n",
    "- Universal Differential Equations (UDEs): https://github.com/SciML/DiffEqFlux.jl\n",
    "- Physically-infomed neural networks (PINNs): https://github.com/SciML/NeuralPDE.jl\n",
    "\n",
    "`DiffEqFlux` is generally more efficient than `NeuralPDE` because `NeuralPDE` also tries to discover physical rules in the data, as mentioned in [this thread](https://discourse.julialang.org/t/comparisons-between-julia-neuralpde-jl-and-diffeqflux-jl-and-deepxde-python-package/52669).\n",
    "\n",
    "## Related notes\n",
    "\n",
    "- [Differential equations](https://sosiristseng.github.io/jl-diffeq/)"
   ]
  },
  {
   "attachments": {},
   "cell_type": "markdown",
   "metadata": {},
   "source": [
    "## Runtime information"
   ]
  },
  {
   "cell_type": "code",
   "execution_count": null,
   "metadata": {},
   "outputs": [],
   "source": [
    "import Pkg\n",
    "Pkg.status()"
   ]
  },
  {
   "cell_type": "code",
   "execution_count": null,
   "metadata": {},
   "outputs": [],
   "source": [
    "InteractiveUtils.versioninfo()"
   ]
  }
 ],
 "metadata": {
  "kernelspec": {
   "display_name": "Julia 1.10.0",
   "language": "julia",
   "name": "julia-1.10"
  },
  "language_info": {
   "file_extension": ".jl",
   "mimetype": "application/julia",
   "name": "julia",
   "version": "1.10.0"
  },
  "orig_nbformat": 4
 },
 "nbformat": 4,
 "nbformat_minor": 2
}
