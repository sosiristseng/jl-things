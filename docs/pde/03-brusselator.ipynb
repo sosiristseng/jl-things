{
 "cells": [
  {
   "cell_type": "markdown",
   "metadata": {},
   "source": [
    "# Symbolic Brusselator PDE\n",
    "\n",
    "[Source](https://docs.sciml.ai/MethodOfLines/stable/tutorials/brusselator/)\n",
    "\n",
    "The Brusselator PDE:\n",
    "\n",
    "$$\n",
    "\\begin{align}\n",
    "\\frac{\\partial u}{\\partial t} &= 1 + u^2v - 4.4u + \\alpha (\\frac{\\partial^2 u}{\\partial x^2} + \\frac{\\partial^2 u}{\\partial y^2}) + f(x, y, t) \\\\\n",
    "\\frac{\\partial v}{\\partial t} &= 3.4u - u^2 v + \\alpha (\\frac{\\partial^2 u}{\\partial x^2} + \\frac{\\partial^2 u}{\\partial y^2})\n",
    "\\end{align}\n",
    "$$\n",
    "\n",
    "where\n",
    "\n",
    "$$\n",
    "f(x, y, t) =\n",
    "\\begin{cases}\n",
    "5 \\qquad \\text{if} (x - 0.3)^2 + (y - 0.6)^2 \\leq 0.1^2 \\ \\text{and} \\  t \\geq 1.1  \\\\\n",
    "0 \\qquad \\text{otherwise}\n",
    "\\end{cases}\n",
    "$$\n",
    "\n",
    "and the initial conditions are\n",
    "\n",
    "$$\n",
    "\\begin{align}\n",
    "u(x, y, 0) &= 22(y(1-y))^{1.5} \\\\\n",
    "v(x, y, 0) &= 27(x(1-x))^{1.5}\n",
    "\\end{align}\n",
    "$$\n",
    "\n",
    "with the periodic boundary condition\n",
    "\n",
    "$$\n",
    "\\begin{align}\n",
    "u(x+1, y, 0) &= u(x, y, t)  \\\\\n",
    "u(x, y+1, 0) &= u(x, y, t)\n",
    "\\end{align}\n",
    "$$\n",
    "\n",
    "on a timespan of $t \\in [0, 11.5]$."
   ]
  },
  {
   "cell_type": "code",
   "execution_count": null,
   "metadata": {},
   "outputs": [],
   "source": [
    "using ModelingToolkit\n",
    "using MethodOfLines\n",
    "using DifferentialEquations\n",
    "using DomainSets\n",
    "using Plots\n",
    "Plots.default(fmt=:png)"
   ]
  },
  {
   "cell_type": "code",
   "execution_count": null,
   "metadata": {},
   "outputs": [],
   "source": [
    "@parameters x y t\n",
    "@variables u(..) v(..)\n",
    "\n",
    "Dt = Differential(t)\n",
    "Dx = Differential(x)\n",
    "Dy = Differential(y)\n",
    "Dxx = Differential(x)^2\n",
    "Dyy = Differential(y)^2"
   ]
  },
  {
   "cell_type": "markdown",
   "metadata": {},
   "source": [
    "Laplacian"
   ]
  },
  {
   "cell_type": "code",
   "execution_count": null,
   "metadata": {},
   "outputs": [],
   "source": [
    "∇²(u) = Dxx(u) + Dyy(u)"
   ]
  },
  {
   "cell_type": "markdown",
   "metadata": {},
   "source": [
    "Dynamics on each grid point"
   ]
  },
  {
   "cell_type": "code",
   "execution_count": null,
   "metadata": {},
   "outputs": [],
   "source": [
    "brusselator_f(x, y, t) = (((x-0.3)^2 + (y-0.6)^2) <= 0.1^2) * (t >= 1.1) * 5\n",
    "\n",
    "x_min = y_min = t_min = 0.0\n",
    "x_max = y_max = 1.0\n",
    "t_max = 11.5\n",
    "α = 10.0\n",
    "\n",
    "u0(x,y,t) = 22(y*(1-y))^(3/2)\n",
    "v0(x,y,t) = 27(x*(1-x))^(3/2)"
   ]
  },
  {
   "cell_type": "markdown",
   "metadata": {},
   "source": [
    "Equations"
   ]
  },
  {
   "cell_type": "code",
   "execution_count": null,
   "metadata": {},
   "outputs": [],
   "source": [
    "eq = [\n",
    "    Dt(u(x,y,t)) ~ 1.0 + v(x,y,t) * u(x,y,t)^2 - 4.4 * u(x,y,t) + α * ∇²(u(x,y,t)) + brusselator_f(x, y, t),\n",
    "    Dt(v(x,y,t)) ~ 3.4 * u(x,y,t) - v(x,y,t) * u(x,y,t)^2 + α * ∇²(v(x,y,t))\n",
    "]"
   ]
  },
  {
   "cell_type": "markdown",
   "metadata": {},
   "source": [
    "Space and time domains"
   ]
  },
  {
   "cell_type": "code",
   "execution_count": null,
   "metadata": {},
   "outputs": [],
   "source": [
    "domains = [\n",
    "    x ∈ Interval(x_min, x_max),\n",
    "    y ∈ Interval(y_min, y_max),\n",
    "    t ∈ Interval(t_min, t_max)\n",
    "]"
   ]
  },
  {
   "cell_type": "markdown",
   "metadata": {},
   "source": [
    "Periodic boundary conditions"
   ]
  },
  {
   "cell_type": "code",
   "execution_count": null,
   "metadata": {},
   "outputs": [],
   "source": [
    "bcs = [\n",
    "    u(x,y,0) ~ u0(x,y,0),\n",
    "    u(0,y,t) ~ u(1,y,t),\n",
    "    u(x,0,t) ~ u(x,1,t),\n",
    "    v(x,y,0) ~ v0(x,y,0),\n",
    "    v(0,y,t) ~ v(1,y,t),\n",
    "    v(x,0,t) ~ v(x,1,t)\n",
    "]"
   ]
  },
  {
   "cell_type": "markdown",
   "metadata": {},
   "source": [
    "PDE system"
   ]
  },
  {
   "cell_type": "code",
   "execution_count": null,
   "metadata": {},
   "outputs": [],
   "source": [
    "@named pdesys = PDESystem(eq, bcs, domains, [x, y, t], [u(x,y,t), v(x,y,t)])"
   ]
  },
  {
   "cell_type": "markdown",
   "metadata": {},
   "source": [
    "Discretization"
   ]
  },
  {
   "cell_type": "code",
   "execution_count": null,
   "metadata": {},
   "outputs": [],
   "source": [
    "discretization = let N = 16\n",
    "    dx = (x_max - x_min) / N\n",
    "    dy = (y_max - y_min) / N\n",
    "    order = 2\n",
    "    discretization = MOLFiniteDifference([x=>dx, y=>dy], t, approx_order=order)\n",
    "end"
   ]
  },
  {
   "cell_type": "markdown",
   "metadata": {},
   "source": [
    "Discretize this PDESystem to an ODEProblem"
   ]
  },
  {
   "cell_type": "code",
   "execution_count": null,
   "metadata": {},
   "outputs": [],
   "source": [
    "prob = discretize(pdesys, discretization)"
   ]
  },
  {
   "cell_type": "markdown",
   "metadata": {},
   "source": [
    "Solvers: https://docs.sciml.ai/DiffEqDocs/stable/solvers/ode_solve/"
   ]
  },
  {
   "cell_type": "code",
   "execution_count": null,
   "metadata": {},
   "outputs": [],
   "source": [
    "sol = solve(prob, TRBDF2(), saveat=0.1)"
   ]
  },
  {
   "cell_type": "markdown",
   "metadata": {},
   "source": [
    "Prepare data"
   ]
  },
  {
   "cell_type": "code",
   "execution_count": null,
   "metadata": {},
   "outputs": [],
   "source": [
    "discrete_x = sol[x]\n",
    "discrete_y = sol[y]\n",
    "discrete_t = sol[t]\n",
    "\n",
    "solu = sol[u(x, y, t)]\n",
    "solv = sol[v(x, y, t)]\n",
    "\n",
    "umax = maximum(maximum, solu)\n",
    "vmax = maximum(maximum, solu)"
   ]
  },
  {
   "cell_type": "markdown",
   "metadata": {},
   "source": [
    "Visualization"
   ]
  },
  {
   "cell_type": "code",
   "execution_count": null,
   "metadata": {},
   "outputs": [],
   "source": [
    "using Plots\n",
    "\n",
    "anim = @animate for k in eachindex(discrete_t)\n",
    "    # Take2:end since in periodic condition, end === 1\n",
    "    heatmap(solu[2:end, 2:end, k], title=\"u @ t=$(discrete_t[k])\", clims = (0.0, 4.2))\n",
    "end\n",
    "\n",
    "mp4(anim, fps = 8)"
   ]
  },
  {
   "cell_type": "code",
   "execution_count": null,
   "metadata": {},
   "outputs": [],
   "source": [
    "anim = @animate for k in eachindex(discrete_t)\n",
    "    heatmap(solv[2:end, 2:end, k], title=\"v @ t=$(discrete_t[k])\", clims = (0.0, 4.2))\n",
    "end\n",
    "\n",
    "mp4(anim, fps = 8)"
   ]
  }
 ],
 "metadata": {
  "kernelspec": {
   "display_name": "Julia 1.10.0",
   "language": "julia",
   "name": "julia-1.10"
  },
  "language_info": {
   "file_extension": ".jl",
   "mimetype": "application/julia",
   "name": "julia",
   "version": "1.10.0"
  }
 },
 "nbformat": 4,
 "nbformat_minor": 3
}
