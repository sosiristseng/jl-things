{
 "cells": [
  {
   "attachments": {},
   "cell_type": "markdown",
   "metadata": {},
   "source": [
    "# SIS reaction diffusion model\n",
    "\n",
    "$$\n",
    "\\begin{align}\n",
    "\\frac{\\partial S}{\\partial t} &= d_S S_{xx} - \\beta(x)\\frac{SI}{S+I} + \\gamma(x)I  \\\\\n",
    "\\frac{\\partial I}{\\partial t} &= d_I I_{xx} + \\beta(x)\\frac{SI}{S+I} - \\gamma(x)I\n",
    "\\end{align}\n",
    "$$\n",
    "\n",
    "where $x \\in (0, 1)$\n",
    "\n",
    "Solve the steady-state problem $\\frac{\\partial S}{\\partial t} = \\frac{\\partial I}{\\partial t} = 0$\n",
    "\n",
    "The boundary condition: $\\frac{\\partial S}{\\partial x} = \\frac{\\partial I}{\\partial x} = 0$ for x = 0, 1\n",
    "\n",
    "The conservative relationship: $\\int^{1}_{0} (S(x) + I(x) ) dx = 1$\n",
    "\n",
    "Notations:\n",
    "- $x$ : location\n",
    "- $t$ : time\n",
    "- $S(x, t)$ : the density of susceptible populations\n",
    "- $I(x, t)$ : the density of infected populations\n",
    "- $d_S$ / $d_I$ : the diffusion coefficients for susceptible and infected individuals\n",
    "- $\\beta(x)$ : transmission rates\n",
    "- $\\gamma(x)$ : recovery rates"
   ]
  },
  {
   "cell_type": "code",
   "execution_count": null,
   "metadata": {},
   "outputs": [],
   "source": [
    "using DifferentialEquations, ModelingToolkit, MethodOfLines, DomainSets, Plots\n",
    "\n",
    "# Parameters, variables, and derivatives\n",
    "@parameters t x\n",
    "@parameters dS dI brn ϵ\n",
    "@variables S(..) I(..)\n",
    "Dt = Differential(t)\n",
    "Dx = Differential(x)\n",
    "Dxx = Differential(x)^2"
   ]
  },
  {
   "cell_type": "code",
   "execution_count": null,
   "metadata": {},
   "outputs": [],
   "source": [
    "# Define functions\n",
    "γ(x) = x + 1\n",
    "ratio(x, brn, ϵ) =  brn + ϵ * sinpi(2x)\n",
    "\n",
    "# 1D PDE and boundary conditions\n",
    "eq = [\n",
    "    Dt(S(t, x)) ~ dS * Dxx(S(t, x)) - ratio(x, brn, ϵ) * γ(x) * S(t, x) * I(t, x) / (S(t, x) + I(t, x)) + γ(x) * I(t, x),\n",
    "    Dt(I(t, x)) ~ dI * Dxx(I(t, x)) + ratio(x, brn, ϵ) * γ(x) * S(t, x) * I(t, x) / (S(t, x) + I(t, x)) - γ(x) * I(t, x)\n",
    "]\n",
    "\n",
    "# Boundary conditions\n",
    "bcs = [\n",
    "    S(0, x) ~ 0.9 + 0.1 * sinpi(2x),\n",
    "    I(0, x) ~ 0.1 + 0.1 * cospi(2x),\n",
    "    Dx(S(t, 0)) ~ 0.0,\n",
    "    Dx(S(t, 1)) ~ 0.0,\n",
    "    Dx(I(t, 0)) ~ 0.0,\n",
    "    Dx(I(t, 1)) ~ 0.0\n",
    "]\n",
    "\n",
    "# Space and time domains\n",
    "domains = [\n",
    "    t ∈ Interval(0.0, 10.0),\n",
    "    x ∈ Interval(0.0, 1.0)\n",
    "]"
   ]
  },
  {
   "attachments": {},
   "cell_type": "markdown",
   "metadata": {},
   "source": [
    "Define the PDE system"
   ]
  },
  {
   "cell_type": "code",
   "execution_count": null,
   "metadata": {},
   "outputs": [],
   "source": [
    "@named pdesys = PDESystem(eq, bcs, domains,\n",
    "    [t, x], ## Independent variables\n",
    "    [S(t, x), I(t, x)],  ## Dependent variables\n",
    "    [dS => 0.5, dI => 0.1, brn => 3, ϵ => 0.1] ## Initial conditions\n",
    ")"
   ]
  },
  {
   "attachments": {},
   "cell_type": "markdown",
   "metadata": {},
   "source": [
    "Method of lines discretization\n",
    "\n",
    "Need a small dx here for accuracy"
   ]
  },
  {
   "cell_type": "code",
   "execution_count": null,
   "metadata": {},
   "outputs": [],
   "source": [
    "dx = 0.01\n",
    "order = 2\n",
    "discretization = MOLFiniteDifference([x => dx], t)"
   ]
  },
  {
   "attachments": {},
   "cell_type": "markdown",
   "metadata": {},
   "source": [
    "Convert the PDE problem into an ODE problem"
   ]
  },
  {
   "cell_type": "code",
   "execution_count": null,
   "metadata": {},
   "outputs": [],
   "source": [
    "prob = discretize(pdesys, discretization)"
   ]
  },
  {
   "attachments": {},
   "cell_type": "markdown",
   "metadata": {},
   "source": [
    "## Solving time-dependent SIS epidemic model"
   ]
  },
  {
   "cell_type": "code",
   "execution_count": null,
   "metadata": {},
   "outputs": [],
   "source": [
    "sol = solve(prob, KenCarp4(), saveat=0.2)"
   ]
  },
  {
   "attachments": {},
   "cell_type": "markdown",
   "metadata": {},
   "source": [
    "Retrive the results"
   ]
  },
  {
   "cell_type": "code",
   "execution_count": null,
   "metadata": {},
   "outputs": [],
   "source": [
    "discrete_x = sol[x]\n",
    "discrete_t = sol[t]\n",
    "S_solution = sol[S(t, x)]\n",
    "I_solution = sol[I(t, x)]\n",
    "\n",
    "surface(discrete_x, discrete_t, S_solution, xlabel=\"Location\", ylabel=\"Time\")"
   ]
  },
  {
   "cell_type": "code",
   "execution_count": null,
   "metadata": {},
   "outputs": [],
   "source": [
    "surface(discrete_x, discrete_t, I_solution, xlabel=\"Location\", ylabel=\"Time\")"
   ]
  },
  {
   "attachments": {},
   "cell_type": "markdown",
   "metadata": {},
   "source": [
    "## Solving steady state problem"
   ]
  },
  {
   "cell_type": "code",
   "execution_count": null,
   "metadata": {},
   "outputs": [],
   "source": [
    "steadystateprob = SteadyStateProblem(prob)"
   ]
  },
  {
   "cell_type": "code",
   "execution_count": null,
   "metadata": {},
   "outputs": [],
   "source": [
    "steadystate = solve(steadystateprob, DynamicSS(TRBDF2()))"
   ]
  }
 ],
 "metadata": {
  "kernelspec": {
   "display_name": "Julia 1.10.0",
   "language": "julia",
   "name": "julia-1.10"
  },
  "language_info": {
   "file_extension": ".jl",
   "mimetype": "application/julia",
   "name": "julia",
   "version": "1.10.0"
  },
  "orig_nbformat": 4
 },
 "nbformat": 4,
 "nbformat_minor": 2
}
