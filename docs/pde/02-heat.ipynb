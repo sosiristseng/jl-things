{
 "cells": [
  {
   "cell_type": "markdown",
   "source": [
    "# Heat Equation\n",
    "\n",
    "Using `MethodOfLines.jl` (https://github.com/SciML/MethodOfLines.jl/) to sumbolically define the PDE system using the [finite difference method](https://en.wikipedia.org/wiki/Finite_difference_method) (FDM).\n",
    "\n",
    "## 2D steady-state heat equation\n",
    "\n",
    "From the [MethodOfLines tutorial](https://docs.sciml.ai/MethodOfLines/stable/tutorials/heatss/).\n",
    "\n",
    "$$\n",
    "\\frac{\\partial^2 u}{\\partial x^2} + \\frac{\\partial^2 u}{\\partial y^2} = 0\n",
    "$$"
   ],
   "metadata": {}
  },
  {
   "outputs": [],
   "cell_type": "code",
   "source": [
    "using ModelingToolkit\n",
    "using MethodOfLines\n",
    "using DomainSets\n",
    "using NonlinearSolve\n",
    "using DifferentialEquations\n",
    "using Plots\n",
    "PNG(img) = display(\"image/png\", img) ## Force PNG output"
   ],
   "metadata": {},
   "execution_count": null
  },
  {
   "outputs": [],
   "cell_type": "code",
   "source": [
    "@variables x y\n",
    "@variables u(..)\n",
    "\n",
    "Dxx = Differential(x)^2\n",
    "Dyy = Differential(y)^2"
   ],
   "metadata": {},
   "execution_count": null
  },
  {
   "cell_type": "markdown",
   "source": [
    "PDE equation"
   ],
   "metadata": {}
  },
  {
   "outputs": [],
   "cell_type": "code",
   "source": [
    "eq = Dxx(u(x, y)) + Dyy(u(x, y)) ~ 0"
   ],
   "metadata": {},
   "execution_count": null
  },
  {
   "cell_type": "markdown",
   "source": [
    "Boundary conditions"
   ],
   "metadata": {}
  },
  {
   "outputs": [],
   "cell_type": "code",
   "source": [
    "bcs = [\n",
    "    u(0, y) ~ x * y,\n",
    "    u(1, y) ~ x * y,\n",
    "    u(x, 0) ~ x * y,\n",
    "    u(x, 1) ~ x * y\n",
    "]"
   ],
   "metadata": {},
   "execution_count": null
  },
  {
   "cell_type": "markdown",
   "source": [
    "Space and time domains"
   ],
   "metadata": {}
  },
  {
   "outputs": [],
   "cell_type": "code",
   "source": [
    "domains = [\n",
    "    x ∈ Interval(0.0, 1.0),\n",
    "    y ∈ Interval(0.0, 1.0)\n",
    "]"
   ],
   "metadata": {},
   "execution_count": null
  },
  {
   "cell_type": "markdown",
   "source": [
    "PDE system"
   ],
   "metadata": {}
  },
  {
   "outputs": [],
   "cell_type": "code",
   "source": [
    "@named pdesys = PDESystem([eq], bcs, domains, [x, y], [u(x, y)])"
   ],
   "metadata": {},
   "execution_count": null
  },
  {
   "cell_type": "markdown",
   "source": [
    "Discretize the 2D sapce\n",
    "Note that we pass in `nothing` for the time variable here,\n",
    "since we are creating a stationary problem without a dependence on time, only on space."
   ],
   "metadata": {}
  },
  {
   "outputs": [],
   "cell_type": "code",
   "source": [
    "N = 8\n",
    "discretization = MOLFiniteDifference([x=>N, y=>N], nothing, approx_order=2, grid_align=edge_align, should_transform=false)"
   ],
   "metadata": {},
   "execution_count": null
  },
  {
   "cell_type": "markdown",
   "source": [
    "It's a `NonlinearProblem` for solving a steady-state"
   ],
   "metadata": {}
  },
  {
   "outputs": [],
   "cell_type": "code",
   "source": [
    "prob = discretize(pdesys, discretization)"
   ],
   "metadata": {},
   "execution_count": null
  },
  {
   "cell_type": "markdown",
   "source": [
    "Solve the PDE"
   ],
   "metadata": {}
  },
  {
   "outputs": [],
   "cell_type": "code",
   "source": [
    "sol = NonlinearSolve.solve(prob, NewtonRaphson())"
   ],
   "metadata": {},
   "execution_count": null
  },
  {
   "cell_type": "markdown",
   "source": [
    "Visualize the heat equation solution"
   ],
   "metadata": {}
  },
  {
   "outputs": [],
   "cell_type": "code",
   "source": [
    "fig = heatmap(\n",
    "    sol[x], sol[y], sol[u(x, y)],\n",
    "    xlabel=\"x values\", ylabel=\"y values\",\n",
    "    title=\"Steady State Heat Equation\",\n",
    "    aspect_ratio=:equal,\n",
    "    xlims=(0.0, 1.0), ylims=(0.0, 1.0), clims=(0.0, 1.0)\n",
    ");\n",
    "\n",
    "fig |> PNG"
   ],
   "metadata": {},
   "execution_count": null
  },
  {
   "cell_type": "markdown",
   "source": [
    "---\n",
    "\n",
    "*This notebook was generated using [Literate.jl](https://github.com/fredrikekre/Literate.jl).*"
   ],
   "metadata": {}
  }
 ],
 "nbformat_minor": 3,
 "metadata": {
  "language_info": {
   "file_extension": ".jl",
   "mimetype": "application/julia",
   "name": "julia",
   "version": "1.10.0"
  },
  "kernelspec": {
   "name": "julia-1.10",
   "display_name": "Julia 1.10.0",
   "language": "julia"
  }
 },
 "nbformat": 4
}
