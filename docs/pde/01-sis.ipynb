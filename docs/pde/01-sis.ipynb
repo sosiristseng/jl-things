{
 "cells": [
  {
   "cell_type": "markdown",
   "metadata": {},
   "source": [
    "# 1D PDE: SIS diffusion model\n",
    "\n",
    "[Source](https://docs.sciml.ai/MethodOfLines/stable/tutorials/sispde/)\n",
    "\n",
    "$$\n",
    "\\begin{align}\n",
    "\\frac{\\partial S}{\\partial t} &= d_S S_{xx} - \\beta(x)\\frac{SI}{S+I} + \\gamma(x)I  \\\\\n",
    "\\frac{\\partial I}{\\partial t} &= d_I I_{xx} + \\beta(x)\\frac{SI}{S+I} - \\gamma(x)I\n",
    "\\end{align}\n",
    "$$\n",
    "\n",
    "where $x \\in (0, 1)$\n",
    "\n",
    "Solve the steady-state problem $\\frac{\\partial S}{\\partial t} = \\frac{\\partial I}{\\partial t} = 0$\n",
    "\n",
    "The boundary condition: $\\frac{\\partial S}{\\partial x} = \\frac{\\partial I}{\\partial x} = 0$ for x = 0, 1\n",
    "\n",
    "The conservative relationship: $\\int^{1}_{0} (S(x) + I(x) ) dx = 1$\n",
    "\n",
    "Notations:\n",
    "\n",
    "- $x$ : location\n",
    "- $t$ : time\n",
    "- $S(x, t)$ : the density of susceptible populations\n",
    "- $I(x, t)$ : the density of infected populations\n",
    "- $d_S$ / $d_I$ : the diffusion coefficients for susceptible and infected individuals\n",
    "- $\\beta(x)$ : transmission rates\n",
    "- $\\gamma(x)$ : recovery rates"
   ]
  },
  {
   "cell_type": "code",
   "execution_count": null,
   "metadata": {},
   "outputs": [],
   "source": [
    "using OrdinaryDiffEq\n",
    "using ModelingToolkit\n",
    "using MethodOfLines\n",
    "using DomainSets\n",
    "using Plots"
   ]
  },
  {
   "cell_type": "markdown",
   "metadata": {},
   "source": [
    "Setup parameters, variables, and differential operators"
   ]
  },
  {
   "cell_type": "code",
   "execution_count": null,
   "metadata": {},
   "outputs": [],
   "source": [
    "@parameters t x\n",
    "@parameters dS dI brn ϵ\n",
    "@variables S(..) I(..)\n",
    "Dt = Differential(t)\n",
    "Dx = Differential(x)\n",
    "Dxx = Differential(x)^2"
   ]
  },
  {
   "cell_type": "markdown",
   "metadata": {},
   "source": [
    "Helper functions"
   ]
  },
  {
   "cell_type": "code",
   "execution_count": null,
   "metadata": {},
   "outputs": [],
   "source": [
    "γ(x) = x + 1\n",
    "ratio(x, brn, ϵ) =  brn + ϵ * sinpi(2x)"
   ]
  },
  {
   "cell_type": "markdown",
   "metadata": {},
   "source": [
    "1D PDE and boundary conditions"
   ]
  },
  {
   "cell_type": "code",
   "execution_count": null,
   "metadata": {},
   "outputs": [],
   "source": [
    "eqs = [\n",
    "    Dt(S(t, x)) ~ dS * Dxx(S(t, x)) - ratio(x, brn, ϵ) * γ(x) * S(t, x) * I(t, x) / (S(t, x) + I(t, x)) + γ(x) * I(t, x),\n",
    "    Dt(I(t, x)) ~ dI * Dxx(I(t, x)) + ratio(x, brn, ϵ) * γ(x) * S(t, x) * I(t, x) / (S(t, x) + I(t, x)) - γ(x) * I(t, x)\n",
    "]"
   ]
  },
  {
   "cell_type": "markdown",
   "metadata": {},
   "source": [
    "Boundary conditions"
   ]
  },
  {
   "cell_type": "code",
   "execution_count": null,
   "metadata": {},
   "outputs": [],
   "source": [
    "bcs = [\n",
    "    S(0, x) ~ 0.9 + 0.1 * sinpi(2x),\n",
    "    I(0, x) ~ 0.1 + 0.1 * cospi(2x),\n",
    "    Dx(S(t, 0)) ~ 0.0,\n",
    "    Dx(S(t, 1)) ~ 0.0,\n",
    "    Dx(I(t, 0)) ~ 0.0,\n",
    "    Dx(I(t, 1)) ~ 0.0\n",
    "]"
   ]
  },
  {
   "cell_type": "markdown",
   "metadata": {},
   "source": [
    "Space and time domains"
   ]
  },
  {
   "cell_type": "code",
   "execution_count": null,
   "metadata": {},
   "outputs": [],
   "source": [
    "domains = [\n",
    "    t ∈ Interval(0.0, 10.0),\n",
    "    x ∈ Interval(0.0, 1.0)\n",
    "]"
   ]
  },
  {
   "cell_type": "markdown",
   "metadata": {},
   "source": [
    "Define the PDE system"
   ]
  },
  {
   "cell_type": "code",
   "execution_count": null,
   "metadata": {},
   "outputs": [],
   "source": [
    "@named pdesys = PDESystem(eqs, bcs, domains,\n",
    "    [t, x], ## Independent variables\n",
    "    [S(t, x), I(t, x)],  ## Dependent variables\n",
    "    [dS => 0.5, dI => 0.1, brn => 3, ϵ => 0.1] ## Initial conditions\n",
    ")"
   ]
  },
  {
   "cell_type": "markdown",
   "metadata": {},
   "source": [
    "Finite difference method (FDM) converts the PDE system into an ODE problem"
   ]
  },
  {
   "cell_type": "code",
   "execution_count": null,
   "metadata": {},
   "outputs": [],
   "source": [
    "dx = 0.01\n",
    "order = 2\n",
    "discretization = MOLFiniteDifference([x => dx], t, approx_order=order)\n",
    "prob = discretize(pdesys, discretization)"
   ]
  },
  {
   "cell_type": "markdown",
   "metadata": {},
   "source": [
    "## Solving time-dependent SIS epidemic model\n",
    "`KenCarp4` is good at solving semilinear problems (like this one)."
   ]
  },
  {
   "cell_type": "code",
   "execution_count": null,
   "metadata": {},
   "outputs": [],
   "source": [
    "sol = solve(prob, KenCarp4(), saveat=0.2)"
   ]
  },
  {
   "cell_type": "markdown",
   "metadata": {},
   "source": [
    "Grid points"
   ]
  },
  {
   "cell_type": "code",
   "execution_count": null,
   "metadata": {},
   "outputs": [],
   "source": [
    "discrete_x = sol[x]\n",
    "discrete_t = sol[t]"
   ]
  },
  {
   "cell_type": "markdown",
   "metadata": {},
   "source": [
    "Results (Matrices)"
   ]
  },
  {
   "cell_type": "code",
   "execution_count": null,
   "metadata": {},
   "outputs": [],
   "source": [
    "S_solution = sol[S(t, x)]\n",
    "I_solution = sol[I(t, x)]"
   ]
  },
  {
   "cell_type": "markdown",
   "metadata": {},
   "source": [
    "Visualize"
   ]
  },
  {
   "cell_type": "code",
   "execution_count": null,
   "metadata": {},
   "outputs": [],
   "source": [
    "surface(discrete_x, discrete_t, S_solution, xlabel=\"Location\", ylabel=\"Time\", title=\"Susceptible\")"
   ]
  },
  {
   "cell_type": "code",
   "execution_count": null,
   "metadata": {},
   "outputs": [],
   "source": [
    "surface(discrete_x, discrete_t, I_solution, xlabel=\"Location\", ylabel=\"Time\", title=\"Infectious\")"
   ]
  },
  {
   "cell_type": "markdown",
   "metadata": {},
   "source": [
    "---\n",
    "\n",
    "*This notebook was generated using [Literate.jl](https://github.com/fredrikekre/Literate.jl).*"
   ]
  }
 ],
 "metadata": {
  "kernelspec": {
   "display_name": "Julia 1.10.3",
   "language": "julia",
   "name": "julia-1.10"
  },
  "language_info": {
   "file_extension": ".jl",
   "mimetype": "application/julia",
   "name": "julia",
   "version": "1.10.3"
  }
 },
 "nbformat": 4,
 "nbformat_minor": 3
}
