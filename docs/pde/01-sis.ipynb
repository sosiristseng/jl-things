{
 "cells": [
  {
   "cell_type": "markdown",
   "source": [
    "# SIS reaction diffusion model\n",
    "\n",
    "$$\n",
    "\\begin{align}\n",
    "\\frac{\\partial S}{\\partial t} &= d_S S_{xx} - \\beta(x)\\frac{SI}{S+I} + \\gamma(x)I  \\\\\n",
    "\\frac{\\partial I}{\\partial t} &= d_I I_{xx} + \\beta(x)\\frac{SI}{S+I} - \\gamma(x)I\n",
    "\\end{align}\n",
    "$$\n",
    "\n",
    "where $x \\in (0, 1)$\n",
    "\n",
    "Solve the steady-state problem $\\frac{\\partial S}{\\partial t} = \\frac{\\partial I}{\\partial t} = 0$\n",
    "\n",
    "The boundary condition: $\\frac{\\partial S}{\\partial x} = \\frac{\\partial I}{\\partial x} = 0$ for x = 0, 1\n",
    "\n",
    "The conservative relationship: $\\int^{1}_{0} (S(x) + I(x) ) dx = 1$\n",
    "\n",
    "Notations:\n",
    "- $x$ : location\n",
    "- $t$ : time\n",
    "- $S(x, t)$ : the density of susceptible populations\n",
    "- $I(x, t)$ : the density of infected populations\n",
    "- $d_S$ / $d_I$ : the diffusion coefficients for susceptible and infected individuals\n",
    "- $\\beta(x)$ : transmission rates\n",
    "- $\\gamma(x)$ : recovery rates"
   ],
   "metadata": {}
  },
  {
   "outputs": [],
   "cell_type": "code",
   "source": [
    "using DifferentialEquations, ModelingToolkit, MethodOfLines, DomainSets, Plots\n",
    "PNG(img) = display(\"image/png\", img) ## Force PNG output"
   ],
   "metadata": {},
   "execution_count": null
  },
  {
   "cell_type": "markdown",
   "source": [
    "Parameters, variables, and derivatives"
   ],
   "metadata": {}
  },
  {
   "outputs": [],
   "cell_type": "code",
   "source": [
    "@parameters t x\n",
    "@parameters dS dI brn ϵ\n",
    "@variables S(..) I(..)\n",
    "Dt = Differential(t)\n",
    "Dx = Differential(x)\n",
    "Dxx = Differential(x)^2"
   ],
   "metadata": {},
   "execution_count": null
  },
  {
   "cell_type": "markdown",
   "source": [
    "Define functions"
   ],
   "metadata": {}
  },
  {
   "outputs": [],
   "cell_type": "code",
   "source": [
    "γ(x) = x + 1\n",
    "ratio(x, brn, ϵ) =  brn + ϵ * sinpi(2x)"
   ],
   "metadata": {},
   "execution_count": null
  },
  {
   "cell_type": "markdown",
   "source": [
    "1D PDE and boundary conditions"
   ],
   "metadata": {}
  },
  {
   "outputs": [],
   "cell_type": "code",
   "source": [
    "eq = [\n",
    "    Dt(S(t, x)) ~ dS * Dxx(S(t, x)) - ratio(x, brn, ϵ) * γ(x) * S(t, x) * I(t, x) / (S(t, x) + I(t, x)) + γ(x) * I(t, x),\n",
    "    Dt(I(t, x)) ~ dI * Dxx(I(t, x)) + ratio(x, brn, ϵ) * γ(x) * S(t, x) * I(t, x) / (S(t, x) + I(t, x)) - γ(x) * I(t, x)\n",
    "]"
   ],
   "metadata": {},
   "execution_count": null
  },
  {
   "cell_type": "markdown",
   "source": [
    "Boundary conditions"
   ],
   "metadata": {}
  },
  {
   "outputs": [],
   "cell_type": "code",
   "source": [
    "bcs = [\n",
    "    S(0, x) ~ 0.9 + 0.1 * sinpi(2x),\n",
    "    I(0, x) ~ 0.1 + 0.1 * cospi(2x),\n",
    "    Dx(S(t, 0)) ~ 0.0,\n",
    "    Dx(S(t, 1)) ~ 0.0,\n",
    "    Dx(I(t, 0)) ~ 0.0,\n",
    "    Dx(I(t, 1)) ~ 0.0\n",
    "]"
   ],
   "metadata": {},
   "execution_count": null
  },
  {
   "cell_type": "markdown",
   "source": [
    "Space and time domains"
   ],
   "metadata": {}
  },
  {
   "outputs": [],
   "cell_type": "code",
   "source": [
    "domains = [\n",
    "    t ∈ Interval(0.0, 10.0),\n",
    "    x ∈ Interval(0.0, 1.0)\n",
    "]"
   ],
   "metadata": {},
   "execution_count": null
  },
  {
   "cell_type": "markdown",
   "source": [
    "Define the PDE system"
   ],
   "metadata": {}
  },
  {
   "outputs": [],
   "cell_type": "code",
   "source": [
    "@named pdesys = PDESystem(eq, bcs, domains,\n",
    "    [t, x], ## Independent variables\n",
    "    [S(t, x), I(t, x)],  ## Dependent variables\n",
    "    [dS => 0.5, dI => 0.1, brn => 3, ϵ => 0.1] ## Initial conditions\n",
    ")"
   ],
   "metadata": {},
   "execution_count": null
  },
  {
   "cell_type": "markdown",
   "source": [
    "Method of lines discretization needs a small dx here for accuracy"
   ],
   "metadata": {}
  },
  {
   "outputs": [],
   "cell_type": "code",
   "source": [
    "dx = 0.01\n",
    "order = 2\n",
    "discretization = MOLFiniteDifference([x => dx], t)"
   ],
   "metadata": {},
   "execution_count": null
  },
  {
   "cell_type": "markdown",
   "source": [
    "Convert the PDE problem into an ODE problem"
   ],
   "metadata": {}
  },
  {
   "outputs": [],
   "cell_type": "code",
   "source": [
    "prob = discretize(pdesys, discretization)"
   ],
   "metadata": {},
   "execution_count": null
  },
  {
   "cell_type": "markdown",
   "source": [
    "## Solving time-dependent SIS epidemic model"
   ],
   "metadata": {}
  },
  {
   "outputs": [],
   "cell_type": "code",
   "source": [
    "sol = solve(prob, KenCarp4(), saveat=0.2)"
   ],
   "metadata": {},
   "execution_count": null
  },
  {
   "cell_type": "markdown",
   "source": [
    "Retrive the results"
   ],
   "metadata": {}
  },
  {
   "outputs": [],
   "cell_type": "code",
   "source": [
    "discrete_x = sol[x]\n",
    "discrete_t = sol[t]\n",
    "S_solution = sol[S(t, x)]\n",
    "I_solution = sol[I(t, x)]\n",
    "\n",
    "fig = surface(discrete_x, discrete_t, S_solution, xlabel=\"Location\", ylabel=\"Time\")\n",
    "fig |> PNG\n",
    "\n",
    "fig = surface(discrete_x, discrete_t, I_solution, xlabel=\"Location\", ylabel=\"Time\")\n",
    "fig |> PNG"
   ],
   "metadata": {},
   "execution_count": null
  },
  {
   "cell_type": "markdown",
   "source": [
    "## Solving steady state problem"
   ],
   "metadata": {}
  },
  {
   "outputs": [],
   "cell_type": "code",
   "source": [
    "steadystateprob = SteadyStateProblem(prob)\n",
    "steadystate = solve(steadystateprob, DynamicSS(TRBDF2()))"
   ],
   "metadata": {},
   "execution_count": null
  },
  {
   "cell_type": "markdown",
   "source": [
    "---\n",
    "\n",
    "*This notebook was generated using [Literate.jl](https://github.com/fredrikekre/Literate.jl).*"
   ],
   "metadata": {}
  }
 ],
 "nbformat_minor": 3,
 "metadata": {
  "language_info": {
   "file_extension": ".jl",
   "mimetype": "application/julia",
   "name": "julia",
   "version": "1.10.0"
  },
  "kernelspec": {
   "name": "julia-1.10",
   "display_name": "Julia 1.10.0",
   "language": "julia"
  }
 },
 "nbformat": 4
}
