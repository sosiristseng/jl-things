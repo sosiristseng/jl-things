{
 "cells": [
  {
   "cell_type": "markdown",
   "metadata": {},
   "source": [
    "# Tips and tricks\n",
    "\n",
    "The following section contains tips and tricks in modeling and simulation."
   ]
  },
  {
   "cell_type": "code",
   "execution_count": null,
   "metadata": {},
   "outputs": [],
   "source": [
    "using Plots\n",
    "Plots.default(fmt=:png)"
   ]
  },
  {
   "cell_type": "markdown",
   "metadata": {},
   "source": [
    "## Smooth and differentiable switch functions\n",
    "\n",
    "Using a similar smooth function for discontinuity is more friendly to ODE solvers.\n",
    "\n",
    "### Heaviside step function\n",
    "\n",
    "A [Heaviside step function](https://en.wikipedia.org/wiki/Heaviside_step_function) (0 when x < a, 1 when x > a) could be approximated with a steep [logistic function](https://en.wikipedia.org/wiki/Logistic_function)."
   ]
  },
  {
   "cell_type": "code",
   "execution_count": null,
   "metadata": {},
   "outputs": [],
   "source": [
    "logistic(x, k=100) = inv(1 + exp(-k * x))"
   ]
  },
  {
   "cell_type": "markdown",
   "metadata": {},
   "source": [
    "The function output switches from zero to one around `x=0`"
   ]
  },
  {
   "cell_type": "code",
   "execution_count": null,
   "metadata": {},
   "outputs": [],
   "source": [
    "plot(logistic, -1, 1, label=\"sigmoid approx.\")"
   ]
  },
  {
   "cell_type": "markdown",
   "metadata": {},
   "source": [
    "### Single pulse\n",
    "A single pulse could be approximated with a product of two logistic functions"
   ]
  },
  {
   "cell_type": "code",
   "execution_count": null,
   "metadata": {},
   "outputs": [],
   "source": [
    "singlepulse(x, t0=0, t1=0.1, k=100) = logistic(x - t0, k) * logistic(t1 - x, k)\n",
    "\n",
    "plot(singlepulse, -1, 1, label=\"sigmoid approx.\")"
   ]
  },
  {
   "cell_type": "markdown",
   "metadata": {},
   "source": [
    "### Smooth minimal function\n",
    "From this discourse post: https://discourse.julialang.org/t/handling-instability-when-solving-ode-problems/9019/5"
   ]
  },
  {
   "cell_type": "code",
   "execution_count": null,
   "metadata": {},
   "outputs": [],
   "source": [
    "function smoothmin(x, k=100)\n",
    "    ex = exp(-k)\n",
    "    ey = exp(-k*(1+x))\n",
    "    return (ex + (1+x)*ey)/(ex+ey)\n",
    "end\n",
    "\n",
    "plot(smoothmin, -1, 1, label=\"Exponential approx.\")"
   ]
  },
  {
   "cell_type": "markdown",
   "metadata": {},
   "source": [
    "### Periodic pulses\n",
    "From: https://www.noamross.net/2015/11/12/a-smooth-differentiable-pulse-function/"
   ]
  },
  {
   "cell_type": "code",
   "execution_count": null,
   "metadata": {},
   "outputs": [],
   "source": [
    "function smoothpulses(t, tstart, tend, period=1, amplitude=period / (tend - tstart), steepness=1000)\n",
    "    @assert tstart < tend < period\n",
    "    xi = 3 / 4 - (tend - tstart) / (2 * period)\n",
    "    p = inv(1 + exp(steepness * (sinpi(2 * ((t - tstart) / period + xi)) - sinpi(2 * xi))))\n",
    "    return amplitude * p\n",
    "end\n",
    "\n",
    "plot(t->smoothpulses(t, 0.2, 0.3, 0.5), 0.0, 2.0, lab=\"pulses\")"
   ]
  },
  {
   "cell_type": "markdown",
   "metadata": {},
   "source": [
    "## Avoiding DomainErrors\n",
    "\n",
    "Some functions like `sqrt(x)`, `log(x)`, and `pow(x)` will throw `DomainError` exceptions with negative `x`, interrupting differential equation solvers. One can use the respective functions in https://github.com/JuliaMath/NaNMath.jl, returning `NaN` instead of throwing a `DomainError`. Then, the differential equation solvers will reject the solution and retry with a smaller time step."
   ]
  },
  {
   "cell_type": "code",
   "execution_count": null,
   "metadata": {},
   "outputs": [],
   "source": [
    "import NaNMath as nm\n",
    "nm.sqrt(-1.0) ## returns NaN"
   ]
  }
 ],
 "metadata": {
  "kernelspec": {
   "display_name": "Julia 1.10.0",
   "language": "julia",
   "name": "julia-1.10"
  },
  "language_info": {
   "file_extension": ".jl",
   "mimetype": "application/julia",
   "name": "julia",
   "version": "1.10.0"
  }
 },
 "nbformat": 4,
 "nbformat_minor": 3
}
