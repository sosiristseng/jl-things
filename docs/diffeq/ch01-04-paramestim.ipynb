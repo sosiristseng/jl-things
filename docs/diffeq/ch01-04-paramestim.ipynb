{
 "cells": [
  {
   "cell_type": "markdown",
   "metadata": {},
   "source": [
    "# Parameter estimation\n",
    "\n",
    "`DiffEqParamEstim.jl` is not installed with `DifferentialEquations.jl`. You need to install it manually:\n",
    "\n",
    "```julia\n",
    "using Pkg\n",
    "Pkg.add(\"DiffEqParamEstim\")\n",
    "using DiffEqParamEstim\n",
    "```\n",
    "\n",
    "## Estimate a single parameter from the data and the ODE model\n",
    "\n",
    "Let's optimize the parameters of the Lotka-Volterra equation."
   ]
  },
  {
   "cell_type": "code",
   "execution_count": null,
   "metadata": {},
   "outputs": [],
   "source": [
    "using DifferentialEquations\n",
    "using DiffEqParamEstim\n",
    "using Optim\n",
    "using Plots\n",
    "Plots.default(fmt=:png)"
   ]
  },
  {
   "cell_type": "code",
   "execution_count": null,
   "metadata": {},
   "outputs": [],
   "source": [
    "function lotka_volterra!(du, u, p, t)\n",
    "    du[1] = dx = p[1]*u[1] - u[1]*u[2]\n",
    "    du[2] = dy = -3*u[2] + u[1]*u[2]\n",
    "end\n",
    "\n",
    "u0 = [1.0;1.0]\n",
    "tspan = (0.0, 10.0)\n",
    "p = [1.5] ## The true value to be guessed\n",
    "prob = ODEProblem(lotka_volterra!, u0, tspan, p)\n",
    "sol = solve(prob, Tsit5())"
   ]
  },
  {
   "cell_type": "markdown",
   "metadata": {},
   "source": [
    "Create a sample dataset with some noise."
   ]
  },
  {
   "cell_type": "code",
   "execution_count": null,
   "metadata": {},
   "outputs": [],
   "source": [
    "ts = range(tspan[begin], tspan[end], 200)\n",
    "data = [sol.(ts, idxs=1) sol.(ts, idxs=2)] .* (1 .+ 0.03 .* randn(length(ts), 2))"
   ]
  },
  {
   "cell_type": "markdown",
   "metadata": {},
   "source": [
    "Plotting the sample dataset and the true solution."
   ]
  },
  {
   "cell_type": "code",
   "execution_count": null,
   "metadata": {},
   "outputs": [],
   "source": [
    "fig = plot(sol);\n",
    "scatter!(fig, ts, data, label=[\"u1 data\" \"u2 data\"])"
   ]
  },
  {
   "cell_type": "markdown",
   "metadata": {},
   "source": [
    "`DiffEqParamEstim.build_loss_objective()` builds a loss function for the ODE problem against the data.\n",
    "\n",
    "We will minimize the mean squared error using `L2Loss()`.\n",
    "\n",
    "Note that the data should be transposed."
   ]
  },
  {
   "cell_type": "code",
   "execution_count": null,
   "metadata": {},
   "outputs": [],
   "source": [
    "alg = Tsit5()\n",
    "cost_function = build_loss_objective(prob, alg, L2Loss(collect(ts), transpose(data)), maxiters=10000, verbose=false)\n",
    "\n",
    "plot(\n",
    "    cost_function, 0.0, 10.0,\n",
    "    linewidth = 3, label=false, yscale=:log10,\n",
    "    xaxis = \"Parameter\", yaxis = \"Cost\", title = \"1-Parameter Cost Function\"\n",
    ")"
   ]
  },
  {
   "cell_type": "markdown",
   "metadata": {},
   "source": [
    "There is a dip (minimum) in the cost function at the true parameter value (1.5). We can use an optimizer, e.g., `Optim.jl`, to find the parameter value that minimizes the cost. (1.5 in this case)"
   ]
  },
  {
   "cell_type": "code",
   "execution_count": null,
   "metadata": {},
   "outputs": [],
   "source": [
    "result = Optim.optimize(cost_function, 0.0, 10.0)"
   ]
  },
  {
   "cell_type": "markdown",
   "metadata": {},
   "source": [
    "Note that the result is a vector because we used a different optimization algorithm"
   ]
  },
  {
   "cell_type": "code",
   "execution_count": null,
   "metadata": {},
   "outputs": [],
   "source": [
    "result.minimizer"
   ]
  },
  {
   "cell_type": "markdown",
   "metadata": {},
   "source": [
    "## Estimate multiple parameters\n",
    "Let's use the Lotka-Volterra (Fox-rabbit) equations with all 4 parameters free."
   ]
  },
  {
   "cell_type": "code",
   "execution_count": null,
   "metadata": {},
   "outputs": [],
   "source": [
    "function f2(du, u, p, t)\n",
    "    du[1] = dx = p[1]*u[1] - p[2]*u[1]*u[2]\n",
    "    du[2] = dy = -p[3]*u[2] + p[4]*u[1]*u[2]\n",
    "end\n",
    "\n",
    "u0 = [1.0; 1.0]\n",
    "tspan = (0.0, 10.0)\n",
    "p = [1.5, 1.0, 3.0, 1.0]\n",
    "prob = ODEProblem(f2, u0, tspan, p)\n",
    "sol = solve(prob, Tsit5())"
   ]
  },
  {
   "cell_type": "code",
   "execution_count": null,
   "metadata": {},
   "outputs": [],
   "source": [
    "ts = range(tspan[begin], tspan[end], 200)\n",
    "data = [sol.(ts, idxs=1) sol.(ts, idxs=2)] .* (1 .+ 0.01 .* randn(length(ts), 2))"
   ]
  },
  {
   "cell_type": "markdown",
   "metadata": {},
   "source": [
    "Then we can find multiple parameters at once using the same steps."
   ]
  },
  {
   "cell_type": "code",
   "execution_count": null,
   "metadata": {},
   "outputs": [],
   "source": [
    "cost_function = build_loss_objective(prob, Tsit5(), L2Loss(collect(ts), transpose(data)), maxiters=10000, verbose=false)\n",
    "result_bfgs = Optim.optimize(cost_function, [1.3, 0.8, 2.8, 1.2], LBFGS())"
   ]
  },
  {
   "cell_type": "markdown",
   "metadata": {},
   "source": [
    "True parameters are `[1.5, 1.0, 3.0, 1.0]`"
   ]
  },
  {
   "cell_type": "code",
   "execution_count": null,
   "metadata": {},
   "outputs": [],
   "source": [
    "result_bfgs.minimizer"
   ]
  }
 ],
 "metadata": {
  "kernelspec": {
   "display_name": "Julia 1.10.0",
   "language": "julia",
   "name": "julia-1.10"
  },
  "language_info": {
   "file_extension": ".jl",
   "mimetype": "application/julia",
   "name": "julia",
   "version": "1.10.0"
  }
 },
 "nbformat": 4,
 "nbformat_minor": 3
}
