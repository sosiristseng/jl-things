{
 "cells": [
  {
   "cell_type": "markdown",
   "metadata": {},
   "source": [
    "# ModelingToolkit.jl\n",
    "\n",
    "- [Simulating Big Models in Julia with ModelingToolkit @ JuliaCon 2021 Workshop](https://youtu.be/HEVOgSLBzWA)\n",
    "- [ModelingToolkit.jl](https://github.com/SciML/ModelingToolkit.jl): Symbolic representations for modeling numerical systems.\n",
    "\n",
    "## First example"
   ]
  },
  {
   "cell_type": "code",
   "execution_count": null,
   "metadata": {},
   "outputs": [],
   "source": [
    "using ModelingToolkit\n",
    "using DifferentialEquations\n",
    "using Plots\n",
    "using LinearAlgebra"
   ]
  },
  {
   "cell_type": "markdown",
   "metadata": {},
   "source": [
    "Independent (time) and dependent (state) variables (x and RHS)"
   ]
  },
  {
   "cell_type": "code",
   "execution_count": null,
   "metadata": {},
   "outputs": [],
   "source": [
    "@variables t x(t) RHS(t)"
   ]
  },
  {
   "cell_type": "markdown",
   "metadata": {},
   "source": [
    "Setting parameters in the modeling"
   ]
  },
  {
   "cell_type": "code",
   "execution_count": null,
   "metadata": {},
   "outputs": [],
   "source": [
    "@parameters τ"
   ]
  },
  {
   "cell_type": "markdown",
   "metadata": {},
   "source": [
    "Differential operator w.r.t. time"
   ]
  },
  {
   "cell_type": "code",
   "execution_count": null,
   "metadata": {},
   "outputs": [],
   "source": [
    "D = Differential(t)"
   ]
  },
  {
   "cell_type": "markdown",
   "metadata": {},
   "source": [
    "Equations in MTK use the tilde character (`~`) as equality.\n",
    "Every MTK system requires a name. The `@named` macro simply ensures that the symbolic name matches the name in the REPL."
   ]
  },
  {
   "cell_type": "code",
   "execution_count": null,
   "metadata": {},
   "outputs": [],
   "source": [
    "@named fol_separate = ODESystem([\n",
    "    RHS  ~ (1 - x)/τ,\n",
    "    D(x) ~ RHS\n",
    "])"
   ]
  },
  {
   "cell_type": "markdown",
   "metadata": {},
   "source": [
    "`structural_simplify()` transforms simple DAEs with dependent terms to ODEs and reduces the number of state variables."
   ]
  },
  {
   "cell_type": "code",
   "execution_count": null,
   "metadata": {},
   "outputs": [],
   "source": [
    "model = structural_simplify(fol_separate)\n",
    "u0 = [x => 0.0]\n",
    "tspan = (0.0, 10.0)\n",
    "param = [τ => 3.0]\n",
    "prob = ODEProblem(model, u0, tspan, param)\n",
    "sol = solve(prob)"
   ]
  },
  {
   "cell_type": "markdown",
   "metadata": {},
   "source": [
    "The eliminated term (RHS in this example) is still tracible"
   ]
  },
  {
   "cell_type": "code",
   "execution_count": null,
   "metadata": {},
   "outputs": [],
   "source": [
    "plot(sol, idxs=[x, RHS], legend=:right)"
   ]
  },
  {
   "cell_type": "markdown",
   "metadata": {},
   "source": [
    "## Time-variant external force\n",
    "If the function is too complex and/or has discontinuity, one should apply `@register_symbolic` to the function to exclude it from symbolic transformations and use it as-is."
   ]
  },
  {
   "cell_type": "code",
   "execution_count": null,
   "metadata": {},
   "outputs": [],
   "source": [
    "@variables t x(t) f(t)\n",
    "@parameters τ\n",
    "D = Differential(t)\n",
    "\n",
    "value_vector = randn(10)"
   ]
  },
  {
   "cell_type": "markdown",
   "metadata": {},
   "source": [
    "Define a time-dependent random external force"
   ]
  },
  {
   "cell_type": "code",
   "execution_count": null,
   "metadata": {},
   "outputs": [],
   "source": [
    "f_fun(t) = t >= 10 ? value_vector[end] : value_vector[Int(floor(t))+1]"
   ]
  },
  {
   "cell_type": "markdown",
   "metadata": {},
   "source": [
    "\"Register\" arbitrary Julia functions to be excluded from symbolic transformations. Just use it as-is."
   ]
  },
  {
   "cell_type": "code",
   "execution_count": null,
   "metadata": {},
   "outputs": [],
   "source": [
    "@register_symbolic f_fun(t)\n",
    "@named fol_external_f = ODESystem([f ~ f_fun(t), D(x) ~ (f - x)/τ])"
   ]
  },
  {
   "cell_type": "code",
   "execution_count": null,
   "metadata": {},
   "outputs": [],
   "source": [
    "prob = ODEProblem(structural_simplify(fol_external_f), [x => 0.0], (0.0,10.0), [τ => 0.75])\n",
    "sol = solve(prob)\n",
    "plot(sol, idxs=[x, f])"
   ]
  },
  {
   "cell_type": "markdown",
   "metadata": {},
   "source": [
    "## Second order ODE system\n",
    "`ode_order_lowering(sys)` can automatically transform a second-order ODE into two first-order ODEs."
   ]
  },
  {
   "cell_type": "code",
   "execution_count": null,
   "metadata": {},
   "outputs": [],
   "source": [
    "using Plots\n",
    "using ModelingToolkit\n",
    "using DifferentialEquations\n",
    "\n",
    "@parameters σ ρ β\n",
    "@variables t x(t) y(t) z(t)\n",
    "D = Differential(t)"
   ]
  },
  {
   "cell_type": "code",
   "execution_count": null,
   "metadata": {},
   "outputs": [],
   "source": [
    "eqs = [\n",
    "    D(D(x)) ~ σ * (y-x),\n",
    "    D(y) ~ x * (ρ - z) - y,\n",
    "    D(z) ~ x * y - β * z\n",
    "]"
   ]
  },
  {
   "cell_type": "code",
   "execution_count": null,
   "metadata": {},
   "outputs": [],
   "source": [
    "@named sys = ODESystem(eqs)\n",
    "sys = ode_order_lowering(sys)"
   ]
  },
  {
   "cell_type": "code",
   "execution_count": null,
   "metadata": {},
   "outputs": [],
   "source": [
    "u0 = [\n",
    "    D(x) => 2.0,\n",
    "    x => 1.0,\n",
    "    y => 0.0,\n",
    "    z => 0.0\n",
    "]\n",
    "\n",
    "p = [\n",
    "    σ => 28.0,\n",
    "    ρ => 10.0,\n",
    "    β => 8/3\n",
    "]\n",
    "\n",
    "tspan = (0.0, 100.0)\n",
    "prob = ODEProblem(sys, u0, tspan, p, jac=true)\n",
    "sol = solve(prob)\n",
    "plot(sol, idxs=(x, y, z), label=\"Trajectory\", size=(600,600))"
   ]
  },
  {
   "cell_type": "markdown",
   "metadata": {},
   "source": [
    "## Composing systems\n",
    "By defining connection equation(s) to couple ODE systems together, we can build component-based, hierarchical models."
   ]
  },
  {
   "cell_type": "code",
   "execution_count": null,
   "metadata": {},
   "outputs": [],
   "source": [
    "using Plots\n",
    "using ModelingToolkit\n",
    "using DifferentialEquations\n",
    "\n",
    "@parameters σ ρ β\n",
    "@variables t x(t) y(t) z(t)\n",
    "\n",
    "D = Differential(t)\n",
    "\n",
    "eqs = [D(x) ~ σ * (y - x),\n",
    "       D(y) ~ x * (ρ - z) - y,\n",
    "       D(z) ~ x * y - β * z]\n",
    "\n",
    "@named lorenz1 = ODESystem(eqs)\n",
    "@named lorenz2 = ODESystem(eqs)"
   ]
  },
  {
   "cell_type": "markdown",
   "metadata": {},
   "source": [
    "Define relations between the two systems"
   ]
  },
  {
   "cell_type": "code",
   "execution_count": null,
   "metadata": {},
   "outputs": [],
   "source": [
    "@variables a(t)\n",
    "@parameters γ\n",
    "\n",
    "connections = [0 ~ lorenz1.x + lorenz2.y + a * γ]\n",
    "\n",
    "@named connLorenz = ODESystem(connections, t , [a], [γ], systems = [lorenz1, lorenz2])"
   ]
  },
  {
   "cell_type": "markdown",
   "metadata": {},
   "source": [
    "All state variables in the combined system"
   ]
  },
  {
   "cell_type": "code",
   "execution_count": null,
   "metadata": {},
   "outputs": [],
   "source": [
    "states(connLorenz)"
   ]
  },
  {
   "cell_type": "code",
   "execution_count": null,
   "metadata": {},
   "outputs": [],
   "source": [
    "u0 = [\n",
    "    lorenz1.x => 1.0, lorenz1.y => 0.0, lorenz1.z => 0.0,\n",
    "    lorenz2.x => 0.0, lorenz2.y => 1.0, lorenz2.z => 0.0,\n",
    "    a => 2.0\n",
    "]\n",
    "\n",
    "p = [\n",
    "    lorenz1.σ => 10.0, lorenz1.ρ => 28.0, lorenz1.β => 8/3,\n",
    "    lorenz2.σ => 10.0, lorenz2.ρ => 28.0, lorenz2.β => 8/3,\n",
    "    γ => 2.0\n",
    "]\n",
    "\n",
    "tspan = (0.0, 100.0)\n",
    "sol = solve(ODEProblem(connLorenz, u0, tspan, p, jac=true))\n",
    "plot(sol, idxs=(a, lorenz1.x, lorenz2.x), size=(600,600))"
   ]
  },
  {
   "cell_type": "markdown",
   "metadata": {},
   "source": [
    "## Convert existing functions into MTK ones\n",
    "\n",
    "`modelingtoolkitize(prob)`\n",
    "\n",
    "And it can generate analytic Jacobin function for faster solving.\n",
    "\n",
    "Example: **[DAE index reduction](https://mtk.sciml.ai/stable/mtkitize_tutorials/modelingtoolkitize_index_reduction/)** for the pendulum problem, which cannot be solved by regular ODE solvers."
   ]
  },
  {
   "cell_type": "code",
   "execution_count": null,
   "metadata": {},
   "outputs": [],
   "source": [
    "using Plots\n",
    "using ModelingToolkit\n",
    "using DifferentialEquations\n",
    "\n",
    "function pendulum!(du, u, p, t)\n",
    "    x, dx, y, dy, T = u\n",
    "    g, L = p\n",
    "    du[1] = dx\n",
    "    du[2] = T*x\n",
    "    du[3] = dy\n",
    "    du[4] = T*y - g\n",
    "    # Do not write your function like this after you've learned MTK\n",
    "    du[5] = x^2 + y^2 - L^2\n",
    "    return nothing\n",
    "end"
   ]
  },
  {
   "cell_type": "code",
   "execution_count": null,
   "metadata": {},
   "outputs": [],
   "source": [
    "pendulum_fun! = ODEFunction(pendulum!, mass_matrix = Diagonal([1, 1, 1, 1, 0]))\n",
    "u0 = [1.0, 0.0, 0.0, 0.0, 0.0]\n",
    "p = [9.8, 1.0]\n",
    "tspan = (0.0, 10.0)\n",
    "pendulum_prob = ODEProblem(pendulum_fun!, u0, tspan, p)"
   ]
  },
  {
   "cell_type": "markdown",
   "metadata": {},
   "source": [
    "Convert the ODE problem to a MTK system."
   ]
  },
  {
   "cell_type": "code",
   "execution_count": null,
   "metadata": {},
   "outputs": [],
   "source": [
    "tracedSys = modelingtoolkitize(pendulum_prob)"
   ]
  },
  {
   "cell_type": "markdown",
   "metadata": {},
   "source": [
    "`structural_simplify()` and `dae_index_lowering()` transform the index-3 DAE into an index-0 ODE."
   ]
  },
  {
   "cell_type": "code",
   "execution_count": null,
   "metadata": {},
   "outputs": [],
   "source": [
    "pendulumSys = tracedSys |> dae_index_lowering |> structural_simplify"
   ]
  },
  {
   "cell_type": "markdown",
   "metadata": {},
   "source": [
    "The default `u0` is included in the system already so one can use an empty array `[]` as the initial conditions."
   ]
  },
  {
   "cell_type": "code",
   "execution_count": null,
   "metadata": {},
   "outputs": [],
   "source": [
    "prob = ODAEProblem(pendulumSys, [], tspan)\n",
    "sol = solve(prob, abstol=1e-8, reltol=1e-8)\n",
    "plot(sol, idxs=states(tracedSys))"
   ]
  },
  {
   "cell_type": "markdown",
   "metadata": {},
   "source": [
    "## Solving nonlinear systems\n",
    "Use `NonlinearSolve.jl` and `NonlinearSystem()`"
   ]
  },
  {
   "cell_type": "code",
   "execution_count": null,
   "metadata": {},
   "outputs": [],
   "source": [
    "using ModelingToolkit\n",
    "using NonlinearSolve\n",
    "@variables x y z\n",
    "@parameters σ ρ β\n",
    "\n",
    "eqs = [\n",
    "    0 ~ σ * (y-x),\n",
    "    0 ~ x * (ρ - z) - y,\n",
    "    0 ~ x * y - β * z\n",
    "]"
   ]
  },
  {
   "cell_type": "code",
   "execution_count": null,
   "metadata": {},
   "outputs": [],
   "source": [
    "@named ns = NonlinearSystem(eqs, [x, y, z], [σ, ρ, β])"
   ]
  },
  {
   "cell_type": "code",
   "execution_count": null,
   "metadata": {},
   "outputs": [],
   "source": [
    "guess = [x => 1.0, y => 0.0, z => 0.0]\n",
    "ps = [σ => 10.0, ρ => 26.0, β => 8/3]\n",
    "prob = NonlinearProblem(ns, guess, ps)\n",
    "sol = solve(prob, NewtonRaphson()) ## Should be all zeroes"
   ]
  },
  {
   "cell_type": "markdown",
   "metadata": {},
   "source": [
    "Another nonlinear system example with `structural_simplify()`"
   ]
  },
  {
   "cell_type": "code",
   "execution_count": null,
   "metadata": {},
   "outputs": [],
   "source": [
    "@parameters t\n",
    "@variables u1(t) u2(t) u3(t) u4(t) u5(t)\n",
    "\n",
    "eqs = [\n",
    "    0 ~ u1 - sin(u5)\n",
    "    0 ~ u2 - cos(u1)\n",
    "    0 ~ u3 - hypot(u1, u2)\n",
    "    0 ~ u4 - hypot(u2, u3)\n",
    "    0 ~ u5 - hypot(u4, u1)\n",
    "]\n",
    "\n",
    "@named sys = NonlinearSystem(eqs, [u1, u2, u3, u4, u5], [])"
   ]
  },
  {
   "cell_type": "markdown",
   "metadata": {},
   "source": [
    "You can simplify the problem using `structural_simplify()`\n",
    "There will be only one state variable left. The solve can solve the problem faster."
   ]
  },
  {
   "cell_type": "code",
   "execution_count": null,
   "metadata": {},
   "outputs": [],
   "source": [
    "simple_sys = structural_simplify(sys)\n",
    "\n",
    "prob = NonlinearProblem(simple_sys, [u5=>0.0])\n",
    "sol = solve(prob, NewtonRaphson())"
   ]
  },
  {
   "cell_type": "markdown",
   "metadata": {},
   "source": [
    "The answer should be 1.6 and 1.0"
   ]
  },
  {
   "cell_type": "code",
   "execution_count": null,
   "metadata": {},
   "outputs": [],
   "source": [
    "@show sol[u5] sol[u1];  ## 1.6 and 1.0"
   ]
  },
  {
   "cell_type": "markdown",
   "metadata": {},
   "source": [
    "## Stochastic Differential Equations (SDEs)\n",
    "Use `SDESystem(equations, noises, iv, dv, ps)`"
   ]
  },
  {
   "cell_type": "code",
   "execution_count": null,
   "metadata": {},
   "outputs": [],
   "source": [
    "using ModelingToolkit\n",
    "using DifferentialEquations\n",
    "using Plots\n",
    "\n",
    "@parameters σ ρ β\n",
    "@variables t x(t) y(t) z(t)\n",
    "\n",
    "D = Differential(t)\n",
    "\n",
    "eqs = [\n",
    "    D(x) ~ σ * (y - x),\n",
    "    D(y) ~ x * (ρ - z) - y,\n",
    "    D(z) ~ x * y - β * z\n",
    "]"
   ]
  },
  {
   "cell_type": "markdown",
   "metadata": {},
   "source": [
    "Add a diagonal noise with 10% of the magnitude."
   ]
  },
  {
   "cell_type": "code",
   "execution_count": null,
   "metadata": {},
   "outputs": [],
   "source": [
    "noises = [0.1x, 0.1y, 0.1z]\n",
    "\n",
    "@named sys = SDESystem(eqs, noises, t, [x, y, z], [σ,ρ,β])"
   ]
  },
  {
   "cell_type": "code",
   "execution_count": null,
   "metadata": {},
   "outputs": [],
   "source": [
    "u0 = [x => 10.0, y => 10.0, z=> 10.0]\n",
    "p = [σ => 10.0, ρ => 28.0, β => 8/3]\n",
    "tspan = (0.0, 200.0)\n",
    "prob = SDEProblem(sys, u0, tspan, p)\n",
    "sol = solve(prob)\n",
    "plot(sol, idxs=(1, 2, 3))"
   ]
  }
 ],
 "metadata": {
  "kernelspec": {
   "display_name": "Julia 1.10.1",
   "language": "julia",
   "name": "julia-1.10"
  },
  "language_info": {
   "file_extension": ".jl",
   "mimetype": "application/julia",
   "name": "julia",
   "version": "1.10.1"
  }
 },
 "nbformat": 4,
 "nbformat_minor": 3
}
