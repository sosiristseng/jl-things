{
 "cells": [
  {
   "cell_type": "markdown",
   "metadata": {},
   "source": [
    "# Parallel Ensemble Simulations\n",
    "\n",
    "Docs: https://diffeq.sciml.ai/stable/features/ensemble/\n",
    "\n",
    "## Solving an ODE With Different Initial Conditions\n",
    "\n",
    "Solving $\\dot{u} = 1.01u$ with $u(0)=0.5$ and $t \\in [0, 1]$"
   ]
  },
  {
   "cell_type": "code",
   "execution_count": null,
   "metadata": {},
   "outputs": [],
   "source": [
    "using DifferentialEquations\n",
    "using Plots"
   ]
  },
  {
   "cell_type": "markdown",
   "metadata": {},
   "source": [
    "Linear ODE which starts at 0.5 and solves from t=0.0 to t=1.0"
   ]
  },
  {
   "cell_type": "code",
   "execution_count": null,
   "metadata": {},
   "outputs": [],
   "source": [
    "prob = ODEProblem((u,p,t)->1.01u, 0.5, (0.0, 1.0))"
   ]
  },
  {
   "cell_type": "markdown",
   "metadata": {},
   "source": [
    "Define a new problem for each trajectory using `remake()`\n",
    "We change the initial conditions (u0) in this example"
   ]
  },
  {
   "cell_type": "code",
   "execution_count": null,
   "metadata": {},
   "outputs": [],
   "source": [
    "function prob_func(prob, i, repeat)\n",
    "    remake(prob, u0=rand() * prob.u0)\n",
    "end"
   ]
  },
  {
   "cell_type": "markdown",
   "metadata": {},
   "source": [
    "You could also obtain the necessary data from the outside of `prob_func()`\n",
    "\n",
    "```julia\n",
    "initial_conditions = range(0, stop=1, length=100)\n",
    "\n",
    "function prob_func(prob, i, repeat)\n",
    "  remake(prob, u0=initial_conditions[i])\n",
    "end\n",
    "```"
   ]
  },
  {
   "cell_type": "markdown",
   "metadata": {},
   "source": [
    "Define an ennsemble problem"
   ]
  },
  {
   "cell_type": "code",
   "execution_count": null,
   "metadata": {},
   "outputs": [],
   "source": [
    "ensemble_prob = EnsembleProblem(prob; prob_func=prob_func)"
   ]
  },
  {
   "cell_type": "markdown",
   "metadata": {},
   "source": [
    "Ensemble simulations use multithreading by default"
   ]
  },
  {
   "cell_type": "code",
   "execution_count": null,
   "metadata": {},
   "outputs": [],
   "source": [
    "sim = solve(ensemble_prob, trajectories=100)"
   ]
  },
  {
   "cell_type": "markdown",
   "metadata": {},
   "source": [
    "Each element in the result is an ODE solution"
   ]
  },
  {
   "cell_type": "code",
   "execution_count": null,
   "metadata": {},
   "outputs": [],
   "source": [
    "sim[1]"
   ]
  },
  {
   "cell_type": "markdown",
   "metadata": {},
   "source": [
    "You can plot all the results at once"
   ]
  },
  {
   "cell_type": "code",
   "execution_count": null,
   "metadata": {},
   "outputs": [],
   "source": [
    "plot(sim, linealpha=0.4)"
   ]
  },
  {
   "cell_type": "markdown",
   "metadata": {},
   "source": [
    "## Solving an SDE with Different Parameters"
   ]
  },
  {
   "cell_type": "code",
   "execution_count": null,
   "metadata": {},
   "outputs": [],
   "source": [
    "function lotka_volterra!(du, u, p, t)\n",
    "    du[1] = p[1] * u[1] - p[2] * u[1] * u[2]\n",
    "    du[2] = -3 * u[2] + u[1] * u[2]\n",
    "end\n",
    "\n",
    "function g!(du, u, p, t)\n",
    "    du[1] = p[3] * u[1]\n",
    "    du[2] = p[4] * u[2]\n",
    "end\n",
    "\n",
    "p = [1.5, 1.0, 0.1, 0.1]\n",
    "prob = SDEProblem(lotka_volterra!, g!, [1.0, 1.0], (0.0, 10.0), p)"
   ]
  },
  {
   "cell_type": "code",
   "execution_count": null,
   "metadata": {},
   "outputs": [],
   "source": [
    "function prob_func(prob, i, repeat)\n",
    "    x = 0.3 * rand(2)\n",
    "    remake(prob, p=[p[1:2];x])\n",
    "end\n",
    "\n",
    "ensemble_prob = EnsembleProblem(prob, prob_func=prob_func)\n",
    "sim = solve(ensemble_prob, SRIW1(), trajectories=10)\n",
    "\n",
    "fig = plot(sim, linealpha=0.6, color=:blue, idxs=(0,1))\n",
    "plot!(fig, sim, linealpha=0.6, color=:red, idxs=(0,2))"
   ]
  },
  {
   "cell_type": "markdown",
   "metadata": {},
   "source": [
    "Show the distribution of the ensemble solutions"
   ]
  },
  {
   "cell_type": "code",
   "execution_count": null,
   "metadata": {},
   "outputs": [],
   "source": [
    "summ = EnsembleSummary(sim, 0:0.1:10)\n",
    "plot(summ, fillalpha=0.5)"
   ]
  }
 ],
 "metadata": {
  "kernelspec": {
   "display_name": "Julia 1.10.1",
   "language": "julia",
   "name": "julia-1.10"
  },
  "language_info": {
   "file_extension": ".jl",
   "mimetype": "application/julia",
   "name": "julia",
   "version": "1.10.1"
  }
 },
 "nbformat": 4,
 "nbformat_minor": 3
}
