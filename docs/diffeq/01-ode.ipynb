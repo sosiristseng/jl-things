{
 "cells": [
  {
   "cell_type": "markdown",
   "metadata": {},
   "source": [
    "# Ordinary Differential Equations (ODEs)\n",
    "\n",
    "- [DifferentialEquations.jl docs](https://diffeq.sciml.ai/dev/index.html)\n",
    "\n",
    "## General steps to solve ODEs (in the old way)\n",
    "\n",
    "- Define a model function representing the right-hand-side (RHS) of the sysstem.\n",
    "  - Out-of-place form: `f(u, p, t)` where `u` is the state variable(s), `p` is the parameter(s), and `t` is the independent variable (usually time). The output is the right hand side (RHS) of the differential equation system.\n",
    "  - In-place form: `f!(du, u, p, t)`, where the output is saved to `du`. The rest is the same as the out-of-place form. The in-place function may be faster since it does not allocate a new array in each call.\n",
    "- Initial conditions (`u0`) for the state variable(s).\n",
    "- (Optional) parameter(s) `p`.\n",
    "- Define a problem (e.g. `ODEProblem`) using the model function (`f`), initial condition(s) (`u0`), simulation time span (`tspan == (tstart, tend)`), and parameter(s) `p`.\n",
    "- Solve the problem by calling `solve(prob)`."
   ]
  },
  {
   "cell_type": "markdown",
   "metadata": {},
   "source": [
    "### Radioactive decay\n",
    "\n",
    "The decaying rate of a nuclear isotope is proprotional to its concentration (number):\n",
    "\n",
    "$$\n",
    "\\frac{d}{dt}C(t) = - \\lambda C(t)\n",
    "$$\n",
    "\n",
    "**State variable(s)**\n",
    "\n",
    "- $C(t)$: The concentration (number) of a decaying nuclear isotope.\n",
    "\n",
    "**Parameter(s)**\n",
    "\n",
    "- $\\lambda$: The rate constant of nuclear decay. The half-life: $t_{\\frac{1}{2}} = \\frac{ln2}{\\lambda}$."
   ]
  },
  {
   "cell_type": "code",
   "execution_count": null,
   "metadata": {},
   "outputs": [],
   "source": [
    "using DifferentialEquations\n",
    "using Plots\n",
    "Plots.default(fmt=:png)"
   ]
  },
  {
   "cell_type": "markdown",
   "metadata": {},
   "source": [
    "The exponential decay ODE model, out-of-place (3-parameter) form"
   ]
  },
  {
   "cell_type": "code",
   "execution_count": null,
   "metadata": {},
   "outputs": [],
   "source": [
    "expdecay(u, p, t) = p * u"
   ]
  },
  {
   "cell_type": "code",
   "execution_count": null,
   "metadata": {},
   "outputs": [],
   "source": [
    "p = -1.0 ## Parameter\n",
    "u0 = 1.0 ## Initial condition\n",
    "tspan = (0.0, 2.0) ## Simulation start and end time points\n",
    "prob = ODEProblem(expdecay, u0, tspan, p) ## Define the problem\n",
    "sol = solve(prob) ## Solve the problem"
   ]
  },
  {
   "cell_type": "markdown",
   "metadata": {},
   "source": [
    "Visualize the solution with `Plots.jl`."
   ]
  },
  {
   "cell_type": "code",
   "execution_count": null,
   "metadata": {},
   "outputs": [],
   "source": [
    "plot(sol, label=\"Exp decay\")"
   ]
  },
  {
   "cell_type": "markdown",
   "metadata": {},
   "source": [
    "Solution handling: https://docs.sciml.ai/DiffEqDocs/stable/basics/solution/\n",
    "\n",
    "The mostly used feature is `sol(t)`, the state variables at time `t`. `t` could be a scalar or a vector-like sequence. The result state variables are calculated with interpolation. "
   ]
  },
  {
   "cell_type": "code",
   "execution_count": null,
   "metadata": {},
   "outputs": [],
   "source": [
    "sol(1.0)"
   ]
  },
  {
   "cell_type": "code",
   "execution_count": null,
   "metadata": {},
   "outputs": [],
   "source": [
    "sol(0.0:0.1:2.0)"
   ]
  },
  {
   "cell_type": "markdown",
   "metadata": {},
   "source": [
    "`sol.t`: time points by the solver."
   ]
  },
  {
   "cell_type": "code",
   "execution_count": null,
   "metadata": {},
   "outputs": [],
   "source": [
    "sol.t"
   ]
  },
  {
   "cell_type": "markdown",
   "metadata": {},
   "source": [
    "`sol.u`: state variables at `sol.t`."
   ]
  },
  {
   "cell_type": "code",
   "execution_count": null,
   "metadata": {},
   "outputs": [],
   "source": [
    "sol.u"
   ]
  },
  {
   "cell_type": "markdown",
   "metadata": {},
   "source": [
    "### The SIR model\n",
    "\n",
    "A more complicated example is the [SIR model](https://www.maa.org/press/periodicals/loci/joma/the-sir-model-for-spread-of-disease-the-differential-equation-model) describing infectious disease spreading. There are 3 state variables and 2 parameters.\n",
    "\n",
    "$$\n",
    "\\begin{align}\n",
    "\\frac{d}{dt}S(t) &= - \\beta S(t)I(t)  \\\\\n",
    "\\frac{d}{dt}I(t) &= \\beta S(t)I(t)  - \\gamma I(t)  \\\\\n",
    "\\frac{d}{dt}R(t) &= \\gamma I(t)\n",
    "\\end{align}\n",
    "$$\n",
    "\n",
    "**State variable(s)**\n",
    "\n",
    "- $S(t)$ : the fraction of susceptible people\n",
    "- $I(t)$ : the fraction of infectious people\n",
    "- $R(t)$ : the fraction of recovered (or removed) people\n",
    "\n",
    "**Parameter(s)**\n",
    "\n",
    "- $\\beta$ : the rate of infection when susceptible and infectious people meet\n",
    "- $\\gamma$ : the rate of recovery of infectious people"
   ]
  },
  {
   "cell_type": "code",
   "execution_count": null,
   "metadata": {},
   "outputs": [],
   "source": [
    "using DifferentialEquations\n",
    "using Plots"
   ]
  },
  {
   "cell_type": "markdown",
   "metadata": {},
   "source": [
    "Here we use the in-place form: `f!(du, u, p ,t)` for the SIR model. The output is written to the first argument `du`, without allocating a new array in each function call."
   ]
  },
  {
   "cell_type": "code",
   "execution_count": null,
   "metadata": {},
   "outputs": [],
   "source": [
    "function sir!(du, u, p, t)\n",
    "\ts, i, r = u\n",
    "\tβ, γ = p\n",
    "\tv1 = β * s * i\n",
    "\tv2 = γ * i\n",
    "    du[1] = -v1\n",
    "    du[2] = v1 - v2\n",
    "    du[3] = v2\n",
    "\treturn nothing\n",
    "end"
   ]
  },
  {
   "cell_type": "markdown",
   "metadata": {},
   "source": [
    "Setup parameters, initial conditions, time span, and the ODE problem."
   ]
  },
  {
   "cell_type": "code",
   "execution_count": null,
   "metadata": {},
   "outputs": [],
   "source": [
    "p = (β = 1.0, γ = 0.3)\n",
    "u0 = [0.99, 0.01, 0.00]\n",
    "tspan = (0.0, 20.0)\n",
    "prob = ODEProblem(sir!, u0, tspan, p)"
   ]
  },
  {
   "cell_type": "markdown",
   "metadata": {},
   "source": [
    "Solve the problem"
   ]
  },
  {
   "cell_type": "code",
   "execution_count": null,
   "metadata": {},
   "outputs": [],
   "source": [
    "sol = solve(prob)"
   ]
  },
  {
   "cell_type": "markdown",
   "metadata": {},
   "source": [
    "Visualize the solution"
   ]
  },
  {
   "cell_type": "code",
   "execution_count": null,
   "metadata": {},
   "outputs": [],
   "source": [
    "plot(sol, labels=[\"S\" \"I\" \"R\"], legend=:right)"
   ]
  },
  {
   "cell_type": "markdown",
   "metadata": {},
   "source": [
    "`sol[i]`: all components at timestep `i`"
   ]
  },
  {
   "cell_type": "code",
   "execution_count": null,
   "metadata": {},
   "outputs": [],
   "source": [
    "sol[2]"
   ]
  },
  {
   "cell_type": "markdown",
   "metadata": {},
   "source": [
    "`sol[i, j]`: `i`th component at timestep `j`"
   ]
  },
  {
   "cell_type": "code",
   "execution_count": null,
   "metadata": {},
   "outputs": [],
   "source": [
    "sol[1, 2]"
   ]
  },
  {
   "cell_type": "markdown",
   "metadata": {},
   "source": [
    "`sol[i, :]`: the timeseries for the `i`th component."
   ]
  },
  {
   "cell_type": "code",
   "execution_count": null,
   "metadata": {},
   "outputs": [],
   "source": [
    "sol[1, :]"
   ]
  },
  {
   "cell_type": "markdown",
   "metadata": {},
   "source": [
    "`sol(t,idxs=1)`: the 1st element in time point(s) `t` with interpolation. `t` can be a scalar or a vector."
   ]
  },
  {
   "cell_type": "code",
   "execution_count": null,
   "metadata": {},
   "outputs": [],
   "source": [
    "sol(10, idxs=2)"
   ]
  },
  {
   "cell_type": "code",
   "execution_count": null,
   "metadata": {},
   "outputs": [],
   "source": [
    "sol(0.0:0.1:20.0, idxs=2)"
   ]
  },
  {
   "cell_type": "markdown",
   "metadata": {},
   "source": [
    "### Lorenz system\n",
    "\n",
    "The Lorenz system is a system of ordinary differential equations having chaotic solutions for certain parameter values and initial conditions. ([Wikipedia](https://en.wikipedia.org/wiki/Lorenz_system))\n",
    "\n",
    "$$\n",
    "\\begin{align}\n",
    "  \\frac{dx}{dt} &=& \\sigma(y-x) \\\\\n",
    "  \\frac{dy}{dt} &=& x(\\rho - z) -y \\\\\n",
    "  \\frac{dz}{dt} &=& xy - \\beta z\n",
    "\\end{align}\n",
    "$$\n",
    "\n",
    "In this example, we will use NamedTuple for the parameters and [ComponentArrays.jl](https://github.com/jonniedie/ComponentArrays.jl) for the state variaBLE to access elements by their names."
   ]
  },
  {
   "cell_type": "code",
   "execution_count": null,
   "metadata": {},
   "outputs": [],
   "source": [
    "using ComponentArrays\n",
    "using DifferentialEquations\n",
    "using Plots"
   ]
  },
  {
   "cell_type": "code",
   "execution_count": null,
   "metadata": {},
   "outputs": [],
   "source": [
    "function lorenz!(du, u, p, t)\n",
    "    du.x = p.σ*(u.y-u.x)\n",
    "    du.y = u.x*(p.ρ-u.z) - u.y\n",
    "    du.z = u.x*u.y - p.β*u.z\n",
    "    return nothing\n",
    "end"
   ]
  },
  {
   "cell_type": "code",
   "execution_count": null,
   "metadata": {},
   "outputs": [],
   "source": [
    "u0 = ComponentArray(x=1.0, y=0.0, z=0.0)\n",
    "p = (σ=10.0, ρ=28.0, β=8/3)\n",
    "tspan = (0.0, 100.0)\n",
    "prob = ODEProblem(lorenz!, u0, tspan, p)\n",
    "sol = solve(prob)"
   ]
  },
  {
   "cell_type": "markdown",
   "metadata": {},
   "source": [
    "`idxs=(1, 2, 3)` makes a phase plot with 1st, 2nd, and the 3rd state variable."
   ]
  },
  {
   "cell_type": "code",
   "execution_count": null,
   "metadata": {},
   "outputs": [],
   "source": [
    "plot(sol, idxs=(1, 2, 3), size=(400,400))"
   ]
  },
  {
   "cell_type": "markdown",
   "metadata": {},
   "source": [
    "The plot recipe is using interpolation for smoothing. You can turn off `denseplot` to see the difference."
   ]
  },
  {
   "cell_type": "code",
   "execution_count": null,
   "metadata": {},
   "outputs": [],
   "source": [
    "plot(sol, idxs=(1, 2, 3), denseplot=false, size=(400,400))"
   ]
  },
  {
   "cell_type": "markdown",
   "metadata": {},
   "source": [
    "The zeroth variable in `idxs` is the independent variable (usually time). The FOLLOWING command plots the time series of the second state variable (`y`)."
   ]
  },
  {
   "cell_type": "code",
   "execution_count": null,
   "metadata": {},
   "outputs": [],
   "source": [
    "plot(sol, idxs=(0, 2))"
   ]
  },
  {
   "cell_type": "markdown",
   "metadata": {},
   "source": [
    "### Non-autonomous ODEs\n",
    "\n",
    "In non-autonomous ODEs, term(s) in the right-hadn-side (RHS) maybe time-dependent. For example, in this pendulum model has an external, time-dependent, force.\n",
    "\n",
    "$$\n",
    "\\begin{aligned}\n",
    "\\dot{\\theta} &= \\omega(t) \\\\\n",
    "\\dot{\\omega} &= -1.5\\frac{g}{l}sin(\\theta(t)) + \\frac{3}{ml^2}M(t)\n",
    "\\end{aligned}\n",
    "$$\n",
    "\n",
    "- $\\theta$: pendulum angle\n",
    "- $\\omega$: angular rate\n",
    "- M: time-dependent external torgue\n",
    "- $l$: pendulum length\n",
    "- $g$: gravitional acceleration"
   ]
  },
  {
   "cell_type": "code",
   "execution_count": null,
   "metadata": {},
   "outputs": [],
   "source": [
    "using DifferentialEquations\n",
    "using Plots"
   ]
  },
  {
   "cell_type": "code",
   "execution_count": null,
   "metadata": {},
   "outputs": [],
   "source": [
    "function pendulum!(du, u, p, t)\n",
    "    l = 1.0                             ## length [m]\n",
    "    m = 1.0                             ## mass [kg]\n",
    "    g = 9.81                            ## gravitational acceleration [m/s²]\n",
    "    du[1] = u[2]                        ## θ'(t) = ω(t)\n",
    "    du[2] = -3g/(2l)*sin(u[1]) + 3/(m*l^2)*p(t) # ω'(t) = -3g/(2l) sin θ(t) + 3/(ml^2)M(t)\n",
    "end\n",
    "\n",
    "u0 = [0.01, 0.0]                     ## initial angular deflection [rad] and angular velocity [rad/s]\n",
    "tspan = (0.0, 10.0)                  ## time interval\n",
    "\n",
    "M = t -> 0.1 * sin(t)                   ## external torque [Nm] as the parameter for the pendulum model\n",
    "\n",
    "prob = ODEProblem(pendulum!, u0, tspan, M)\n",
    "sol = solve(prob)\n",
    "\n",
    "plot(sol, linewidth=2, xaxis=\"t\", label=[\"θ [rad]\" \"ω [rad/s]\"])\n",
    "plot!(M, tspan..., label=\"Ext. force\")"
   ]
  },
  {
   "cell_type": "markdown",
   "metadata": {},
   "source": [
    "### Linear ODE system\n",
    "\n",
    "The ODE system could be anything as long as it returns the derivatives of state variables. In this example, the ODE system is described by a matrix differential operator.\n",
    "\n",
    "$\\dot{u} = Au$"
   ]
  },
  {
   "cell_type": "code",
   "execution_count": null,
   "metadata": {},
   "outputs": [],
   "source": [
    "using DifferentialEquations\n",
    "using Plots\n",
    "\n",
    "A = [\n",
    "    1. 0  0 -5\n",
    "    4 -2  4 -3\n",
    "    -4  0  0  1\n",
    "    5 -2  2  3\n",
    "]\n",
    "\n",
    "u0 = rand(4, 2)\n",
    "\n",
    "tspan = (0.0, 1.0)\n",
    "f = (u, p, t) -> A*u\n",
    "prob = ODEProblem(f, u0, tspan)\n",
    "sol = solve(prob)\n",
    "plot(sol)"
   ]
  },
  {
   "cell_type": "markdown",
   "metadata": {},
   "source": [
    "## ModelingToolkit: define ODEs with symbolic expressions\n",
    "\n",
    "You can also define ODE systems symbolically using [ModelingToolkit.jl (MTK)](https://github.com/SciML/ModelingToolkit.jl) and let MTK generate high-performace ODE functions.\n",
    "\n",
    "- transforming and simplifying expressions for performance\n",
    "- Jacobian and Hessian generation\n",
    "- accessing eliminated states (called observed variables)\n",
    "- building and connecting subsystems programatically (component-based modeling)\n",
    "\n",
    "See also [Simulating Big Models in Julia with ModelingToolkit @ JuliaCon 2021 Workshop](https://youtu.be/HEVOgSLBzWA)."
   ]
  },
  {
   "cell_type": "markdown",
   "metadata": {},
   "source": [
    "### Radioactive decay\n",
    "\n",
    "Here we use the same example of radioactive decay"
   ]
  },
  {
   "cell_type": "code",
   "execution_count": null,
   "metadata": {},
   "outputs": [],
   "source": [
    "using ModelingToolkit\n",
    "using DifferentialEquations\n",
    "using Plots"
   ]
  },
  {
   "cell_type": "code",
   "execution_count": null,
   "metadata": {},
   "outputs": [],
   "source": [
    "## independent variable (time) and dependent variables\n",
    "@variables t c(t) RHS(t)\n",
    "\n",
    "## parameters: decay rate\n",
    "@parameters λ\n",
    "\n",
    "## Differential operator w.r.t. time\n",
    "D = Differential(t)"
   ]
  },
  {
   "cell_type": "markdown",
   "metadata": {},
   "source": [
    "Equations in MTK use the tilde character (`~`) for equality.\n",
    "\n",
    "Every MTK system requires a name. The `@named` macro simply ensures that the symbolic name matches the name in the REPL."
   ]
  },
  {
   "cell_type": "code",
   "execution_count": null,
   "metadata": {},
   "outputs": [],
   "source": [
    "eqs = [\n",
    "    RHS ~ -λ * c\n",
    "    D(c) ~ RHS\n",
    "]\n",
    "\n",
    "@named sys = ODESystem(eqs, t)"
   ]
  },
  {
   "cell_type": "markdown",
   "metadata": {},
   "source": [
    "`structural_simplify()` simplifies the two equations to one."
   ]
  },
  {
   "cell_type": "code",
   "execution_count": null,
   "metadata": {},
   "outputs": [],
   "source": [
    "sys = structural_simplify(sys)"
   ]
  },
  {
   "cell_type": "markdown",
   "metadata": {},
   "source": [
    "Setup initial conditions, time span, parameter values, the `ODEProblem`, and solve the problem."
   ]
  },
  {
   "cell_type": "code",
   "execution_count": null,
   "metadata": {},
   "outputs": [],
   "source": [
    "p = [λ => 1.0]\n",
    "u0 = [c => 1.0]\n",
    "tspan = (0.0, 2.0)\n",
    "prob = ODEProblem(sys, u0, tspan, p)\n",
    "sol = solve(prob)"
   ]
  },
  {
   "cell_type": "markdown",
   "metadata": {},
   "source": [
    "Visualize the solution with `Plots.jl`."
   ]
  },
  {
   "cell_type": "code",
   "execution_count": null,
   "metadata": {},
   "outputs": [],
   "source": [
    "plot(sol, label=\"Exp decay\")"
   ]
  },
  {
   "cell_type": "markdown",
   "metadata": {},
   "source": [
    "The solution interface provides symbolic access. So you can access the results of `c` directly."
   ]
  },
  {
   "cell_type": "code",
   "execution_count": null,
   "metadata": {},
   "outputs": [],
   "source": [
    "sol[c]"
   ]
  },
  {
   "cell_type": "code",
   "execution_count": null,
   "metadata": {},
   "outputs": [],
   "source": [
    "sol(0.0:0.1:2.0, idxs=c)"
   ]
  },
  {
   "cell_type": "markdown",
   "metadata": {},
   "source": [
    "The eliminated term (RHS in this example) is still tracible."
   ]
  },
  {
   "cell_type": "code",
   "execution_count": null,
   "metadata": {},
   "outputs": [],
   "source": [
    "plot(sol, idxs=[c, RHS], legend=:right)"
   ]
  },
  {
   "cell_type": "markdown",
   "metadata": {},
   "source": [
    "The symbolic interface allows calculation of states."
   ]
  },
  {
   "cell_type": "code",
   "execution_count": null,
   "metadata": {},
   "outputs": [],
   "source": [
    "plot(sol, idxs=[c*1000])"
   ]
  },
  {
   "cell_type": "markdown",
   "metadata": {},
   "source": [
    "### Lorenz system\n",
    "\n",
    "We use the same Lorenz system example as above. Here we setup the initial conditions and parameters with default values."
   ]
  },
  {
   "cell_type": "code",
   "execution_count": null,
   "metadata": {},
   "outputs": [],
   "source": [
    "@variables t x(t)=1.0 y(t)=0.0 z(t)=0.0\n",
    "@parameters (σ=10.0, ρ=28.0, β=8/3)\n",
    "\n",
    "D = Differential(t)\n",
    "\n",
    "eqs = [\n",
    "    D(x) ~ σ * (y - x)\n",
    "    D(y) ~ x * (ρ - z) - y\n",
    "    D(z) ~ x * y - β * z\n",
    "]\n",
    "\n",
    "@named sys = ODESystem(eqs, t)"
   ]
  },
  {
   "cell_type": "markdown",
   "metadata": {},
   "source": [
    "Here we are using default values, so we pass empty arrays for initial conditions and parameter values."
   ]
  },
  {
   "cell_type": "code",
   "execution_count": null,
   "metadata": {},
   "outputs": [],
   "source": [
    "sys = structural_simplify(sys)\n",
    "tspan = (0.0, 100.0)\n",
    "prob = ODEProblem(sys, [], tspan, [])\n",
    "sol = solve(prob)"
   ]
  },
  {
   "cell_type": "markdown",
   "metadata": {},
   "source": [
    "Plot the solution with symbols instead of index numbers."
   ]
  },
  {
   "cell_type": "code",
   "execution_count": null,
   "metadata": {},
   "outputs": [],
   "source": [
    "plot(sol, idxs=(x, y, z), size=(400,400))"
   ]
  },
  {
   "cell_type": "markdown",
   "metadata": {},
   "source": [
    "### Non-autonomous ODEs\n",
    "\n",
    "Sometimes a model might have a time-variant external force, which is too complex or impossible to express it symbolically. In such situation, one could apply `@register_symbolic` to it to exclude it from symbolic transformations and use it numberically."
   ]
  },
  {
   "cell_type": "code",
   "execution_count": null,
   "metadata": {},
   "outputs": [],
   "source": [
    "@variables t x(t) f(t)\n",
    "@parameters τ\n",
    "D = Differential(t)"
   ]
  },
  {
   "cell_type": "markdown",
   "metadata": {},
   "source": [
    "Define a time-dependent random external force"
   ]
  },
  {
   "cell_type": "code",
   "execution_count": null,
   "metadata": {},
   "outputs": [],
   "source": [
    "value_vector = randn(10)\n",
    "\n",
    "f_fun(t) = t >= 10 ? value_vector[end] : value_vector[Int(floor(t))+1]"
   ]
  },
  {
   "cell_type": "markdown",
   "metadata": {},
   "source": [
    "\"Register\" arbitrary Julia functions to be excluded from symbolic transformations. Just use it as-is (numberically)."
   ]
  },
  {
   "cell_type": "code",
   "execution_count": null,
   "metadata": {},
   "outputs": [],
   "source": [
    "@register_symbolic f_fun(t)"
   ]
  },
  {
   "cell_type": "code",
   "execution_count": null,
   "metadata": {},
   "outputs": [],
   "source": [
    "@named fol_external_f = ODESystem([f ~ f_fun(t), D(x) ~ (f - x)/τ], t)"
   ]
  },
  {
   "cell_type": "code",
   "execution_count": null,
   "metadata": {},
   "outputs": [],
   "source": [
    "sys = structural_simplify(fol_external_f)\n",
    "prob = ODEProblem(sys, [x => 0.0], (0.0, 10.0), [τ => 0.75])\n",
    "sol = solve(prob)\n",
    "plot(sol, idxs=[x, f])"
   ]
  },
  {
   "cell_type": "markdown",
   "metadata": {},
   "source": [
    "### Second-order ODE systems\n",
    "\n",
    "`ode_order_lowering(sys)` automatically transforms a second-order ODE into two first-order ODEs. "
   ]
  },
  {
   "cell_type": "code",
   "execution_count": null,
   "metadata": {},
   "outputs": [],
   "source": [
    "using Plots\n",
    "using ModelingToolkit\n",
    "using DifferentialEquations\n",
    "\n",
    "@parameters σ ρ β\n",
    "@variables t x(t) y(t) z(t)\n",
    "D = Differential(t)"
   ]
  },
  {
   "cell_type": "code",
   "execution_count": null,
   "metadata": {},
   "outputs": [],
   "source": [
    "eqs = [\n",
    "    D(D(x)) ~ σ * (y-x),\n",
    "    D(y) ~ x * (ρ - z) - y,\n",
    "    D(z) ~ x * y - β * z\n",
    "]"
   ]
  },
  {
   "cell_type": "code",
   "execution_count": null,
   "metadata": {},
   "outputs": [],
   "source": [
    "@named sys = ODESystem(eqs, t)\n",
    "sys = sys |> ode_order_lowering |> structural_simplify"
   ]
  },
  {
   "cell_type": "markdown",
   "metadata": {},
   "source": [
    "Note that one needs to provide the initial condition for the first derivative."
   ]
  },
  {
   "cell_type": "code",
   "execution_count": null,
   "metadata": {},
   "outputs": [],
   "source": [
    "u0 = [\n",
    "    D(x) => 2.0,\n",
    "    x => 1.0,\n",
    "    y => 0.0,\n",
    "    z => 0.0\n",
    "]\n",
    "\n",
    "p = [\n",
    "    σ => 28.0,\n",
    "    ρ => 10.0,\n",
    "    β => 8/3\n",
    "]\n",
    "\n",
    "tspan = (0.0, 100.0)\n",
    "prob = ODEProblem(sys, u0, tspan, p, jac=true)\n",
    "sol = solve(prob)\n",
    "plot(sol, idxs=(x, y, z), label=\"Trajectory\", size=(500,500))"
   ]
  },
  {
   "cell_type": "markdown",
   "metadata": {},
   "source": [
    "### Composing systems\n",
    "\n",
    "By defining connection equation(s) to couple ODE systems together, we can build component-based, hierarchical models."
   ]
  },
  {
   "cell_type": "code",
   "execution_count": null,
   "metadata": {},
   "outputs": [],
   "source": [
    "using Plots\n",
    "using ModelingToolkit\n",
    "using DifferentialEquations\n",
    "\n",
    "@parameters σ ρ β\n",
    "@variables t x(t) y(t) z(t)\n",
    "\n",
    "D = Differential(t)\n",
    "\n",
    "eqs = [\n",
    "    D(x) ~ σ * (y - x),\n",
    "    D(y) ~ x * (ρ - z) - y,\n",
    "    D(z) ~ x * y - β * z\n",
    "]\n",
    "\n",
    "@named lorenz1 = ODESystem(eqs)\n",
    "@named lorenz2 = ODESystem(eqs)"
   ]
  },
  {
   "cell_type": "code",
   "execution_count": null,
   "metadata": {},
   "outputs": [],
   "source": [
    "Define relations (connectors) between the two systems."
   ]
  },
  {
   "cell_type": "code",
   "execution_count": null,
   "metadata": {},
   "outputs": [],
   "source": [
    "@variables a(t)\n",
    "@parameters γ\n",
    "\n",
    "connections = [0 ~ lorenz1.x + lorenz2.y + a * γ]\n",
    "\n",
    "@named connLorenz = ODESystem(connections, t , [a], [γ], systems = [lorenz1, lorenz2])"
   ]
  },
  {
   "cell_type": "markdown",
   "metadata": {},
   "source": [
    "All state variables in the combined system"
   ]
  },
  {
   "cell_type": "code",
   "execution_count": null,
   "metadata": {},
   "outputs": [],
   "source": [
    "states(connLorenz)"
   ]
  },
  {
   "cell_type": "code",
   "execution_count": null,
   "metadata": {},
   "outputs": [],
   "source": [
    "u0 = [\n",
    "    lorenz1.x => 1.0, lorenz1.y => 0.0, lorenz1.z => 0.0,\n",
    "    lorenz2.x => 0.0, lorenz2.y => 1.0, lorenz2.z => 0.0,\n",
    "    a => 2.0\n",
    "]\n",
    "\n",
    "p = [\n",
    "    lorenz1.σ => 10.0, lorenz1.ρ => 28.0, lorenz1.β => 8/3,\n",
    "    lorenz2.σ => 10.0, lorenz2.ρ => 28.0, lorenz2.β => 8/3,\n",
    "    γ => 2.0\n",
    "]\n",
    "\n",
    "tspan = (0.0, 100.0)\n",
    "sys = connLorenz |> structural_simplify\n",
    "sol = solve(ODEProblem(sys, u0, tspan, p, jac=true))\n",
    "plot(sol, idxs=(a, lorenz1.x, lorenz2.x), size=(600,600))"
   ]
  },
  {
   "cell_type": "markdown",
   "metadata": {},
   "source": [
    "### Convert existing functions into MTK systems\n",
    "\n",
    "`modelingtoolkitize(prob)` generates MKT systems from regular DE problems. I t can also generate analytic Jacobin functions for faster solving.\n",
    "\n",
    "Example: **[DAE index reduction](https://mtk.sciml.ai/stable/mtkitize_tutorials/modelingtoolkitize_index_reduction/)** for the pendulum problem, which cannot be solved by regular ODE solvers."
   ]
  },
  {
   "cell_type": "code",
   "execution_count": null,
   "metadata": {},
   "outputs": [],
   "source": [
    "using Plots\n",
    "using ModelingToolkit\n",
    "using DifferentialEquations\n",
    "using LinearAlgebra\n",
    "\n",
    "function pendulum!(du, u, p, t)\n",
    "    x, dx, y, dy, T = u\n",
    "    g, L = p\n",
    "    du[1] = dx\n",
    "    du[2] = T*x\n",
    "    du[3] = dy\n",
    "    du[4] = T*y - g\n",
    "    # Do not write your function like this after you've learned MTK\n",
    "    du[5] = x^2 + y^2 - L^2\n",
    "    return nothing\n",
    "end"
   ]
  },
  {
   "cell_type": "code",
   "execution_count": null,
   "metadata": {},
   "outputs": [],
   "source": [
    "pendulum_fun! = ODEFunction(pendulum!, mass_matrix = Diagonal([1, 1, 1, 1, 0]))\n",
    "u0 = [1.0, 0.0, 0.0, 0.0, 0.0]\n",
    "p = [9.8, 1.0]\n",
    "tspan = (0.0, 10.0)\n",
    "pendulum_prob = ODEProblem(pendulum_fun!, u0, tspan, p)"
   ]
  },
  {
   "cell_type": "markdown",
   "metadata": {},
   "source": [
    "Convert the ODE problem to a MTK system."
   ]
  },
  {
   "cell_type": "code",
   "execution_count": null,
   "metadata": {},
   "outputs": [],
   "source": [
    "tracedSys = modelingtoolkitize(pendulum_prob)"
   ]
  },
  {
   "cell_type": "markdown",
   "metadata": {},
   "source": [
    "`structural_simplify()` and `dae_index_lowering()` transform the index-3 DAE into an index-0 ODE."
   ]
  },
  {
   "cell_type": "code",
   "execution_count": null,
   "metadata": {},
   "outputs": [],
   "source": [
    "pendulumSys = tracedSys |> dae_index_lowering |> structural_simplify"
   ]
  },
  {
   "cell_type": "markdown",
   "metadata": {},
   "source": [
    "The default `u0` is included in the system already so one can use an empty array `[]` as the initial conditions."
   ]
  },
  {
   "cell_type": "code",
   "execution_count": null,
   "metadata": {},
   "outputs": [],
   "source": [
    "prob = ODAEProblem(pendulumSys, [], tspan)\n",
    "sol = solve(prob, abstol=1e-8, reltol=1e-8)\n",
    "plot(sol, idxs=states(tracedSys))"
   ]
  }
 ],
 "metadata": {
  "kernelspec": {
   "display_name": "Julia 1.10.1",
   "language": "julia",
   "name": "julia-1.10"
  },
  "language_info": {
   "file_extension": ".jl",
   "mimetype": "application/julia",
   "name": "julia",
   "version": "1.10.1"
  }
 },
 "nbformat": 4,
 "nbformat_minor": 3
}
