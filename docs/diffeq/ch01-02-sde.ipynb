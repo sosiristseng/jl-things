{
 "cells": [
  {
   "cell_type": "markdown",
   "metadata": {},
   "source": [
    "# Stochastic Differential Equations (SDEs) and Random ODEs (RODEs)\n",
    "\n",
    "- [Wikipedia: Stochastic Differential Equations](https://en.wikipedia.org/wiki/Stochastic_differential_equation)\n",
    "- [SDE example](https://diffeq.sciml.ai/stable/tutorials/sde_example/) in `DifferentialEquations.jl`\n",
    "- [RODE example](https://diffeq.sciml.ai/stable/tutorials/rode_example/) in `DifferentialEquations.jl`\n",
    "\n",
    "\n",
    "## Stochastic Differential Equations (SDEs)\n",
    "\n",
    "### Scalar SDEs with one state variable\n",
    "\n",
    "Solving the equation: $du=f(u,p,t)dt + g(u,p,t)dW$\n",
    "\n",
    "- $f(u,p,t)$ is the ordinary differential equations (ODEs) part\n",
    "- $g(u,p,t)$ is the stochastic part, paired with a Brownian motion term $dW$."
   ]
  },
  {
   "cell_type": "code",
   "execution_count": null,
   "metadata": {},
   "outputs": [],
   "source": [
    "using DifferentialEquations\n",
    "using Plots\n",
    "Plots.default(fmt=:png)\n"
   ]
  },
  {
   "cell_type": "code",
   "execution_count": null,
   "metadata": {},
   "outputs": [],
   "source": [
    "## Main ODE function\n",
    "f = (u, p, t) -> p.α * u\n",
    "## Noise term\n",
    "g = (u, p, t) -> p.β * u\n"
   ]
  },
  {
   "cell_type": "code",
   "execution_count": null,
   "metadata": {},
   "outputs": [],
   "source": [
    "# Setup the SDE problem\n",
    "p = (α=1, β=1)\n",
    "u₀ = 1/2\n",
    "dt = 1//2^(4)\n",
    "tspan = (0.0,1.0)\n",
    "prob = SDEProblem(f, g, u₀, (0.0, 1.0), p)\n"
   ]
  },
  {
   "cell_type": "code",
   "execution_count": null,
   "metadata": {},
   "outputs": [],
   "source": [
    "# Use the classic Euler-Maruyama algorithm\n",
    "sol = solve(prob, EM(), dt=dt)\n",
    "plot(sol)\n"
   ]
  },
  {
   "cell_type": "markdown",
   "metadata": {},
   "source": [
    "The analytical solution: If $f(u,p,t) = \\alpha u$ and $g(u,p,t) = \\beta u$, the analytical solution is $u(t, W_t) = u_0 exp((\\alpha - \\frac{\\beta^2}{2})t + \\beta W_t)$"
   ]
  },
  {
   "cell_type": "code",
   "execution_count": null,
   "metadata": {},
   "outputs": [],
   "source": [
    "f_analytic = (u₀, p, t, W) -> u₀ * exp((p.α - (p.β^2) / 2) * t + p.β * W)\n"
   ]
  },
  {
   "cell_type": "markdown",
   "metadata": {},
   "source": [
    "Combine model and analytic functions into one object"
   ]
  },
  {
   "cell_type": "code",
   "execution_count": null,
   "metadata": {},
   "outputs": [],
   "source": [
    "ff = SDEFunction(f, g, analytic=f_analytic)\n",
    "prob = SDEProblem(ff, g, u₀, (0.0, 1.0), p)\n"
   ]
  },
  {
   "cell_type": "markdown",
   "metadata": {},
   "source": [
    "Visualize numerical and analytical solutions"
   ]
  },
  {
   "cell_type": "code",
   "execution_count": null,
   "metadata": {},
   "outputs": [],
   "source": [
    "sol = solve(prob, EM(), dt=dt)\n",
    "fig = plot(sol, plot_analytic=true)\n"
   ]
  },
  {
   "cell_type": "markdown",
   "metadata": {},
   "source": [
    "Using a higher-order solver leads to a more accurate result"
   ]
  },
  {
   "cell_type": "code",
   "execution_count": null,
   "metadata": {},
   "outputs": [],
   "source": [
    "sol = solve(prob, SRIW1(), dt=dt, adaptive=false)\n",
    "fig = plot(sol, plot_analytic=true)\n"
   ]
  },
  {
   "cell_type": "markdown",
   "metadata": {},
   "source": [
    "The solver is adaptive and can find dt itself"
   ]
  },
  {
   "cell_type": "code",
   "execution_count": null,
   "metadata": {},
   "outputs": [],
   "source": [
    "sol = solve(prob, SRIW1())\n",
    "fig = plot(sol, plot_analytic=true)\n"
   ]
  },
  {
   "cell_type": "markdown",
   "metadata": {},
   "source": [
    "### SDEs with diagonal Noise\n",
    "\n",
    "Each state variable are influenced by its own noise. Here we use the Lorenz system with noise as an example."
   ]
  },
  {
   "cell_type": "code",
   "execution_count": null,
   "metadata": {},
   "outputs": [],
   "source": [
    "using DifferentialEquations\n",
    "using Plots\n",
    "\n",
    "function lorenz!(du, u, p, t)\n",
    "    du[1] = 10.0(u[2]-u[1])\n",
    "    du[2] = u[1]*(28.0-u[3]) - u[2]\n",
    "    du[3] = u[1]*u[2] - (8/3)*u[3]\n",
    "end\n",
    "\n",
    "function σ_lorenz!(du, u, p, t)\n",
    "    du[1] = 3.0\n",
    "    du[2] = 3.0\n",
    "    du[3] = 3.0\n",
    "end\n",
    "\n",
    "prob_sde_lorenz = SDEProblem(lorenz!, σ_lorenz!, [1.0, 0.0, 0.0], (0.0, 20.0))\n",
    "sol = solve(prob_sde_lorenz)\n",
    "\n",
    "fig = plot(sol, idxs=(1,2,3))\n"
   ]
  },
  {
   "cell_type": "markdown",
   "metadata": {},
   "source": [
    "### SDEs with scalar Noise\n",
    "\n",
    "The same noise process (`W`) is applied to all state variables."
   ]
  },
  {
   "cell_type": "code",
   "execution_count": null,
   "metadata": {},
   "outputs": [],
   "source": [
    "using DifferentialEquations\n",
    "using Plots\n"
   ]
  },
  {
   "cell_type": "code",
   "execution_count": null,
   "metadata": {},
   "outputs": [],
   "source": [
    "## Exponential growth with noise\n",
    "f = (du, u, p, t) -> (du .= u)\n",
    "g = (du, u, p, t) -> (du .= u)\n"
   ]
  },
  {
   "cell_type": "code",
   "execution_count": null,
   "metadata": {},
   "outputs": [],
   "source": [
    "## Problem setup\n",
    "u0 = rand(4, 2)\n",
    "W = WienerProcess(0.0, 0.0, 0.0)\n",
    "prob = SDEProblem(f, g, u0, (0.0,1.0), noise=W)\n"
   ]
  },
  {
   "cell_type": "code",
   "execution_count": null,
   "metadata": {},
   "outputs": [],
   "source": [
    "## Solve and visualize\n",
    "sol = solve(prob, SRIW1())\n",
    "fig = plot(sol)\n"
   ]
  },
  {
   "cell_type": "markdown",
   "metadata": {},
   "source": [
    "### SDEs with Non-Diagonal (matrix) Noise\n",
    "\n",
    "A more general type of noise allows for the terms to linearly mixed via noise function `g` being a matrix.\n",
    "\n",
    "$$\n",
    "\\begin{aligned}\n",
    "du_1 &= f_1(u,p,t)dt + g_{11}(u,p,t)dW_1 + g_{12}(u,p,t)dW_2 + g_{13}(u,p,t)dW_3 + g_{14}(u,p,t)dW_4  \\\\\n",
    "du_2 &= f_2(u,p,t)dt + g_{21}(u,p,t)dW_1 + g_{22}(u,p,t)dW_2 + g_{23}(u,p,t)dW_3 + g_{24}(u,p,t)dW_4\n",
    "\\end{aligned}\n",
    "$$"
   ]
  },
  {
   "cell_type": "code",
   "execution_count": null,
   "metadata": {},
   "outputs": [],
   "source": [
    "using DifferentialEquations\n",
    "using Plots\n"
   ]
  },
  {
   "cell_type": "code",
   "execution_count": null,
   "metadata": {},
   "outputs": [],
   "source": [
    "## Model function\n",
    "f = (du, u, p, t) -> du .= 1.01u\n"
   ]
  },
  {
   "cell_type": "code",
   "execution_count": null,
   "metadata": {},
   "outputs": [],
   "source": [
    "## Noise function\n",
    "g = (du, u, p, t) -> begin\n",
    "  du[1,1] = 0.3u[1]\n",
    "  du[1,2] = 0.6u[1]\n",
    "  du[1,3] = 0.9u[1]\n",
    "  du[1,4] = 0.12u[1]\n",
    "  du[2,1] = 1.2u[2]\n",
    "  du[2,2] = 0.2u[2]\n",
    "  du[2,3] = 0.3u[2]\n",
    "  du[2,4] = 1.8u[2]\n",
    "end\n"
   ]
  },
  {
   "cell_type": "code",
   "execution_count": null,
   "metadata": {},
   "outputs": [],
   "source": [
    "u0 = ones(2)\n",
    "tspan = (0.0, 1.0)\n"
   ]
  },
  {
   "cell_type": "code",
   "execution_count": null,
   "metadata": {},
   "outputs": [],
   "source": [
    "## The noise matrix itself is determined by the keyword argument noise_rate_prototype\n",
    "prob = SDEProblem(f, g, u0, tspan, noise_rate_prototype=zeros(2, 4))\n",
    "## Solve and visualize\n",
    "sol = solve(prob)\n",
    "fig = plot(sol)\n"
   ]
  },
  {
   "cell_type": "markdown",
   "metadata": {},
   "source": [
    "### Recommended SDE solvers\n",
    "\n",
    "https://docs.sciml.ai/DiffEqDocs/stable/solvers/sde_solve/"
   ]
  },
  {
   "cell_type": "markdown",
   "metadata": {},
   "source": [
    "## Random ODEs\n",
    "\n",
    "Random ODEs (RODEs) is a more general form that allows nonlinear mixings of randomness.\n",
    "\n",
    "$du = f(u, p, t, W) dt$ where $W(t)$ is a Wiener process (Gaussian process).\n",
    "\n",
    "`RODEProblem(f, u0, tspan [, params])` constructs an RODE problem.\n",
    "\n",
    "The model function signature is\n",
    "- `f(u, p, t, W)` (out-of-place form).\n",
    "- `f(du, u, p, t, W)` (in-place form)."
   ]
  },
  {
   "cell_type": "markdown",
   "metadata": {},
   "source": [
    "### Scalar RODEs\n",
    "\n",
    "$du = f(u,p,t,W) = 2usin(W)$"
   ]
  },
  {
   "cell_type": "code",
   "execution_count": null,
   "metadata": {},
   "outputs": [],
   "source": [
    "using DifferentialEquations\n",
    "using Plots\n",
    "\n",
    "f = (u, p, t, W) -> 2u * sin(W)\n",
    "\n",
    "u0 = 1.00\n",
    "tspan = (0.0, 5.0)\n",
    "prob = RODEProblem(f, u0, tspan)\n",
    "sol = solve(prob, RandomEM(), dt=1/100)\n",
    "\n",
    "fig = plot(sol)\n"
   ]
  },
  {
   "cell_type": "markdown",
   "metadata": {},
   "source": [
    "### Systems of RODEs\n",
    "\n",
    "Using the in-place form for the right-jand-side (RHS)."
   ]
  },
  {
   "cell_type": "code",
   "execution_count": null,
   "metadata": {},
   "outputs": [],
   "source": [
    "using DifferentialEquations\n",
    "using Plots\n",
    "\n",
    "f = function (du, u, p, t, W)\n",
    "  du[1] = 2u[1] * sin(W[1] - W[2])\n",
    "  du[2] = -2u[2] * cos(W[1] + W[2])\n",
    "end\n",
    "\n",
    "u0 = [1.00, 1.00]\n",
    "tspan = (0.0, 5.0)\n",
    "\n",
    "prob = RODEProblem(f, u0, tspan)\n",
    "sol = solve(prob, RandomEM(), dt=1/100)\n",
    "\n",
    "fig = plot(sol)\n"
   ]
  }
 ],
 "metadata": {
  "kernelspec": {
   "display_name": "Julia 1.10.0",
   "language": "julia",
   "name": "julia-1.10"
  },
  "language_info": {
   "file_extension": ".jl",
   "mimetype": "application/julia",
   "name": "julia",
   "version": "1.10.0"
  }
 },
 "nbformat": 4,
 "nbformat_minor": 2
}
