{
 "cells": [
  {
   "cell_type": "markdown",
   "metadata": {},
   "source": [
    "# Learning Julia Differential Equations\n",
    "\n",
    "- https://github.com/SciML/DifferentialEquations.jl : high-performance solvers for differential equations.\n",
    "- https://github.com/SciML/ModelingToolkit.jl : a modeling framework for high-performance symbolic-numeric computation in scientific computing and scientific machine learning\n",
    "- https://github.com/SciML/Catalyst.jl : a symbolic modeling package for analysis and high performance simulation of chemical reaction networks. "
   ]
  },
  {
   "cell_type": "markdown",
   "metadata": {},
   "source": [
    "## Tips and tricks\n",
    "\n",
    "The following section contains tips and tricks in modeling and simulation."
   ]
  },
  {
   "cell_type": "markdown",
   "metadata": {},
   "source": [
    "### Smmoth Heaviside step function\n",
    "\n",
    "A [Heaviside step function](https://en.wikipedia.org/wiki/Heaviside_step_function) (0 when x < a, 1 when x > a) could be approximated with a steep [logistic function](https://en.wikipedia.org/wiki/Logistic_function)."
   ]
  },
  {
   "cell_type": "code",
   "execution_count": null,
   "metadata": {},
   "outputs": [],
   "source": [
    "logistic(x, k=1000) = inv(1 + exp(-k * x))"
   ]
  },
  {
   "cell_type": "markdown",
   "metadata": {},
   "source": [
    "The function output switches from zero to one around `x=0`."
   ]
  },
  {
   "cell_type": "code",
   "execution_count": null,
   "metadata": {},
   "outputs": [],
   "source": [
    "using Plots\n",
    "\n",
    "plot(logistic, -1, 1, label=\"sigmoid approx.\")"
   ]
  },
  {
   "cell_type": "markdown",
   "metadata": {},
   "source": [
    "### Smooth single pulse\n",
    "\n",
    "A single pulse could be approximated with a product of two logistic functions."
   ]
  },
  {
   "cell_type": "code",
   "execution_count": null,
   "metadata": {},
   "outputs": [],
   "source": [
    "logistic(x, k=1000) = inv(1 + exp(-k * x))\n",
    "singlepulse(x, t0=0, t1=0.1, k=1000) = logistic(x - t0, k) * logistic(t1 - x, k)\n",
    "\n",
    "plot(singlepulse, -10, 10, label=\"sigmoid approx.\")"
   ]
  },
  {
   "cell_type": "markdown",
   "metadata": {},
   "source": [
    "### Smooth minimal function\n",
    "\n",
    "Adapted from this discourse post: https://discourse.julialang.org/t/handling-instability-when-solving-ode-problems/9019/5"
   ]
  },
  {
   "cell_type": "code",
   "execution_count": null,
   "metadata": {},
   "outputs": [],
   "source": [
    "function smoothmin(x, k=100)\n",
    "    -log(1 + exp(-k * x))/k\n",
    "end\n",
    "\n",
    "plot(smoothmin, -5, 5, label=\"Smooth min\")"
   ]
  },
  {
   "cell_type": "markdown",
   "metadata": {},
   "source": [
    "### Periodic pulses\n",
    "\n",
    "From: https://www.noamross.net/2015/11/12/a-smooth-differentiable-pulse-function/"
   ]
  },
  {
   "cell_type": "code",
   "execution_count": null,
   "metadata": {},
   "outputs": [],
   "source": [
    "function smoothpulses(t, tstart, tend, period=1, amplitude=period / (tend - tstart), steepness=1000)\n",
    "    @assert tstart < tend < period\n",
    "    xi = 3 / 4 - (tend - tstart) / (2 * period)\n",
    "    p = inv(1 + exp(steepness * (sinpi(2 * ((t - tstart) / period + xi)) - sinpi(2 * xi))))\n",
    "    return amplitude * p\n",
    "end\n",
    "\n",
    "plot(t->smoothpulses(t, 0.2, 0.3, 0.5), 0.0, 2.0, lab=\"pulses\")"
   ]
  },
  {
   "cell_type": "markdown",
   "metadata": {},
   "source": [
    "### Avoiding DomainErrors\n",
    "\n",
    "Some functions such as `sqrt(x)`, `log(x)`, and `pow(x)` will throw `DomainError` exceptions with negative `x`, interrupting differential equation solvers. One can use the respective functions in https://github.com/JuliaMath/NaNMath.jl, returning `NaN` instead of throwing a `DomainError`. Then, the differential equation solvers will reject the solution and retry with a smaller time step."
   ]
  },
  {
   "cell_type": "code",
   "execution_count": null,
   "metadata": {},
   "outputs": [],
   "source": [
    "import NaNMath as nm\n",
    "nm.sqrt(-1.0) ## returns NaN"
   ]
  },
  {
   "cell_type": "markdown",
   "metadata": {},
   "source": [
    "## Runtime environment"
   ]
  },
  {
   "cell_type": "code",
   "execution_count": null,
   "metadata": {},
   "outputs": [],
   "source": [
    "import InteractiveUtils\n",
    "InteractiveUtils.versioninfo()"
   ]
  },
  {
   "cell_type": "code",
   "execution_count": null,
   "metadata": {},
   "outputs": [],
   "source": [
    "import Pkg\n",
    "Pkg.status()"
   ]
  }
 ],
 "metadata": {
  "kernelspec": {
   "display_name": "Julia 1.10.1",
   "language": "julia",
   "name": "julia-1.10"
  },
  "language_info": {
   "file_extension": ".jl",
   "mimetype": "application/julia",
   "name": "julia",
   "version": "1.10.1"
  }
 },
 "nbformat": 4,
 "nbformat_minor": 3
}
