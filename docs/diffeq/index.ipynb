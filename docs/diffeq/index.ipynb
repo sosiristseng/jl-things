{
 "cells": [
  {
   "cell_type": "markdown",
   "source": [
    "# Learning Julia Differential Equations\n",
    "\n",
    "- [DifferentialEquations.jl](https://github.com/SciML/DifferentialEquations.jl): high-performance solvers of differential equations.\n",
    "\n",
    "## Runtime environment"
   ],
   "metadata": {}
  },
  {
   "outputs": [],
   "cell_type": "code",
   "source": [
    "import InteractiveUtils\n",
    "InteractiveUtils.versioninfo()"
   ],
   "metadata": {},
   "execution_count": null
  },
  {
   "outputs": [],
   "cell_type": "code",
   "source": [
    "import Pkg\n",
    "Pkg.status()"
   ],
   "metadata": {},
   "execution_count": null
  },
  {
   "cell_type": "markdown",
   "source": [
    "---\n",
    "\n",
    "*This notebook was generated using [Literate.jl](https://github.com/fredrikekre/Literate.jl).*"
   ],
   "metadata": {}
  }
 ],
 "nbformat_minor": 3,
 "metadata": {
  "language_info": {
   "file_extension": ".jl",
   "mimetype": "application/julia",
   "name": "julia",
   "version": "1.10.0"
  },
  "kernelspec": {
   "name": "julia-1.10",
   "display_name": "Julia 1.10.0",
   "language": "julia"
  }
 },
 "nbformat": 4
}
