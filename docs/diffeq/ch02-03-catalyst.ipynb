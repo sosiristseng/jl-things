{
 "cells": [
  {
   "cell_type": "markdown",
   "metadata": {},
   "source": [
    "# Catalyst.jl\n",
    "\n",
    "`Catalyst.jl` is a domain specific language (DSL) for high performance simulation and modeling of chemical reaction networks. `Catalyst.jl` is based on `ModelingToolkit.jl` for symbolic transformations.\n",
    "\n",
    "This part is lalrgely based on [Catalyst.jl Docs](https://docs.sciml.ai/Catalyst/dev/).\n",
    "\n",
    "## Repressilator example\n",
    "\n",
    "Take the [Repressilator](https://en.wikipedia.org/wiki/Repressilator) for example:"
   ]
  },
  {
   "cell_type": "code",
   "execution_count": null,
   "metadata": {},
   "outputs": [],
   "source": [
    "using Catalyst\n",
    "using ModelingToolkit\n",
    "using DifferentialEquations\n",
    "using Plots\n",
    "Plots.default(fmt=:png)"
   ]
  },
  {
   "cell_type": "code",
   "execution_count": null,
   "metadata": {},
   "outputs": [],
   "source": [
    "repressilator = @reaction_network begin\n",
    "    hillr(P₃,α,K,n), ∅ --> m₁\n",
    "    hillr(P₁,α,K,n), ∅ --> m₂\n",
    "    hillr(P₂,α,K,n), ∅ --> m₃\n",
    "    (δ,γ), m₁ ↔ ∅\n",
    "    (δ,γ), m₂ ↔ ∅\n",
    "    (δ,γ), m₃ ↔ ∅\n",
    "    β, m₁ --> m₁ + P₁\n",
    "    β, m₂ --> m₂ + P₂\n",
    "    β, m₃ --> m₃ + P₃\n",
    "    μ, P₁ --> ∅\n",
    "    μ, P₂ --> ∅\n",
    "    μ, P₃ --> ∅\n",
    "end"
   ]
  },
  {
   "cell_type": "markdown",
   "metadata": {},
   "source": [
    "State variables in the reaction network"
   ]
  },
  {
   "cell_type": "code",
   "execution_count": null,
   "metadata": {},
   "outputs": [],
   "source": [
    "states(repressilator)"
   ]
  },
  {
   "cell_type": "markdown",
   "metadata": {},
   "source": [
    "Parameters in the reaction network"
   ]
  },
  {
   "cell_type": "code",
   "execution_count": null,
   "metadata": {},
   "outputs": [],
   "source": [
    "parameters(repressilator)"
   ]
  },
  {
   "cell_type": "markdown",
   "metadata": {},
   "source": [
    "Reactions in the reaction network"
   ]
  },
  {
   "cell_type": "code",
   "execution_count": null,
   "metadata": {},
   "outputs": [],
   "source": [
    "reactions(repressilator)"
   ]
  },
  {
   "cell_type": "markdown",
   "metadata": {},
   "source": [
    "### Convert a reaction network to an ODE system"
   ]
  },
  {
   "cell_type": "code",
   "execution_count": null,
   "metadata": {},
   "outputs": [],
   "source": [
    "odesys = convert(ODESystem, repressilator)"
   ]
  },
  {
   "cell_type": "markdown",
   "metadata": {},
   "source": [
    "To setup parameters (`ps`) and initial conditions (`u₀`), you can use symbols to specify the values."
   ]
  },
  {
   "cell_type": "code",
   "execution_count": null,
   "metadata": {},
   "outputs": [],
   "source": [
    "p = [:α => .5, :K => 40, :n => 2, :δ => log(2)/120, :γ => 5e-3, :β => 20*log(2)/120, :μ => log(2)/60]\n",
    "u₀ = [:m₁ => 0., :m₂ => 0., :m₃ => 0., :P₁ => 20.,:P₂ => 0.,:P₃ => 0.]"
   ]
  },
  {
   "cell_type": "markdown",
   "metadata": {},
   "source": [
    "Or you can extract MTK symbols with the `@unpack` macro (recommended, since it's less error-prone)"
   ]
  },
  {
   "cell_type": "code",
   "execution_count": null,
   "metadata": {},
   "outputs": [],
   "source": [
    "@unpack m₁, m₂, m₃, P₁, P₂, P₃, α, K, n, δ, γ, β, μ = repressilator\n",
    "p = [α => .5, K => 40, n => 2, δ => log(2)/120, γ => 5e-3, β => 20*log(2)/120, μ => log(2)/60]\n",
    "u₀ = [m₁ => 0., m₂ => 0., m₃ => 0., P₁ => 20., P₂ => 0., P₃ => 0.]"
   ]
  },
  {
   "cell_type": "markdown",
   "metadata": {},
   "source": [
    "Then we can solve this ODE problem"
   ]
  },
  {
   "cell_type": "code",
   "execution_count": null,
   "metadata": {},
   "outputs": [],
   "source": [
    "tspan = (0., 10000.)\n",
    "oprob = ODEProblem(odesys, u₀, tspan, p)\n",
    "sol = solve(oprob)\n",
    "plot(sol)"
   ]
  },
  {
   "cell_type": "markdown",
   "metadata": {},
   "source": [
    "Use extracted symbols to make a phase plot."
   ]
  },
  {
   "cell_type": "code",
   "execution_count": null,
   "metadata": {},
   "outputs": [],
   "source": [
    "plot(sol, idxs = (P₁, P₂))"
   ]
  },
  {
   "cell_type": "markdown",
   "metadata": {},
   "source": [
    "### Convert to Stochastic simulations\n",
    "You can create a stochastic model from the very same reaction network.\n",
    "The initial conditions should be integers"
   ]
  },
  {
   "cell_type": "code",
   "execution_count": null,
   "metadata": {},
   "outputs": [],
   "source": [
    "u₀ = [m₁ => 0, m₂ => 0, m₃ => 0, P₁ => 20, P₂ => 0, P₃ => 0]"
   ]
  },
  {
   "cell_type": "markdown",
   "metadata": {},
   "source": [
    "Create a discrete problem because our species are integer valued:"
   ]
  },
  {
   "cell_type": "code",
   "execution_count": null,
   "metadata": {},
   "outputs": [],
   "source": [
    "dprob = DiscreteProblem(repressilator, u₀, tspan, p)"
   ]
  },
  {
   "cell_type": "markdown",
   "metadata": {},
   "source": [
    "Create a `JumpProblem`, and specify Gillespie's Direct Method as the solver."
   ]
  },
  {
   "cell_type": "code",
   "execution_count": null,
   "metadata": {},
   "outputs": [],
   "source": [
    "jprob = JumpProblem(repressilator, dprob, Direct(), save_positions=(false,false))"
   ]
  },
  {
   "cell_type": "markdown",
   "metadata": {},
   "source": [
    "Solve and visualize the problem."
   ]
  },
  {
   "cell_type": "code",
   "execution_count": null,
   "metadata": {},
   "outputs": [],
   "source": [
    "sol = solve(jprob, SSAStepper(), saveat=10.)\n",
    "plot(sol)"
   ]
  },
  {
   "cell_type": "markdown",
   "metadata": {},
   "source": [
    "## Chemical Langevin Equation (CLE) Stochastic Differential Equation (SDE) Models\n",
    "\n",
    "Stochastic Differential Equation (SDE) Models are in the middle ground of deterministic ODE model and Gillispie stochastic models, by introducing noise terms into the differential equations system.\n",
    "\n",
    "Take the birth-death process as example:"
   ]
  },
  {
   "cell_type": "code",
   "execution_count": null,
   "metadata": {},
   "outputs": [],
   "source": [
    "bdp = @reaction_network begin\n",
    "    c₁, X --> 2X\n",
    "    c₂, X --> 0\n",
    "    c₃, 0 --> X\n",
    "end"
   ]
  },
  {
   "cell_type": "code",
   "execution_count": null,
   "metadata": {},
   "outputs": [],
   "source": [
    "@unpack c₁, c₂, c₃, X = bdp\n",
    "p = (c₁ => 1.0, c₂ => 2.0, c₃ => 50.)\n",
    "u₀ = [X => 5.]\n",
    "tspan = (0., 4.)\n",
    "sprob = SDEProblem(bdp, u₀, tspan, p)"
   ]
  },
  {
   "cell_type": "markdown",
   "metadata": {},
   "source": [
    "solve and plot, `tstops` is used to specify enough points that the plot looks well-resolved."
   ]
  },
  {
   "cell_type": "code",
   "execution_count": null,
   "metadata": {},
   "outputs": [],
   "source": [
    "sol = solve(sprob, LambaEM(), tstops=range(0., step=4e-3, length=1001))\n",
    "plot(sol)"
   ]
  },
  {
   "cell_type": "markdown",
   "metadata": {},
   "source": [
    "## Generating Reaction Systems Programmatically\n",
    "\n",
    "There are two ways to create a reaction for `ReactionSystem`s:\n",
    "- `Reaction()` function\n",
    "- `@reaction` macro"
   ]
  },
  {
   "cell_type": "code",
   "execution_count": null,
   "metadata": {},
   "outputs": [],
   "source": [
    "@parameters α K n δ γ β μ\n",
    "@variables t\n",
    "@species m₁(t) m₂(t) m₃(t) P₁(t) P₂(t) P₃(t)"
   ]
  },
  {
   "cell_type": "markdown",
   "metadata": {},
   "source": [
    "### Reaction function\n",
    "\n",
    "The `Reaction(rate, substrates, products)` function builds reactions. To allow for other stoichiometric coefficients we also provide a five argument form: `Reaction(rate, substrates, products, substrate_stoichiometries, product_stoichiometries)`"
   ]
  },
  {
   "cell_type": "code",
   "execution_count": null,
   "metadata": {},
   "outputs": [],
   "source": [
    "rxs = [\n",
    "    Reaction(hillr(P₃,α,K,n), nothing, [m₁]),\n",
    "    Reaction(hillr(P₁,α,K,n), nothing, [m₂]),\n",
    "    Reaction(hillr(P₂,α,K,n), nothing, [m₃]),\n",
    "    Reaction(δ, [m₁], nothing),\n",
    "    Reaction(γ, nothing, [m₁]),\n",
    "    Reaction(δ, [m₂], nothing),\n",
    "    Reaction(γ, nothing, [m₂]),\n",
    "    Reaction(δ, [m₃], nothing),\n",
    "    Reaction(γ, nothing, [m₃]),\n",
    "    Reaction(β, [m₁], [m₁,P₁]),\n",
    "    Reaction(β, [m₂], [m₂,P₂]),\n",
    "    Reaction(β, [m₃], [m₃,P₃]),\n",
    "    Reaction(μ, [P₁], nothing),\n",
    "    Reaction(μ, [P₂], nothing),\n",
    "    Reaction(μ, [P₃], nothing)\n",
    "]"
   ]
  },
  {
   "cell_type": "markdown",
   "metadata": {},
   "source": [
    "Use `ReactionSystem(reactions, indenpendeent_variable)` to collect these reactions. `@named` macro is used because every system in `ModelingToolkit` needs a name. `@named x = System(...)` is a short hand for `x = System(...; name=:x)`"
   ]
  },
  {
   "cell_type": "code",
   "execution_count": null,
   "metadata": {},
   "outputs": [],
   "source": [
    "@named repressilator = ReactionSystem(rxs, t)"
   ]
  },
  {
   "cell_type": "markdown",
   "metadata": {},
   "source": [
    "The `@reaction` macro provides the same syntax in the `@reaction_network` to build reactions. Note that `@reaction` macro only allows one-way reaction; **reversible arrows are not allowed**."
   ]
  },
  {
   "cell_type": "code",
   "execution_count": null,
   "metadata": {},
   "outputs": [],
   "source": [
    "@variables t\n",
    "@species P₁(t) P₂(t) P₃(t)\n",
    "\n",
    "rxs = [(@reaction hillr($P₃,α,K,n), ∅ --> m₁),\n",
    "       (@reaction hillr($P₁,α,K,n), ∅ --> m₂),\n",
    "       (@reaction hillr($P₂,α,K,n), ∅ --> m₃),\n",
    "       (@reaction δ, m₁ --> ∅),\n",
    "       (@reaction γ, ∅ --> m₁),\n",
    "       (@reaction δ, m₂ --> ∅),\n",
    "       (@reaction γ, ∅ --> m₂),\n",
    "       (@reaction δ, m₃ --> ∅),\n",
    "       (@reaction γ, ∅ --> m₃),\n",
    "       (@reaction β, m₁ --> m₁ + P₁),\n",
    "       (@reaction β, m₂ --> m₂ + P₂),\n",
    "       (@reaction β, m₃ --> m₃ + P₃),\n",
    "       (@reaction μ, P₁ --> ∅),\n",
    "       (@reaction μ, P₂ --> ∅),\n",
    "       (@reaction μ, P₃ --> ∅)]\n",
    "\n",
    "@named repressilator2 = ReactionSystem(rxs, t)"
   ]
  },
  {
   "cell_type": "markdown",
   "metadata": {},
   "source": [
    "## Conservation laws\n",
    "We can use conservation laws to eliminiate some state variables. For example, in the chemical reaction `A + B <--> C`, given the initial concentrations of A, B, and C, the solver only needs to solve one state variable (either [A], [B], or [C]) instead of all three of them."
   ]
  },
  {
   "cell_type": "code",
   "execution_count": null,
   "metadata": {},
   "outputs": [],
   "source": [
    "rn = @reaction_network begin\n",
    "    (k₊,k₋), A + B <--> C\n",
    "end"
   ]
  },
  {
   "cell_type": "markdown",
   "metadata": {},
   "source": [
    "initial condition and parameter values"
   ]
  },
  {
   "cell_type": "code",
   "execution_count": null,
   "metadata": {},
   "outputs": [],
   "source": [
    "setdefaults!(rn, [:A => 1.0, :B => 2.0, :C => 0.0, :k₊ => 1.0, :k₋ => 1.0])"
   ]
  },
  {
   "cell_type": "markdown",
   "metadata": {},
   "source": [
    "Let's convert it to a system of ODEs, using the conservation laws of the system to eliminate two of the species, leaving only one of them as the state variable."
   ]
  },
  {
   "cell_type": "code",
   "execution_count": null,
   "metadata": {},
   "outputs": [],
   "source": [
    "osys = convert(ODESystem, rn; remove_conserved=true)"
   ]
  },
  {
   "cell_type": "code",
   "execution_count": null,
   "metadata": {},
   "outputs": [],
   "source": [
    "states(osys)"
   ]
  },
  {
   "cell_type": "code",
   "execution_count": null,
   "metadata": {},
   "outputs": [],
   "source": [
    "observed(osys)"
   ]
  },
  {
   "cell_type": "code",
   "execution_count": null,
   "metadata": {},
   "outputs": [],
   "source": [
    "oprob = ODEProblem(osys, [], (0.0, 10.0), [])\n",
    "sol = solve(oprob, Tsit5())"
   ]
  },
  {
   "cell_type": "code",
   "execution_count": null,
   "metadata": {},
   "outputs": [],
   "source": [
    "plot(sol, idxs=osys.C)"
   ]
  }
 ],
 "metadata": {
  "kernelspec": {
   "display_name": "Julia 1.10.0",
   "language": "julia",
   "name": "julia-1.10"
  },
  "language_info": {
   "file_extension": ".jl",
   "mimetype": "application/julia",
   "name": "julia",
   "version": "1.10.0"
  }
 },
 "nbformat": 4,
 "nbformat_minor": 3
}
