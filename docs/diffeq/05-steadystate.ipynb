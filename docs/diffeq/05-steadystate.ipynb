{
 "cells": [
  {
   "cell_type": "markdown",
   "metadata": {},
   "source": [
    "# Steady state solutions\n",
    "\n",
    "- DiffEq docs: https://docs.sciml.ai/DiffEqDocs/stable/solvers/steady_state_solve/\n",
    "- ModelingToolkit docs: https://docs.sciml.ai/ModelingToolkit/stable/tutorials/nonlinear/\n",
    "- NonlinearSolve docs: https://docs.sciml.ai/NonlinearSolve/stable/\n",
    "\n",
    "Solving steady state solutions for an ODE system is to find a combination of state variables such that their derivatives are all zeroes. Their are two ways:\n",
    "\n",
    "- Running the ODE solver until a steady state is reached (`DynamicSS()` and `DifferentialEquations.jl`)\n",
    "- Using a root-finding algorithm to find a steady state (`SSRootfind()` and `NonlinearSolve.jl`)"
   ]
  },
  {
   "cell_type": "markdown",
   "metadata": {},
   "source": [
    "## Defining a steady state problem"
   ]
  },
  {
   "cell_type": "code",
   "execution_count": null,
   "metadata": {},
   "outputs": [],
   "source": [
    "using DifferentialEquations\n",
    "\n",
    "model(u, p, t) = 1 - p * u\n",
    "\n",
    "p = 1.0 ## Parameter\n",
    "u0 = 0.0 ## Initial condition\n",
    "prob = SteadyStateProblem(model, u0, p) ## Define the problem\n",
    "alg = DynamicSS(Tsit5())\n",
    "sol = solve(prob, alg) ## Solve the problem"
   ]
  },
  {
   "cell_type": "markdown",
   "metadata": {},
   "source": [
    "The result should be close to 1.0."
   ]
  },
  {
   "cell_type": "markdown",
   "metadata": {},
   "source": [
    "## Modelingtoolkit solving nonlinear systems \n",
    "\n",
    "Use `NonlinearSolve.jl` and `NonlinearSystem()`."
   ]
  },
  {
   "cell_type": "code",
   "execution_count": null,
   "metadata": {},
   "outputs": [],
   "source": [
    "using ModelingToolkit\n",
    "using NonlinearSolve\n",
    "\n",
    "@variables x y z\n",
    "@parameters σ ρ β\n",
    "\n",
    "eqs = [\n",
    "    0 ~ σ * (y-x),\n",
    "    0 ~ x * (ρ - z) - y,\n",
    "    0 ~ x * y - β * z\n",
    "]"
   ]
  },
  {
   "cell_type": "code",
   "execution_count": null,
   "metadata": {},
   "outputs": [],
   "source": [
    "@named ns = NonlinearSystem(eqs, [x, y, z], [σ, ρ, β])"
   ]
  },
  {
   "cell_type": "code",
   "execution_count": null,
   "metadata": {},
   "outputs": [],
   "source": [
    "guess = [x => 1.0, y => 0.0, z => 0.0]\n",
    "ps = [σ => 10.0, ρ => 26.0, β => 8/3]\n",
    "prob = NonlinearProblem(ns, guess, ps)\n",
    "sol = solve(prob, NewtonRaphson()) ## The results should be all zeroes"
   ]
  },
  {
   "cell_type": "markdown",
   "metadata": {},
   "source": [
    "Another nonlinear system example with `structural_simplify()`."
   ]
  },
  {
   "cell_type": "code",
   "execution_count": null,
   "metadata": {},
   "outputs": [],
   "source": [
    "@parameters t\n",
    "@variables u1(t) u2(t) u3(t) u4(t) u5(t)\n",
    "\n",
    "eqs = [\n",
    "    0 ~ u1 - sin(u5)\n",
    "    0 ~ u2 - cos(u1)\n",
    "    0 ~ u3 - hypot(u1, u2)\n",
    "    0 ~ u4 - hypot(u2, u3)\n",
    "    0 ~ u5 - hypot(u4, u1)\n",
    "]\n",
    "\n",
    "@named sys = NonlinearSystem(eqs, [u1, u2, u3, u4, u5], [])"
   ]
  },
  {
   "cell_type": "markdown",
   "metadata": {},
   "source": [
    "You can simplify the problem using `structural_simplify()`.\n",
    "\n",
    "There will be only one state variable left. The solve can solve the problem faster."
   ]
  },
  {
   "cell_type": "code",
   "execution_count": null,
   "metadata": {},
   "outputs": [],
   "source": [
    "simple_sys = structural_simplify(sys)\n",
    "\n",
    "prob = NonlinearProblem(simple_sys, [u5=>0.0])\n",
    "sol = solve(prob, NewtonRaphson())"
   ]
  },
  {
   "cell_type": "markdown",
   "metadata": {},
   "source": [
    "The answer should be 1.6 and 1.0."
   ]
  },
  {
   "cell_type": "code",
   "execution_count": null,
   "metadata": {},
   "outputs": [],
   "source": [
    "@show sol[u5] sol[u1];  ## 1.6 and 1.0"
   ]
  }
 ],
 "metadata": {
  "kernelspec": {
   "display_name": "Julia 1.10.1",
   "language": "julia",
   "name": "julia-1.10"
  },
  "language_info": {
   "file_extension": ".jl",
   "mimetype": "application/julia",
   "name": "julia",
   "version": "1.10.1"
  }
 },
 "nbformat": 4,
 "nbformat_minor": 3
}
