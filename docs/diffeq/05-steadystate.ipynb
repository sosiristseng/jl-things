{
 "cells": [
  {
   "cell_type": "markdown",
   "source": [
    "# Steady state solutions\n",
    "\n",
    "- DiffEq docs: https://docs.sciml.ai/DiffEqDocs/stable/solvers/steady_state_solve/\n",
    "- ModelingToolkit docs: https://docs.sciml.ai/ModelingToolkit/stable/tutorials/nonlinear/\n",
    "- NonlinearSolve docs: https://docs.sciml.ai/NonlinearSolve/stable/\n",
    "\n",
    "Solving steady state solutions for an ODE system is to find a combination of state variables such that their derivatives are all zeroes. Their are two ways:\n",
    "\n",
    "- Running the ODE solver until a steady state is reached (`DynamicSS()` and `DifferentialEquations.jl`)\n",
    "- Using a root-finding algorithm to find a steady state (`SSRootfind()` and `NonlinearSolve.jl`)\n",
    "\n",
    "## Defining a steady state problem"
   ],
   "metadata": {}
  },
  {
   "outputs": [],
   "cell_type": "code",
   "source": [
    "using DifferentialEquations\n",
    "\n",
    "model(u, p, t) = 1 - p * u\n",
    "\n",
    "p = 1.0\n",
    "u0 = 0.0\n",
    "prob = SteadyStateProblem(model, u0, p)\n",
    "alg = DynamicSS(Tsit5())"
   ],
   "metadata": {},
   "execution_count": null
  },
  {
   "cell_type": "markdown",
   "source": [
    "Solve the problem. The result should be close to 1.0."
   ],
   "metadata": {}
  },
  {
   "outputs": [],
   "cell_type": "code",
   "source": [
    "sol = solve(prob, alg) ##"
   ],
   "metadata": {},
   "execution_count": null
  },
  {
   "cell_type": "markdown",
   "source": [
    "## Modelingtoolkit solving nonlinear systems\n",
    "Use `NonlinearSolve.jl` and `NonlinearSystem()`."
   ],
   "metadata": {}
  },
  {
   "outputs": [],
   "cell_type": "code",
   "source": [
    "using ModelingToolkit\n",
    "using NonlinearSolve\n",
    "\n",
    "@variables x y z\n",
    "@parameters σ ρ β\n",
    "\n",
    "eqs = [\n",
    "    0 ~ σ * (y - x),\n",
    "    0 ~ x * (ρ - z) - y,\n",
    "    0 ~ x * y - β * z\n",
    "]\n",
    "\n",
    "@named ns = NonlinearSystem(eqs, [x, y, z], [σ, ρ, β])\n",
    "\n",
    "guess = [x => 1.0, y => 0.0, z => 0.0]\n",
    "ps = [σ => 10.0, ρ => 26.0, β => 8 / 3]\n",
    "prob = NonlinearProblem(ns, guess, ps)\n",
    "sol = solve(prob, NewtonRaphson()) ## The results should be all zeroes"
   ],
   "metadata": {},
   "execution_count": null
  },
  {
   "cell_type": "markdown",
   "source": [
    "Another nonlinear system example with `structural_simplify()`."
   ],
   "metadata": {}
  },
  {
   "outputs": [],
   "cell_type": "code",
   "source": [
    "@parameters t\n",
    "@variables u1(t) u2(t) u3(t) u4(t) u5(t)\n",
    "\n",
    "eqs = [\n",
    "    0 ~ u1 - sin(u5)\n",
    "    0 ~ u2 - cos(u1)\n",
    "    0 ~ u3 - hypot(u1, u2)\n",
    "    0 ~ u4 - hypot(u2, u3)\n",
    "    0 ~ u5 - hypot(u4, u1)\n",
    "]\n",
    "\n",
    "@named sys = NonlinearSystem(eqs, [u1, u2, u3, u4, u5], [])"
   ],
   "metadata": {},
   "execution_count": null
  },
  {
   "cell_type": "markdown",
   "source": [
    "You can simplify the problem using `structural_simplify()`.\n",
    "There will be only one state variable left. The solve can solve the problem faster."
   ],
   "metadata": {}
  },
  {
   "outputs": [],
   "cell_type": "code",
   "source": [
    "simple_sys = structural_simplify(sys)\n",
    "prob = NonlinearProblem(simple_sys, [u5 => 0.0])\n",
    "sol = solve(prob, NewtonRaphson())"
   ],
   "metadata": {},
   "execution_count": null
  },
  {
   "cell_type": "markdown",
   "source": [
    "The answer should be 1.6 and 1.0."
   ],
   "metadata": {}
  },
  {
   "outputs": [],
   "cell_type": "code",
   "source": [
    "@show sol[u5] sol[u1];"
   ],
   "metadata": {},
   "execution_count": null
  },
  {
   "cell_type": "markdown",
   "source": [
    "---\n",
    "\n",
    "*This notebook was generated using [Literate.jl](https://github.com/fredrikekre/Literate.jl).*"
   ],
   "metadata": {}
  }
 ],
 "nbformat_minor": 3,
 "metadata": {
  "language_info": {
   "file_extension": ".jl",
   "mimetype": "application/julia",
   "name": "julia",
   "version": "1.10.3"
  },
  "kernelspec": {
   "name": "julia-1.10",
   "display_name": "Julia 1.10.3",
   "language": "julia"
  }
 },
 "nbformat": 4
}
