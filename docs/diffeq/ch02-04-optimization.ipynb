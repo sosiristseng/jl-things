{
 "cells": [
  {
   "cell_type": "markdown",
   "metadata": {},
   "source": [
    "# Optimization Problems\n",
    "\n",
    "From: https://mtk.sciml.ai/dev/tutorials/optimization/"
   ]
  },
  {
   "cell_type": "markdown",
   "metadata": {},
   "source": [
    "## 2D Rosenbrock Function\n",
    "\n",
    "Wikipedia: https://en.wikipedia.org/wiki/Rosenbrock_function\n",
    "\n",
    "Find $(x, y)$ that minimizes the loss function $(a - x)^2 + b(y - x^2)^2$"
   ]
  },
  {
   "cell_type": "code",
   "execution_count": null,
   "metadata": {},
   "outputs": [],
   "source": [
    "using ModelingToolkit\n",
    "using Optimization\n",
    "using OptimizationOptimJL"
   ]
  },
  {
   "cell_type": "code",
   "execution_count": null,
   "metadata": {},
   "outputs": [],
   "source": [
    "@variables begin\n",
    "    x, [bounds = (-2.0, 2.0)]\n",
    "    y, [bounds = (-1.0, 3.0)]\n",
    "end\n",
    "\n",
    "@parameters a=1 b=1"
   ]
  },
  {
   "cell_type": "markdown",
   "metadata": {},
   "source": [
    "Target (loss) function"
   ]
  },
  {
   "cell_type": "code",
   "execution_count": null,
   "metadata": {},
   "outputs": [],
   "source": [
    "loss = (a - x)^2 + b * (y - x^2)^2"
   ]
  },
  {
   "cell_type": "markdown",
   "metadata": {},
   "source": [
    "The model"
   ]
  },
  {
   "cell_type": "code",
   "execution_count": null,
   "metadata": {},
   "outputs": [],
   "source": [
    "@named sys = OptimizationSystem(loss, [x, y], [a, b])"
   ]
  },
  {
   "cell_type": "markdown",
   "metadata": {},
   "source": [
    "MTK can generate Gradient and Hessian to solve the problem more efficiently."
   ]
  },
  {
   "cell_type": "code",
   "execution_count": null,
   "metadata": {},
   "outputs": [],
   "source": [
    "u0 = [\n",
    "    x => 1.0\n",
    "    y => 2.0\n",
    "]\n",
    "p = [\n",
    "    a => 1.0\n",
    "    b => 100.0\n",
    "]\n",
    "\n",
    "prob = OptimizationProblem(sys, u0, p, grad=true, hess=true)\n",
    "\n",
    "# The true solution is (1.0, 1.0)\n",
    "sol = solve(prob, GradientDescent())"
   ]
  },
  {
   "cell_type": "markdown",
   "metadata": {},
   "source": [
    "## Adding constraints\n",
    "\n",
    "`OptimizationSystem(..., constraints = cons)`"
   ]
  },
  {
   "cell_type": "code",
   "execution_count": null,
   "metadata": {},
   "outputs": [],
   "source": [
    "@variables begin\n",
    "    x, [bounds = (-2.0, 2.0)]\n",
    "    y, [bounds = (-1.0, 3.0)]\n",
    "end\n",
    "\n",
    "@parameters a=1 b=100\n",
    "\n",
    "loss = (a - x)^2 + b * (y - x^2)^2\n",
    "cons = [\n",
    "    x^2 + y^2 ≲ 1,\n",
    "]\n",
    "\n",
    "@named sys = OptimizationSystem(loss, [x, y], [a, b], constraints = cons)\n",
    "\n",
    "u0 = [\n",
    "    x => 0.14\n",
    "    y => 0.14\n",
    "]\n",
    "prob = OptimizationProblem(sys, u0, grad = true, hess = true, cons_j = true, cons_h = true)\n",
    "\n",
    "## Interior point Newton for contrained optimization\n",
    "solve(prob, IPNewton())"
   ]
  }
 ],
 "metadata": {
  "kernelspec": {
   "display_name": "Julia 1.10.1",
   "language": "julia",
   "name": "julia-1.10"
  },
  "language_info": {
   "file_extension": ".jl",
   "mimetype": "application/julia",
   "name": "julia",
   "version": "1.10.1"
  }
 },
 "nbformat": 4,
 "nbformat_minor": 3
}
