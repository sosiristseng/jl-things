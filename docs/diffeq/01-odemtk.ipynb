{
 "cells": [
  {
   "cell_type": "markdown",
   "source": [
    "# ModelingToolkit: define ODEs with symbolic expressions\n",
    "\n",
    "You can also define ODE systems symbolically using [ModelingToolkit.jl (MTK)](https://github.com/SciML/ModelingToolkit.jl) and let MTK generate high-performace ODE functions.\n",
    "\n",
    "- transforming and simplifying expressions for performance\n",
    "- Jacobian and Hessian generation\n",
    "- accessing eliminated states (called observed variables)\n",
    "- building and connecting subsystems programatically (component-based modeling)\n",
    "\n",
    "See also [Simulating Big Models in Julia with ModelingToolkit @ JuliaCon 2021 Workshop](https://youtu.be/HEVOgSLBzWA)."
   ],
   "metadata": {}
  },
  {
   "cell_type": "markdown",
   "source": [
    "## Radioactive decay\n",
    "Here we use the same example of decaying radioactive elements"
   ],
   "metadata": {}
  },
  {
   "outputs": [],
   "cell_type": "code",
   "source": [
    "using ModelingToolkit\n",
    "using DifferentialEquations\n",
    "using Plots"
   ],
   "metadata": {},
   "execution_count": null
  },
  {
   "outputs": [],
   "cell_type": "code",
   "source": [
    "# independent variable (time) and dependent variables\n",
    "@variables t c(t) RHS(t)\n",
    "\n",
    "# parameters: decay rate\n",
    "@parameters λ\n",
    "\n",
    "# Differential operator w.r.t. time\n",
    "D = Differential(t)"
   ],
   "metadata": {},
   "execution_count": null
  },
  {
   "cell_type": "markdown",
   "source": [
    "Equations in MTK use the tilde character (`~`) for equality.\n",
    "Every MTK system requires a name. The `@named` macro simply ensures that the symbolic name matches the name in the REPL."
   ],
   "metadata": {}
  },
  {
   "outputs": [],
   "cell_type": "code",
   "source": [
    "eqs = [\n",
    "    RHS ~ -λ * c\n",
    "    D(c) ~ RHS\n",
    "]\n",
    "\n",
    "@named sys = ODESystem(eqs, t)"
   ],
   "metadata": {},
   "execution_count": null
  },
  {
   "cell_type": "markdown",
   "source": [
    "`structural_simplify()` simplifies the two equations to one.\n",
    "You can also use `@mtkbuild sys = ODESystem(eqs, t)` to merge these two steps into one"
   ],
   "metadata": {}
  },
  {
   "outputs": [],
   "cell_type": "code",
   "source": [
    "sys = structural_simplify(sys)"
   ],
   "metadata": {},
   "execution_count": null
  },
  {
   "cell_type": "markdown",
   "source": [
    "Setup initial conditions, time span, parameter values, the `ODEProblem`, and solve the problem."
   ],
   "metadata": {}
  },
  {
   "outputs": [],
   "cell_type": "code",
   "source": [
    "p = [λ => 1.0]\n",
    "u0 = [c => 1.0]\n",
    "tspan = (0.0, 2.0)\n",
    "prob = ODEProblem(sys, u0, tspan, p)\n",
    "sol = solve(prob)"
   ],
   "metadata": {},
   "execution_count": null
  },
  {
   "cell_type": "markdown",
   "source": [
    "Visualize the solution with `Plots.jl`."
   ],
   "metadata": {}
  },
  {
   "outputs": [],
   "cell_type": "code",
   "source": [
    "plot(sol, label=\"Exp decay\")"
   ],
   "metadata": {},
   "execution_count": null
  },
  {
   "cell_type": "markdown",
   "source": [
    "The solution interface provides symbolic access. So you can access the results of `c` directly."
   ],
   "metadata": {}
  },
  {
   "outputs": [],
   "cell_type": "code",
   "source": [
    "sol[c]"
   ],
   "metadata": {},
   "execution_count": null
  },
  {
   "outputs": [],
   "cell_type": "code",
   "source": [
    "sol(0.0:0.1:2.0, idxs=c)"
   ],
   "metadata": {},
   "execution_count": null
  },
  {
   "cell_type": "markdown",
   "source": [
    "The eliminated term (RHS in this example) is still tracible."
   ],
   "metadata": {}
  },
  {
   "outputs": [],
   "cell_type": "code",
   "source": [
    "plot(sol, idxs=[c, RHS], legend=:right)"
   ],
   "metadata": {},
   "execution_count": null
  },
  {
   "cell_type": "markdown",
   "source": [
    "The interface allows symbolic calculations."
   ],
   "metadata": {}
  },
  {
   "outputs": [],
   "cell_type": "code",
   "source": [
    "plot(sol, idxs=[c * 1000])"
   ],
   "metadata": {},
   "execution_count": null
  },
  {
   "cell_type": "markdown",
   "source": [
    "## Lorenz system\n",
    "\n",
    "We use the same Lorenz system example as above. Here we setup the initial conditions and parameters with default values."
   ],
   "metadata": {}
  },
  {
   "outputs": [],
   "cell_type": "code",
   "source": [
    "@variables t x(t) = 1.0 y(t) = 0.0 z(t) = 0.0\n",
    "@parameters (σ=10.0, ρ=28.0, β=8 / 3)\n",
    "\n",
    "D = Differential(t)\n",
    "\n",
    "eqs = [\n",
    "    D(x) ~ σ * (y - x)\n",
    "    D(y) ~ x * (ρ - z) - y\n",
    "    D(z) ~ x * y - β * z\n",
    "]\n",
    "\n",
    "@mtkbuild sys = ODESystem(eqs, t)"
   ],
   "metadata": {},
   "execution_count": null
  },
  {
   "cell_type": "markdown",
   "source": [
    "Here we are using default values, so we pass empty arrays for initial conditions and parameter values."
   ],
   "metadata": {}
  },
  {
   "outputs": [],
   "cell_type": "code",
   "source": [
    "tspan = (0.0, 100.0)\n",
    "prob = ODEProblem(sys, [], tspan, [])\n",
    "sol = solve(prob)"
   ],
   "metadata": {},
   "execution_count": null
  },
  {
   "cell_type": "markdown",
   "source": [
    "Plot the solution with symbols instead of index numbers."
   ],
   "metadata": {}
  },
  {
   "outputs": [],
   "cell_type": "code",
   "source": [
    "plot(sol, idxs=(x, y, z), size=(400, 400))"
   ],
   "metadata": {},
   "execution_count": null
  },
  {
   "cell_type": "markdown",
   "source": [
    "## Non-autonomous ODEs\n",
    "Sometimes a model might have a time-variant external force, which is too complex or impossible to express it symbolically. In such situation, one could apply `@register_symbolic` to it to exclude it from symbolic transformations and use it numberically."
   ],
   "metadata": {}
  },
  {
   "outputs": [],
   "cell_type": "code",
   "source": [
    "@variables t x(t) f(t)\n",
    "@parameters τ\n",
    "D = Differential(t)"
   ],
   "metadata": {},
   "execution_count": null
  },
  {
   "cell_type": "markdown",
   "source": [
    "Define a time-dependent random external force"
   ],
   "metadata": {}
  },
  {
   "outputs": [],
   "cell_type": "code",
   "source": [
    "value_vector = randn(10)\n",
    "\n",
    "f_fun(t) = t >= 10 ? value_vector[end] : value_vector[Int(floor(t))+1]"
   ],
   "metadata": {},
   "execution_count": null
  },
  {
   "cell_type": "markdown",
   "source": [
    "\"Register\" arbitrary Julia functions to be excluded from symbolic transformations. Just use it as-is (numberically)."
   ],
   "metadata": {}
  },
  {
   "outputs": [],
   "cell_type": "code",
   "source": [
    "@register_symbolic f_fun(t)\n",
    "@named fol_external_f = ODESystem([f ~ f_fun(t), D(x) ~ (f - x) / τ], t)"
   ],
   "metadata": {},
   "execution_count": null
  },
  {
   "outputs": [],
   "cell_type": "code",
   "source": [
    "sys = structural_simplify(fol_external_f)\n",
    "prob = ODEProblem(sys, [x => 0.0], (0.0, 10.0), [τ => 0.75])\n",
    "sol = solve(prob)\n",
    "plot(sol, idxs=[x, f])"
   ],
   "metadata": {},
   "execution_count": null
  },
  {
   "cell_type": "markdown",
   "source": [
    "## Second-order ODE systems\n",
    "`ode_order_lowering(sys)` automatically transforms a second-order ODE into two first-order ODEs."
   ],
   "metadata": {}
  },
  {
   "outputs": [],
   "cell_type": "code",
   "source": [
    "using Plots\n",
    "using ModelingToolkit\n",
    "using DifferentialEquations\n",
    "\n",
    "@parameters σ ρ β\n",
    "@variables t x(t) y(t) z(t)\n",
    "D = Differential(t)\n",
    "\n",
    "eqs = [\n",
    "    D(D(x)) ~ σ * (y - x),\n",
    "    D(y) ~ x * (ρ - z) - y,\n",
    "    D(z) ~ x * y - β * z\n",
    "]"
   ],
   "metadata": {},
   "execution_count": null
  },
  {
   "cell_type": "markdown",
   "source": [
    "`@mtkbuild` automatically does the transformations and simplifications\n",
    "The same as `sys = sys |> ode_order_lowering |> structural_simplify`"
   ],
   "metadata": {}
  },
  {
   "outputs": [],
   "cell_type": "code",
   "source": [
    "@mtkbuild sys = ODESystem(eqs, t)"
   ],
   "metadata": {},
   "execution_count": null
  },
  {
   "cell_type": "markdown",
   "source": [
    "Note that one needs to provide the initial condition for x's derivative."
   ],
   "metadata": {}
  },
  {
   "outputs": [],
   "cell_type": "code",
   "source": [
    "u0 = [\n",
    "    D(x) => 2.0,\n",
    "    x => 1.0,\n",
    "    y => 0.0,\n",
    "    z => 0.0\n",
    "]\n",
    "\n",
    "p = [\n",
    "    σ => 28.0,\n",
    "    ρ => 10.0,\n",
    "    β => 8 / 3\n",
    "]\n",
    "\n",
    "tspan = (0.0, 100.0)\n",
    "prob = ODEProblem(sys, u0, tspan, p, jac=true)\n",
    "sol = solve(prob)\n",
    "plot(sol, idxs=(x, y, z), label=\"Trajectory\", size=(500, 500))"
   ],
   "metadata": {},
   "execution_count": null
  },
  {
   "cell_type": "markdown",
   "source": [
    "## Composing systems\n",
    "By defining connection equation(s) to couple ODE systems together, we can build component-based, hierarchical models."
   ],
   "metadata": {}
  },
  {
   "outputs": [],
   "cell_type": "code",
   "source": [
    "using Plots\n",
    "using ModelingToolkit\n",
    "using DifferentialEquations\n",
    "\n",
    "@parameters σ ρ β\n",
    "@variables t x(t) y(t) z(t)\n",
    "D = Differential(t)\n",
    "\n",
    "eqs = [\n",
    "    D(x) ~ σ * (y - x),\n",
    "    D(y) ~ x * (ρ - z) - y,\n",
    "    D(z) ~ x * y - β * z\n",
    "]\n",
    "\n",
    "@named lorenz1 = ODESystem(eqs)\n",
    "@named lorenz2 = ODESystem(eqs)"
   ],
   "metadata": {},
   "execution_count": null
  },
  {
   "cell_type": "markdown",
   "source": [
    "Define relations (connectors) between the two systems."
   ],
   "metadata": {}
  },
  {
   "outputs": [],
   "cell_type": "code",
   "source": [
    "@variables a(t)\n",
    "@parameters γ\n",
    "\n",
    "connections = [0 ~ lorenz1.x + lorenz2.y + a * γ]\n",
    "\n",
    "@named connLorenz = ODESystem(connections, t, [a], [γ], systems=[lorenz1, lorenz2])"
   ],
   "metadata": {},
   "execution_count": null
  },
  {
   "cell_type": "markdown",
   "source": [
    "All state variables in the combined system"
   ],
   "metadata": {}
  },
  {
   "outputs": [],
   "cell_type": "code",
   "source": [
    "states(connLorenz)"
   ],
   "metadata": {},
   "execution_count": null
  },
  {
   "outputs": [],
   "cell_type": "code",
   "source": [
    "u0 = [\n",
    "    lorenz1.x => 1.0, lorenz1.y => 0.0, lorenz1.z => 0.0,\n",
    "    lorenz2.x => 0.0, lorenz2.y => 1.0, lorenz2.z => 0.0,\n",
    "    a => 2.0\n",
    "]\n",
    "\n",
    "p = [\n",
    "    lorenz1.σ => 10.0, lorenz1.ρ => 28.0, lorenz1.β => 8 / 3,\n",
    "    lorenz2.σ => 10.0, lorenz2.ρ => 28.0, lorenz2.β => 8 / 3,\n",
    "    γ => 2.0\n",
    "]\n",
    "\n",
    "tspan = (0.0, 100.0)\n",
    "sys = connLorenz |> structural_simplify\n",
    "sol = solve(ODEProblem(sys, u0, tspan, p, jac=true))\n",
    "plot(sol, idxs=(a, lorenz1.x, lorenz2.x), size=(600, 600))"
   ],
   "metadata": {},
   "execution_count": null
  },
  {
   "cell_type": "markdown",
   "source": [
    "### Convert existing functions into MTK systems\n",
    "\n",
    "`modelingtoolkitize(prob)` generates MKT systems from regular DE problems. I t can also generate analytic Jacobin functions for faster solving.\n",
    "\n",
    "Example: **[DAE index reduction](https://mtk.sciml.ai/stable/mtkitize_tutorials/modelingtoolkitize_index_reduction/)** for the pendulum problem, which cannot be solved by regular ODE solvers."
   ],
   "metadata": {}
  },
  {
   "outputs": [],
   "cell_type": "code",
   "source": [
    "using Plots\n",
    "using ModelingToolkit\n",
    "using DifferentialEquations\n",
    "using LinearAlgebra"
   ],
   "metadata": {},
   "execution_count": null
  },
  {
   "outputs": [],
   "cell_type": "code",
   "source": [
    "function pendulum!(du, u, p, t)\n",
    "    x, dx, y, dy, T = u\n",
    "    g, L = p\n",
    "    du[1] = dx\n",
    "    du[2] = T * x\n",
    "    du[3] = dy\n",
    "    du[4] = T * y - g\n",
    "    # Do not write your function like this after you've learned MTK\n",
    "    du[5] = x^2 + y^2 - L^2\n",
    "    return nothing\n",
    "end"
   ],
   "metadata": {},
   "execution_count": null
  },
  {
   "outputs": [],
   "cell_type": "code",
   "source": [
    "pendulum_fun! = ODEFunction(pendulum!, mass_matrix=Diagonal([1, 1, 1, 1, 0]))\n",
    "u0 = [1.0, 0.0, 0.0, 0.0, 0.0]\n",
    "p = [9.8, 1.0]\n",
    "tspan = (0.0, 10.0)\n",
    "pendulum_prob = ODEProblem(pendulum_fun!, u0, tspan, p)"
   ],
   "metadata": {},
   "execution_count": null
  },
  {
   "cell_type": "markdown",
   "source": [
    "Convert the ODE problem into a MTK system."
   ],
   "metadata": {}
  },
  {
   "outputs": [],
   "cell_type": "code",
   "source": [
    "tracedSys = modelingtoolkitize(pendulum_prob)"
   ],
   "metadata": {},
   "execution_count": null
  },
  {
   "cell_type": "markdown",
   "source": [
    "`structural_simplify()` and `dae_index_lowering()` transform the index-3 DAE into an index-0 ODE."
   ],
   "metadata": {}
  },
  {
   "outputs": [],
   "cell_type": "code",
   "source": [
    "pendulumSys = tracedSys |> dae_index_lowering |> structural_simplify"
   ],
   "metadata": {},
   "execution_count": null
  },
  {
   "cell_type": "markdown",
   "source": [
    "The default `u0` is included in the system already so one can use an empty array `[]` as the initial conditions."
   ],
   "metadata": {}
  },
  {
   "outputs": [],
   "cell_type": "code",
   "source": [
    "prob = ODAEProblem(pendulumSys, [], tspan)\n",
    "sol = solve(prob, abstol=1e-8, reltol=1e-8)\n",
    "plot(sol, idxs=states(tracedSys))"
   ],
   "metadata": {},
   "execution_count": null
  },
  {
   "cell_type": "markdown",
   "source": [
    "---\n",
    "\n",
    "*This notebook was generated using [Literate.jl](https://github.com/fredrikekre/Literate.jl).*"
   ],
   "metadata": {}
  }
 ],
 "nbformat_minor": 3,
 "metadata": {
  "language_info": {
   "file_extension": ".jl",
   "mimetype": "application/julia",
   "name": "julia",
   "version": "1.10.3"
  },
  "kernelspec": {
   "name": "julia-1.10",
   "display_name": "Julia 1.10.3",
   "language": "julia"
  }
 },
 "nbformat": 4
}
