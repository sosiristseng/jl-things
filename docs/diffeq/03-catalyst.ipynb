{
 "cells": [
  {
   "cell_type": "markdown",
   "source": [
    "# Catalyst: reaction network DSL\n",
    "\n",
    "`Catalyst.jl` is a domain specific language (DSL) for high performance simulation and modeling of chemical reaction networks. `Catalyst.jl` is based on `ModelingToolkit.jl` for symbolic transformations and generating model code.\n",
    "\n",
    "This part is lalrgely based on [Catalyst.jl Docs](https://docs.sciml.ai/Catalyst/).\n",
    "\n",
    "## Repressilator\n",
    "[Repressilator](https://en.wikipedia.org/wiki/Repressilator) model with three components in a negative feedback loop."
   ],
   "metadata": {}
  },
  {
   "outputs": [],
   "cell_type": "code",
   "source": [
    "using Catalyst\n",
    "using ModelingToolkit\n",
    "using DifferentialEquations\n",
    "using Plots\n",
    "\n",
    "repressilator = @reaction_network begin\n",
    "    hillr(P₃, α, K, n), ∅ --> m₁\n",
    "    hillr(P₁, α, K, n), ∅ --> m₂\n",
    "    hillr(P₂, α, K, n), ∅ --> m₃\n",
    "    (δ, γ), m₁ ↔ ∅\n",
    "    (δ, γ), m₂ ↔ ∅\n",
    "    (δ, γ), m₃ ↔ ∅\n",
    "    β, m₁ --> m₁ + P₁\n",
    "    β, m₂ --> m₂ + P₂\n",
    "    β, m₃ --> m₃ + P₃\n",
    "    μ, P₁ --> ∅\n",
    "    μ, P₂ --> ∅\n",
    "    μ, P₃ --> ∅\n",
    "end"
   ],
   "metadata": {},
   "execution_count": null
  },
  {
   "cell_type": "markdown",
   "source": [
    "State variables in the reaction network"
   ],
   "metadata": {}
  },
  {
   "outputs": [],
   "cell_type": "code",
   "source": [
    "states(repressilator)"
   ],
   "metadata": {},
   "execution_count": null
  },
  {
   "cell_type": "markdown",
   "source": [
    "Parameters in the reaction network"
   ],
   "metadata": {}
  },
  {
   "outputs": [],
   "cell_type": "code",
   "source": [
    "parameters(repressilator)"
   ],
   "metadata": {},
   "execution_count": null
  },
  {
   "cell_type": "markdown",
   "source": [
    "Reactions in the reaction network"
   ],
   "metadata": {}
  },
  {
   "outputs": [],
   "cell_type": "code",
   "source": [
    "reactions(repressilator)"
   ],
   "metadata": {},
   "execution_count": null
  },
  {
   "cell_type": "markdown",
   "source": [
    "### Convert to an ODE system"
   ],
   "metadata": {}
  },
  {
   "outputs": [],
   "cell_type": "code",
   "source": [
    "odesys = convert(ODESystem, repressilator)"
   ],
   "metadata": {},
   "execution_count": null
  },
  {
   "cell_type": "markdown",
   "source": [
    "To setup parameters (`ps`) and initial conditions (`u₀`), you can use Julia symbols to map the values."
   ],
   "metadata": {}
  },
  {
   "outputs": [],
   "cell_type": "code",
   "source": [
    "p = [:α => 0.5, :K => 40, :n => 2, :δ => log(2) / 120, :γ => 5e-3, :β => 20 * log(2) / 120, :μ => log(2) / 60]\n",
    "u₀ = [:m₁ => 0.0, :m₂ => 0.0, :m₃ => 0.0, :P₁ => 20.0, :P₂ => 0.0, :P₃ => 0.0]"
   ],
   "metadata": {},
   "execution_count": null
  },
  {
   "cell_type": "markdown",
   "source": [
    "Or you can also use MTK symbols from the ODE system with the `@unpack` macro (recommended)"
   ],
   "metadata": {}
  },
  {
   "outputs": [],
   "cell_type": "code",
   "source": [
    "@unpack m₁, m₂, m₃, P₁, P₂, P₃, α, K, n, δ, γ, β, μ = repressilator\n",
    "p = [α => 0.5, K => 40, n => 2, δ => log(2) / 120, γ => 5e-3, β => 20 * log(2) / 120, μ => log(2) / 60]\n",
    "u₀ = [m₁ => 0.0, m₂ => 0.0, m₃ => 0.0, P₁ => 20.0, P₂ => 0.0, P₃ => 0.0]"
   ],
   "metadata": {},
   "execution_count": null
  },
  {
   "cell_type": "markdown",
   "source": [
    "Then we can solve this reaction network"
   ],
   "metadata": {}
  },
  {
   "outputs": [],
   "cell_type": "code",
   "source": [
    "tspan = (0.0, 10000.0)\n",
    "oprob = ODEProblem(odesys, u₀, tspan, p)\n",
    "sol = solve(oprob)\n",
    "plot(sol)"
   ],
   "metadata": {},
   "execution_count": null
  },
  {
   "cell_type": "markdown",
   "source": [
    "Use extracted symbols for a phase plot."
   ],
   "metadata": {}
  },
  {
   "outputs": [],
   "cell_type": "code",
   "source": [
    "plot(sol, idxs=(P₁, P₂))"
   ],
   "metadata": {},
   "execution_count": null
  },
  {
   "cell_type": "markdown",
   "source": [
    "### Convert to Stochastic Differential Equation (SDE) Models\n",
    "Convert the very same reaction network to Chemical Langevin Equation (CLE), adding Brownian motion terms to the state variables."
   ],
   "metadata": {}
  },
  {
   "outputs": [],
   "cell_type": "code",
   "source": [
    "tspan = (0.0, 10000.0)\n",
    "sprob = SDEProblem(repressilator, u₀, tspan, p)"
   ],
   "metadata": {},
   "execution_count": null
  },
  {
   "cell_type": "markdown",
   "source": [
    "solve and plot, `tstops` is used to specify enough points that the plot looks well-resolved."
   ],
   "metadata": {}
  },
  {
   "outputs": [],
   "cell_type": "code",
   "source": [
    "sol = solve(sprob, LambaEulerHeun(), tstops=range(0.0, tspan[2]; length=1001))\n",
    "plot(sol)"
   ],
   "metadata": {},
   "execution_count": null
  },
  {
   "cell_type": "markdown",
   "source": [
    "### Convert to Gillespie's stochastic simulation\n",
    "Create a Gillespie stochastic simulation model from the same reaction network.\n",
    "The initial conditions should be integers"
   ],
   "metadata": {}
  },
  {
   "outputs": [],
   "cell_type": "code",
   "source": [
    "u₀ = [m₁ => 0, m₂ => 0, m₃ => 0, P₁ => 20, P₂ => 0, P₃ => 0]"
   ],
   "metadata": {},
   "execution_count": null
  },
  {
   "cell_type": "markdown",
   "source": [
    "Create a discrete problem because our species are integer valued:"
   ],
   "metadata": {}
  },
  {
   "outputs": [],
   "cell_type": "code",
   "source": [
    "dprob = DiscreteProblem(repressilator, u₀, tspan, p)"
   ],
   "metadata": {},
   "execution_count": null
  },
  {
   "cell_type": "markdown",
   "source": [
    "Create a `JumpProblem`, and specify Gillespie's Direct Method as the solver."
   ],
   "metadata": {}
  },
  {
   "outputs": [],
   "cell_type": "code",
   "source": [
    "jprob = JumpProblem(repressilator, dprob, Direct(), save_positions=(false, false))"
   ],
   "metadata": {},
   "execution_count": null
  },
  {
   "cell_type": "markdown",
   "source": [
    "Solve and visualize the problem."
   ],
   "metadata": {}
  },
  {
   "outputs": [],
   "cell_type": "code",
   "source": [
    "sol = solve(jprob, SSAStepper(), saveat=10.0)\n",
    "plot(sol)"
   ],
   "metadata": {},
   "execution_count": null
  },
  {
   "cell_type": "markdown",
   "source": [
    "## Generating reaction systems programmatically\n",
    "\n",
    "There are two ways to create a reaction for `ReactionSystem`s:\n",
    "- `Reaction()` function\n",
    "- `@reaction` macro"
   ],
   "metadata": {}
  },
  {
   "outputs": [],
   "cell_type": "code",
   "source": [
    "@parameters α K n δ γ β μ\n",
    "@variables t\n",
    "@species m₁(t) m₂(t) m₃(t) P₁(t) P₂(t) P₃(t)"
   ],
   "metadata": {},
   "execution_count": null
  },
  {
   "cell_type": "markdown",
   "source": [
    "### Reaction function\n",
    "The `Reaction(rate, substrates, products)` function builds reactions. To allow for other stoichiometric coefficients we also provide a five argument form: `Reaction(rate, substrates, products, substrate_stoichiometries, product_stoichiometries)`"
   ],
   "metadata": {}
  },
  {
   "outputs": [],
   "cell_type": "code",
   "source": [
    "rxs = [\n",
    "    Reaction(hillr(P₃, α, K, n), nothing, [m₁]),\n",
    "    Reaction(hillr(P₁, α, K, n), nothing, [m₂]),\n",
    "    Reaction(hillr(P₂, α, K, n), nothing, [m₃]),\n",
    "    Reaction(δ, [m₁], nothing),\n",
    "    Reaction(γ, nothing, [m₁]),\n",
    "    Reaction(δ, [m₂], nothing),\n",
    "    Reaction(γ, nothing, [m₂]),\n",
    "    Reaction(δ, [m₃], nothing),\n",
    "    Reaction(γ, nothing, [m₃]),\n",
    "    Reaction(β, [m₁], [m₁, P₁]),\n",
    "    Reaction(β, [m₂], [m₂, P₂]),\n",
    "    Reaction(β, [m₃], [m₃, P₃]),\n",
    "    Reaction(μ, [P₁], nothing),\n",
    "    Reaction(μ, [P₂], nothing),\n",
    "    Reaction(μ, [P₃], nothing)\n",
    "]"
   ],
   "metadata": {},
   "execution_count": null
  },
  {
   "cell_type": "markdown",
   "source": [
    "Use `ReactionSystem(reactions, indenpendeent_variable)` to collect these reactions. `@named` macro is used because every system in `ModelingToolkit` needs a name. `@named x = System(...)` is a short hand for `x = System(...; name=:x)`"
   ],
   "metadata": {}
  },
  {
   "outputs": [],
   "cell_type": "code",
   "source": [
    "@named repressilator = ReactionSystem(rxs, t)"
   ],
   "metadata": {},
   "execution_count": null
  },
  {
   "cell_type": "markdown",
   "source": [
    "The `@reaction` macro provides the same syntax in the `@reaction_network` to build reactions. Note that `@reaction` macro only allows one-way reaction; **reversible arrows are not allowed**."
   ],
   "metadata": {}
  },
  {
   "outputs": [],
   "cell_type": "code",
   "source": [
    "@variables t\n",
    "@species P₁(t) P₂(t) P₃(t)\n",
    "\n",
    "rxs = [(@reaction hillr($P₃, α, K, n), ∅ --> m₁),\n",
    "    (@reaction hillr($P₁, α, K, n), ∅ --> m₂),\n",
    "    (@reaction hillr($P₂, α, K, n), ∅ --> m₃),\n",
    "    (@reaction δ, m₁ --> ∅),\n",
    "    (@reaction γ, ∅ --> m₁),\n",
    "    (@reaction δ, m₂ --> ∅),\n",
    "    (@reaction γ, ∅ --> m₂),\n",
    "    (@reaction δ, m₃ --> ∅),\n",
    "    (@reaction γ, ∅ --> m₃),\n",
    "    (@reaction β, m₁ --> m₁ + P₁),\n",
    "    (@reaction β, m₂ --> m₂ + P₂),\n",
    "    (@reaction β, m₃ --> m₃ + P₃),\n",
    "    (@reaction μ, P₁ --> ∅),\n",
    "    (@reaction μ, P₂ --> ∅),\n",
    "    (@reaction μ, P₃ --> ∅)]\n",
    "\n",
    "@named repressilator2 = ReactionSystem(rxs, t)"
   ],
   "metadata": {},
   "execution_count": null
  },
  {
   "cell_type": "markdown",
   "source": [
    "## Conservation laws\n",
    "We can use conservation laws to eliminate dependent variables. For example, in the chemical reaction `A + B <--> C`, given the initial concentrations of A, B, and C, the solver only needs to solve one state variable (either [A], [B], or [C]) instead of all three of them."
   ],
   "metadata": {}
  },
  {
   "outputs": [],
   "cell_type": "code",
   "source": [
    "rn = @reaction_network begin\n",
    "    (k₊, k₋), A + B <--> C\n",
    "end"
   ],
   "metadata": {},
   "execution_count": null
  },
  {
   "cell_type": "markdown",
   "source": [
    "initial condition and parameter values"
   ],
   "metadata": {}
  },
  {
   "outputs": [],
   "cell_type": "code",
   "source": [
    "setdefaults!(rn, [:A => 1.0, :B => 2.0, :C => 0.0, :k₊ => 1.0, :k₋ => 1.0])"
   ],
   "metadata": {},
   "execution_count": null
  },
  {
   "cell_type": "markdown",
   "source": [
    "Let's convert it to a system of ODEs, using the conservation laws to eliminate two species, leaving only one of them as the state variable.\n",
    "The conserved quantities will be denoted as `Γ`s"
   ],
   "metadata": {}
  },
  {
   "outputs": [],
   "cell_type": "code",
   "source": [
    "osys = convert(ODESystem, rn; remove_conserved=true)"
   ],
   "metadata": {},
   "execution_count": null
  },
  {
   "cell_type": "markdown",
   "source": [
    "Only one state variable (unknown) need to be solved"
   ],
   "metadata": {}
  },
  {
   "outputs": [],
   "cell_type": "code",
   "source": [
    "states(osys)"
   ],
   "metadata": {},
   "execution_count": null
  },
  {
   "cell_type": "markdown",
   "source": [
    "The other two are constrained by conserved quantities"
   ],
   "metadata": {}
  },
  {
   "outputs": [],
   "cell_type": "code",
   "source": [
    "observed(osys)"
   ],
   "metadata": {},
   "execution_count": null
  },
  {
   "cell_type": "markdown",
   "source": [
    "Sovle the problem"
   ],
   "metadata": {}
  },
  {
   "outputs": [],
   "cell_type": "code",
   "source": [
    "oprob = ODEProblem(osys, [], (0.0, 10.0), [])\n",
    "sol = solve(oprob, Tsit5())"
   ],
   "metadata": {},
   "execution_count": null
  },
  {
   "cell_type": "markdown",
   "source": [
    "You can still trace the eliminated variable"
   ],
   "metadata": {}
  },
  {
   "outputs": [],
   "cell_type": "code",
   "source": [
    "plot(sol, idxs=osys.C)"
   ],
   "metadata": {},
   "execution_count": null
  },
  {
   "cell_type": "markdown",
   "source": [
    "---\n",
    "\n",
    "*This notebook was generated using [Literate.jl](https://github.com/fredrikekre/Literate.jl).*"
   ],
   "metadata": {}
  }
 ],
 "nbformat_minor": 3,
 "metadata": {
  "language_info": {
   "file_extension": ".jl",
   "mimetype": "application/julia",
   "name": "julia",
   "version": "1.10.3"
  },
  "kernelspec": {
   "name": "julia-1.10",
   "display_name": "Julia 1.10.3",
   "language": "julia"
  }
 },
 "nbformat": 4
}
