{
 "cells": [
  {
   "cell_type": "markdown",
   "source": [
    "# Solving Ordinary Differential Equations (ODEs)\n",
    "\n",
    "- [DifferentialEquations.jl docs](https://diffeq.sciml.ai/dev/index.html)\n",
    "\n",
    "## General steps to solve differential equations\n",
    "\n",
    "- Define a model function representing the right-hand-side (RHS) of the sysstem.\n",
    "  - Out-of-place form: `f(u, p, t)` where `u` is the state variable(s), `p` is the parameter(s), and `t` is the independent variable (usually time). The output is the right hand side (RHS) of the differential equation system.\n",
    "  - In-place form: `f!(du, u, p, t)`, where the output is saved to `du`. The rest is the same as the out of place form. The in-place form has potential performance benefits since it allocates less arrays than the out-of-place form.\n",
    "- Initial conditions (`u0`) for the state variable(s).\n",
    "- (Optional) parameter(s) `p`.\n",
    "- Define a problem (e.g. `ODEProblem`) using the modeling function (`f`), initial conditions (`u0`), simulation time span (`tspan == (tstart, tend)`), and parameter(s) `p`.\n",
    "- Solve the problem by calling `solve(prob)`."
   ],
   "metadata": {}
  },
  {
   "cell_type": "markdown",
   "source": [
    "## Radioactive decay\n",
    "\n",
    "As a simple example, the decaying rate of a nuclear isotope is proprotional to its concentration:\n",
    "\n",
    "$$\n",
    "\\frac{d}{dt}C(t) = - \\lambda C(t)\n",
    "$$\n",
    "\n",
    "**State variable(s)**\n",
    "\n",
    "- $C(t)$: The concentration of a decaying nuclear isotope.\n",
    "\n",
    "**Parameter(s)**\n",
    "\n",
    "- $\\lambda$: The rate constant of decay. The half-life $t_{\\frac{1}{2}} = \\frac{ln2}{\\lambda}$"
   ],
   "metadata": {}
  },
  {
   "outputs": [],
   "cell_type": "code",
   "source": [
    "using DifferentialEquations\n",
    "using Plots\n",
    "PNG(img) = display(\"image/png\", img) ## Force PNG output"
   ],
   "metadata": {},
   "execution_count": null
  },
  {
   "cell_type": "markdown",
   "source": [
    "The exponential decay ODE model, out-of-place (3-parameter) form"
   ],
   "metadata": {}
  },
  {
   "outputs": [],
   "cell_type": "code",
   "source": [
    "expdecay(u, p, t) = p * u"
   ],
   "metadata": {},
   "execution_count": null
  },
  {
   "outputs": [],
   "cell_type": "code",
   "source": [
    "p = -1.0 ## Parameter\n",
    "u0 = 1.0 ## Initial condition\n",
    "tspan = (0.0, 2.0) ## Simulation start and end time points\n",
    "prob = ODEProblem(expdecay, u0, tspan, p) ## Define the problem\n",
    "sol = solve(prob) ## Solve the problem"
   ],
   "metadata": {},
   "execution_count": null
  },
  {
   "cell_type": "markdown",
   "source": [
    "### Visualize\n",
    "Using Plots.jl package."
   ],
   "metadata": {}
  },
  {
   "outputs": [],
   "cell_type": "code",
   "source": [
    "fig = plot(sol);\n",
    "fig |> PNG"
   ],
   "metadata": {},
   "execution_count": null
  },
  {
   "cell_type": "markdown",
   "source": [
    "Solution handling options, see: https://diffeq.sciml.ai/stable/basics/solution/\n",
    "`sol(t)`: the solution at time `t` with interpolation."
   ],
   "metadata": {}
  },
  {
   "outputs": [],
   "cell_type": "code",
   "source": [
    "sol(1.0)"
   ],
   "metadata": {},
   "execution_count": null
  },
  {
   "cell_type": "markdown",
   "source": [
    "`sol.t`: time points of the solution. Notice *t=1* may not in one of the time points."
   ],
   "metadata": {}
  },
  {
   "outputs": [],
   "cell_type": "code",
   "source": [
    "sol.t"
   ],
   "metadata": {},
   "execution_count": null
  },
  {
   "cell_type": "markdown",
   "source": [
    "`sol.u`: the state variables at `sol.t`"
   ],
   "metadata": {}
  },
  {
   "outputs": [],
   "cell_type": "code",
   "source": [
    "sol.u"
   ],
   "metadata": {},
   "execution_count": null
  },
  {
   "cell_type": "markdown",
   "source": [
    "## The SIR model\n",
    "\n",
    "A more complicated example is the [SIR model](https://www.maa.org/press/periodicals/loci/joma/the-sir-model-for-spread-of-disease-the-differential-equation-model) describing infectious disease spreading. There are more state variables and parameters.\n",
    "\n",
    "$$\n",
    "\\begin{align}\n",
    "\\frac{d}{dt}S(t) &= - \\beta S(t)I(t)  \\\\\n",
    "\\frac{d}{dt}I(t) &= \\beta S(t)I(t)  - \\gamma I(t)  \\\\\n",
    "\\frac{d}{dt}R(t) &= \\gamma I(t)\n",
    "\\end{align}\n",
    "$$\n",
    "\n",
    "**State variable(s)**\n",
    "\n",
    "- $S(t)$ : the fraction of susceptible people\n",
    "- $I(t)$ : the fraction of infectious people\n",
    "- $R(t)$ : the fraction of recovered (or removed) people\n",
    "\n",
    "**Parameter(s)**\n",
    "\n",
    "- $\\beta$ : the rate of infection when susceptible and infectious people meet\n",
    "- $\\gamma$ : the rate of recovery of infectious people"
   ],
   "metadata": {}
  },
  {
   "outputs": [],
   "cell_type": "code",
   "source": [
    "using DifferentialEquations\n",
    "using Plots"
   ],
   "metadata": {},
   "execution_count": null
  },
  {
   "cell_type": "markdown",
   "source": [
    "SIR model, using the in-place form: f!(du, u, p ,t)"
   ],
   "metadata": {}
  },
  {
   "outputs": [],
   "cell_type": "code",
   "source": [
    "function sir!(du, u, p, t)\n",
    "\ts, i, r = u\n",
    "\tβ, γ = p\n",
    "\tv1 = β * s * i\n",
    "\tv2 = γ * i\n",
    "    du[1] = -v1\n",
    "    du[2] = v1 - v2\n",
    "    du[3] = v2\n",
    "\treturn nothing\n",
    "end"
   ],
   "metadata": {},
   "execution_count": null
  },
  {
   "cell_type": "markdown",
   "source": [
    "Parameters, initial conditions, and time span of the SIR model"
   ],
   "metadata": {}
  },
  {
   "outputs": [],
   "cell_type": "code",
   "source": [
    "p = (β = 1.0, γ = 0.3)\n",
    "u0 = [0.99, 0.01, 0.00]\n",
    "tspan = (0.0, 20.0)"
   ],
   "metadata": {},
   "execution_count": null
  },
  {
   "cell_type": "markdown",
   "source": [
    "Define the problem"
   ],
   "metadata": {}
  },
  {
   "outputs": [],
   "cell_type": "code",
   "source": [
    "prob = ODEProblem(sir!, u0, tspan, p)"
   ],
   "metadata": {},
   "execution_count": null
  },
  {
   "cell_type": "markdown",
   "source": [
    "Solve the problem"
   ],
   "metadata": {}
  },
  {
   "outputs": [],
   "cell_type": "code",
   "source": [
    "sol = solve(prob)"
   ],
   "metadata": {},
   "execution_count": null
  },
  {
   "cell_type": "markdown",
   "source": [
    "Visualize the solution"
   ],
   "metadata": {}
  },
  {
   "outputs": [],
   "cell_type": "code",
   "source": [
    "fig = plot(sol, labels=[\"S\" \"I\" \"R\"], legend=:right);\n",
    "fig |> PNG"
   ],
   "metadata": {},
   "execution_count": null
  },
  {
   "cell_type": "markdown",
   "source": [
    "`sol[i]`: all components at timestep `i`"
   ],
   "metadata": {}
  },
  {
   "outputs": [],
   "cell_type": "code",
   "source": [
    "sol[2]"
   ],
   "metadata": {},
   "execution_count": null
  },
  {
   "cell_type": "markdown",
   "source": [
    "`sol[i, j]`: `i`th component at timestep `j`"
   ],
   "metadata": {}
  },
  {
   "outputs": [],
   "cell_type": "code",
   "source": [
    "sol[1, 2]"
   ],
   "metadata": {},
   "execution_count": null
  },
  {
   "cell_type": "markdown",
   "source": [
    "`sol[i, :]`: the timeseries for the `i`th component."
   ],
   "metadata": {}
  },
  {
   "outputs": [],
   "cell_type": "code",
   "source": [
    "sol[1, :]"
   ],
   "metadata": {},
   "execution_count": null
  },
  {
   "cell_type": "markdown",
   "source": [
    "`sol(t,idxs=1)`: the 1st element in time point(s) `t` with interpolation. `t` can be a scalar (single point) or an vector-like sequence. (multiple points)"
   ],
   "metadata": {}
  },
  {
   "outputs": [],
   "cell_type": "code",
   "source": [
    "sol(10, idxs=2)"
   ],
   "metadata": {},
   "execution_count": null
  },
  {
   "outputs": [],
   "cell_type": "code",
   "source": [
    "sol(0.0:0.1:20.0, idxs=2)"
   ],
   "metadata": {},
   "execution_count": null
  },
  {
   "cell_type": "markdown",
   "source": [
    "## Lorenz system\n",
    "\n",
    "The Lorenz system is a system of ordinary differential equations having chaotic solutions for certain parameter values and initial conditions. ([Wikipedia](https://en.wikipedia.org/wiki/Lorenz_system))\n",
    "\n",
    "$$\n",
    "\\begin{align}\n",
    "  \\frac{dx}{dt} &=& \\sigma(y-x) \\\\\n",
    "  \\frac{dy}{dt} &=& x(\\rho - z) -y \\\\\n",
    "  \\frac{dz}{dt} &=& xy - \\beta z\n",
    "\\end{align}\n",
    "$$\n",
    "\n",
    "In this example, we will use [LabelledArrays.jl](https://github.com/SciML/LabelledArrays.jl) to get DSL-like syntax."
   ],
   "metadata": {}
  },
  {
   "outputs": [],
   "cell_type": "code",
   "source": [
    "using LabelledArrays\n",
    "using DifferentialEquations\n",
    "using Plots"
   ],
   "metadata": {},
   "execution_count": null
  },
  {
   "outputs": [],
   "cell_type": "code",
   "source": [
    "function lorenz!(du,u,p,t)\n",
    "    du.x = p.σ*(u.y-u.x)\n",
    "    du.y = u.x*(p.ρ-u.z) - u.y\n",
    "    du.z = u.x*u.y - p.β*u.z\n",
    "end"
   ],
   "metadata": {},
   "execution_count": null
  },
  {
   "outputs": [],
   "cell_type": "code",
   "source": [
    "u0 = LVector(x=1.0, y=0.0, z=0.0)\n",
    "p = (σ=10.0, ρ=28.0, β=8/3)\n",
    "tspan = (0.0, 100.0)\n",
    "prob = ODEProblem(lorenz!, u0, tspan, p)\n",
    "sol = solve(prob)"
   ],
   "metadata": {},
   "execution_count": null
  },
  {
   "cell_type": "markdown",
   "source": [
    "`idxs=(1, 2, 3)` makes a phase plot with 1st, 2nd, and the 3rd state variable. With `LabelledArrays`, you can also use symbols instead of index numbers."
   ],
   "metadata": {}
  },
  {
   "outputs": [],
   "cell_type": "code",
   "source": [
    "# Same as plot(sol, idxs=(1, 2, 3))\n",
    "fig = plot(sol, idxs=(:x, :y, :z));\n",
    "fig |> PNG"
   ],
   "metadata": {},
   "execution_count": null
  },
  {
   "cell_type": "markdown",
   "source": [
    "The plot recipe is using the interpolation to smooth the plot. You can turn off `denseplot` to see the difference."
   ],
   "metadata": {}
  },
  {
   "outputs": [],
   "cell_type": "code",
   "source": [
    "fig = plot(sol, idxs=(1, 2, 3), denseplot=false);\n",
    "fig |> PNG"
   ],
   "metadata": {},
   "execution_count": null
  },
  {
   "cell_type": "markdown",
   "source": [
    "The zeroth variable in `idxs` is the independent variable (usually time). The below command plots the time series of the second state variable (`y`)."
   ],
   "metadata": {}
  },
  {
   "outputs": [],
   "cell_type": "code",
   "source": [
    "fig = plot(sol, idxs=(0, 2));\n",
    "fig |> PNG"
   ],
   "metadata": {},
   "execution_count": null
  },
  {
   "cell_type": "markdown",
   "source": [
    "## Non-autonomous ODEs\n",
    "\n",
    "In non-autonomous ODEs, Some term(s) in the right-hadn-side (RHS) are time-dependent. For example, in this pendulum model with external, time-dependent, force.\n",
    "\n",
    "$$\n",
    "\\begin{aligned}\n",
    "\\dot{\\theta} &= \\omega(t) \\\\\n",
    "\\dot{\\omega} &= -1.5\\frac{g}{l}sin(\\theta(t)) + \\frac{3}{ml^2}M(t)\n",
    "\\end{aligned}\n",
    "$$\n",
    "\n",
    "- $\\theta$: pendulum angle\n",
    "- $\\omega$: angular rate\n",
    "- M: time-dependent external torgue\n",
    "- $l$: pendulum length\n",
    "- $g$: gravitional acceleration"
   ],
   "metadata": {}
  },
  {
   "outputs": [],
   "cell_type": "code",
   "source": [
    "using DifferentialEquations\n",
    "using Plots\n",
    "\n",
    "l = 1.0                             ## length [m]\n",
    "m = 1.0                             ## mass [kg]\n",
    "g = 9.81                            ## gravitational acceleration [m/s²]"
   ],
   "metadata": {},
   "execution_count": null
  },
  {
   "outputs": [],
   "cell_type": "code",
   "source": [
    "function pendulum!(du, u, p, t)\n",
    "    du[1] = u[2]                    ## θ'(t) = ω(t)\n",
    "    du[2] = -3g/(2l)*sin(u[1]) + 3/(m*l^2)*p(t) # ω'(t) = -3g/(2l) sin θ(t) + 3/(ml^2)M(t)\n",
    "end\n",
    "\n",
    "θ₀ = 0.01                           ## initial angular deflection [rad]\n",
    "ω₀ = 0.0                            ## initial angular velocity [rad/s]\n",
    "u₀ = [θ₀, ω₀]                       ## initial state vector\n",
    "tspan = (0.0,10.0)                  ## time interval\n",
    "\n",
    "M = t->0.1sin(t)                    ## external torque [Nm] as the parameter for the pendulum model\n",
    "\n",
    "prob = ODEProblem(pendulum!, u₀, tspan, M)\n",
    "sol = solve(prob)\n",
    "\n",
    "fig = plot(sol, linewidth=2, xaxis=\"t\", label=[\"θ [rad]\" \"ω [rad/s]\"], layout=(2,1));\n",
    "fig |> PNG"
   ],
   "metadata": {},
   "execution_count": null
  },
  {
   "cell_type": "markdown",
   "source": [
    "## Linear ODE system\n",
    "\n",
    "In this example, the ODE system is described by a matrix differential operator.\n",
    "\n",
    "$\\dot{u} = Au$"
   ],
   "metadata": {}
  },
  {
   "outputs": [],
   "cell_type": "code",
   "source": [
    "using DifferentialEquations\n",
    "using Plots\n",
    "\n",
    "A  = [1. 0  0 -5\n",
    "      4 -2  4 -3\n",
    "     -4  0  0  1\n",
    "      5 -2  2  3]\n",
    "\n",
    "u0 = rand(4, 2)\n",
    "\n",
    "tspan = (0.0, 1.0)\n",
    "f = (u, p, t) -> A*u\n",
    "prob = ODEProblem(f, u0, tspan)\n",
    "sol = solve(prob)\n",
    "fig = plot(sol);\n",
    "fig |> PNG"
   ],
   "metadata": {},
   "execution_count": null
  },
  {
   "cell_type": "markdown",
   "source": [
    "---\n",
    "\n",
    "*This notebook was generated using [Literate.jl](https://github.com/fredrikekre/Literate.jl).*"
   ],
   "metadata": {}
  }
 ],
 "nbformat_minor": 3,
 "metadata": {
  "language_info": {
   "file_extension": ".jl",
   "mimetype": "application/julia",
   "name": "julia",
   "version": "1.10.0"
  },
  "kernelspec": {
   "name": "julia-1.10",
   "display_name": "Julia 1.10.0",
   "language": "julia"
  }
 },
 "nbformat": 4
}
