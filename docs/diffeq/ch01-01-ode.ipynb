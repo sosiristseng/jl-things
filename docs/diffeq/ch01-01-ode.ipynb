{
 "cells": [
  {
   "cell_type": "markdown",
   "metadata": {},
   "source": [
    "# Solving Ordinary Differential Equations (ODEs)\n",
    "\n",
    "- [DifferentialEquations.jl docs](https://diffeq.sciml.ai/dev/index.html)\n",
    "\n",
    "## General steps to solve differential equations\n",
    "\n",
    "- Define a model function representing the right-hand-side (RHS) of the sysstem.\n",
    "  - Out-of-place form: `f(u, p, t)` where `u` is the state variable(s), `p` is the parameter(s), and `t` is the independent variable (usually time). The output is the right hand side (RHS) of the differential equation system.\n",
    "  - In-place form: `f!(du, u, p, t)`, where the output is saved to `du`. The rest is the same as the out of place form. The in-place form has potential performance benefits since it allocates less arrays than the out-of-place form.\n",
    "- Initial conditions (`u0`) for the state variable(s).\n",
    "- (Optional) parameter(s) `p`.\n",
    "- Define a problem (e.g. `ODEProblem`) using the modeling function (`f`), initial conditions (`u0`), simulation time span (`tspan == (tstart, tend)`), and parameter(s) `p`.\n",
    "- Solve the problem by calling `solve(prob)`."
   ]
  },
  {
   "cell_type": "markdown",
   "metadata": {},
   "source": [
    "## Radioactive decay\n",
    "\n",
    "As a simple example, the decaying rate of a nuclear isotope is proprotional to its concentration:\n",
    "\n",
    "$$\n",
    "\\frac{d}{dt}C(t) = - \\lambda C(t)\n",
    "$$\n",
    "\n",
    "**State variable(s)**\n",
    "\n",
    "- $C(t)$: The concentration of a decaying nuclear isotope.\n",
    "\n",
    "**Parameter(s)**\n",
    "\n",
    "- $\\lambda$: The rate constant of decay. The half-life $t_{\\frac{1}{2}} = \\frac{ln2}{\\lambda}$"
   ]
  },
  {
   "cell_type": "code",
   "execution_count": null,
   "metadata": {},
   "outputs": [],
   "source": [
    "using DifferentialEquations\n",
    "using Plots\n"
   ]
  },
  {
   "cell_type": "code",
   "execution_count": null,
   "metadata": {},
   "outputs": [],
   "source": [
    "## The exponential decay ODE model, out-of-place (3-parameter) form\n",
    "expdecay(u, p, t) = p * u\n"
   ]
  },
  {
   "cell_type": "code",
   "execution_count": null,
   "metadata": {},
   "outputs": [],
   "source": [
    "p = -1.0 ## Parameter\n",
    "u0 = 1.0 ## Initial condition\n",
    "tspan = (0.0, 2.0) ## Simulation start and end time points\n",
    "prob = ODEProblem(expdecay, u0, tspan, p) ## Define the problem\n",
    "sol = solve(prob) ## Solve the problem\n"
   ]
  },
  {
   "cell_type": "markdown",
   "metadata": {},
   "source": [
    "### Visualize\n",
    "\n",
    "Using Plots.jl package."
   ]
  },
  {
   "cell_type": "code",
   "execution_count": null,
   "metadata": {},
   "outputs": [],
   "source": [
    "plot(sol)\n"
   ]
  },
  {
   "cell_type": "markdown",
   "metadata": {},
   "source": [
    "Solution handling options, see: https://diffeq.sciml.ai/stable/basics/solution/"
   ]
  },
  {
   "cell_type": "markdown",
   "metadata": {},
   "source": [
    "`sol(t)`: the solution at time `t` with interpolation."
   ]
  },
  {
   "cell_type": "code",
   "execution_count": null,
   "metadata": {},
   "outputs": [],
   "source": [
    "sol(1.0)\n"
   ]
  },
  {
   "cell_type": "markdown",
   "metadata": {},
   "source": [
    "`sol.t`: time points of the solution. Notice *t=1* may not in one of the time points."
   ]
  },
  {
   "cell_type": "code",
   "execution_count": null,
   "metadata": {},
   "outputs": [],
   "source": [
    "sol.t\n"
   ]
  },
  {
   "cell_type": "markdown",
   "metadata": {},
   "source": [
    "`sol.u`: the state variables at `sol.t`"
   ]
  },
  {
   "cell_type": "code",
   "execution_count": null,
   "metadata": {},
   "outputs": [],
   "source": [
    "sol.u\n"
   ]
  },
  {
   "cell_type": "markdown",
   "metadata": {},
   "source": [
    "## The SIR model\n",
    "\n",
    "A more complicated example is the [SIR model](https://www.maa.org/press/periodicals/loci/joma/the-sir-model-for-spread-of-disease-the-differential-equation-model) describing infectious disease spreading. There are more state variables and parameters.\n",
    "\n",
    "$$\n",
    "\\begin{align}\n",
    "\\frac{d}{dt}S(t) &= - \\beta S(t)I(t)  \\\\\n",
    "\\frac{d}{dt}I(t) &= \\beta S(t)I(t)  - \\gamma I(t)  \\\\\n",
    "\\frac{d}{dt}R(t) &= \\gamma I(t)\n",
    "\\end{align}\n",
    "$$\n",
    "\n",
    "**State variable(s)**\n",
    "\n",
    "- $S(t)$ : the fraction of susceptible people\n",
    "- $I(t)$ : the fraction of infectious people\n",
    "- $R(t)$ : the fraction of recovered (or removed) people\n",
    "\n",
    "**Parameter(s)**\n",
    "\n",
    "- $\\beta$ : the rate of infection when susceptible and infectious people meet\n",
    "- $\\gamma$ : the rate of recovery of infectious people"
   ]
  },
  {
   "cell_type": "code",
   "execution_count": null,
   "metadata": {},
   "outputs": [],
   "source": [
    "using DifferentialEquations\n",
    "using Plots\n"
   ]
  },
  {
   "cell_type": "code",
   "execution_count": null,
   "metadata": {},
   "outputs": [],
   "source": [
    "## SIR model, in-place form: f!(du, u, p ,t)\n",
    "function sir!(du, u, p ,t)\n",
    "\ts, i, r = u\n",
    "\tβ, γ = p\n",
    "\tv1 = β * s * i\n",
    "\tv2 = γ * i\n",
    "    du[1] = -v1\n",
    "    du[2] = v1 - v2\n",
    "    du[3] = v2\n",
    "\treturn nothing\n",
    "end\n"
   ]
  },
  {
   "cell_type": "code",
   "execution_count": null,
   "metadata": {},
   "outputs": [],
   "source": [
    "# Parameters, initial conditions, and time span of the SIR model\n",
    "p = (β = 1.0, γ = 0.3)\n",
    "u0 = [0.99, 0.01, 0.00]\n",
    "tspan = (0.0, 20.0)\n"
   ]
  },
  {
   "cell_type": "code",
   "execution_count": null,
   "metadata": {},
   "outputs": [],
   "source": [
    "# Define a problem\n",
    "prob = ODEProblem(sir!, u0, tspan, p)\n"
   ]
  },
  {
   "cell_type": "code",
   "execution_count": null,
   "metadata": {},
   "outputs": [],
   "source": [
    "# Solve the problem\n",
    "sol = solve(prob)\n"
   ]
  },
  {
   "cell_type": "code",
   "execution_count": null,
   "metadata": {},
   "outputs": [],
   "source": [
    "# Visualize the solution\n",
    "plot(sol, labels=[\"S\" \"I\" \"R\"], legend=:right)\n"
   ]
  },
  {
   "cell_type": "markdown",
   "metadata": {},
   "source": [
    "`sol[i]`: all components at timestep `i`"
   ]
  },
  {
   "cell_type": "code",
   "execution_count": null,
   "metadata": {},
   "outputs": [],
   "source": [
    "sol[2]\n"
   ]
  },
  {
   "cell_type": "markdown",
   "metadata": {},
   "source": [
    "`sol[i, j]`: `i`th component at timestep `j`"
   ]
  },
  {
   "cell_type": "code",
   "execution_count": null,
   "metadata": {},
   "outputs": [],
   "source": [
    "sol[1, 2]\n"
   ]
  },
  {
   "cell_type": "markdown",
   "metadata": {},
   "source": [
    "`sol[i, :]`: the timeseries for the `i`th component."
   ]
  },
  {
   "cell_type": "code",
   "execution_count": null,
   "metadata": {},
   "outputs": [],
   "source": [
    "sol[1, :]\n"
   ]
  },
  {
   "cell_type": "markdown",
   "metadata": {},
   "source": [
    "`sol(t,idxs=1)`: the 1st element in time point(s) `t` with interpolation. `t` can be a scalar (single point) or an vector-like sequence. (multiple points)"
   ]
  },
  {
   "cell_type": "code",
   "execution_count": null,
   "metadata": {},
   "outputs": [],
   "source": [
    "sol(10, idxs=2)\n"
   ]
  },
  {
   "cell_type": "code",
   "execution_count": null,
   "metadata": {},
   "outputs": [],
   "source": [
    "sol(0.0:0.1:20.0, idxs=2)\n"
   ]
  },
  {
   "cell_type": "markdown",
   "metadata": {},
   "source": [
    "## Lorenz system\n",
    "\n",
    "The Lorenz system is a system of ordinary differential equations having chaotic solutions for certain parameter values and initial conditions. ([Wikipedia](https://en.wikipedia.org/wiki/Lorenz_system))\n",
    "\n",
    "$$\n",
    "\\begin{align}\n",
    "  \\frac{dx}{dt} &=& \\sigma(y-x) \\\\\n",
    "  \\frac{dy}{dt} &=& x(\\rho - z) -y \\\\\n",
    "  \\frac{dz}{dt} &=& xy - \\beta z\n",
    "\\end{align}\n",
    "$$\n",
    "\n",
    "In this example, we will use [LabelledArrays.jl](https://github.com/SciML/LabelledArrays.jl) to get DSL-like syntax."
   ]
  },
  {
   "cell_type": "code",
   "execution_count": null,
   "metadata": {},
   "outputs": [],
   "source": [
    "using LabelledArrays\n",
    "using DifferentialEquations\n",
    "using Plots\n"
   ]
  },
  {
   "cell_type": "code",
   "execution_count": null,
   "metadata": {},
   "outputs": [],
   "source": [
    "function lorenz!(du,u,p,t)\n",
    "    du.x = p.σ*(u.y-u.x)\n",
    "    du.y = u.x*(p.ρ-u.z) - u.y\n",
    "    du.z = u.x*u.y - p.β*u.z\n",
    "end\n"
   ]
  },
  {
   "cell_type": "code",
   "execution_count": null,
   "metadata": {},
   "outputs": [],
   "source": [
    "u0 = LVector(x=1.0, y=0.0, z=0.0)\n",
    "p = (σ=10.0, ρ=28.0, β=8/3)\n",
    "tspan = (0.0, 100.0)\n",
    "prob = ODEProblem(lorenz!, u0, tspan, p)\n",
    "sol = solve(prob)\n"
   ]
  },
  {
   "cell_type": "markdown",
   "metadata": {},
   "source": [
    "`idxs=(1, 2, 3)` makes a phase plot with 1st, 2nd, and the 3rd state variable. With `LabelledArrays`, you can also use symbols instead of index numbers."
   ]
  },
  {
   "cell_type": "code",
   "execution_count": null,
   "metadata": {},
   "outputs": [],
   "source": [
    "# Same as plot(sol, idxs=(1, 2, 3))\n",
    "plot(sol, idxs=(:x, :y, :z))\n"
   ]
  },
  {
   "cell_type": "markdown",
   "metadata": {},
   "source": [
    "The plot recipe is using the interpolation to smooth the plot. You can turn off `denseplot` to see the difference."
   ]
  },
  {
   "cell_type": "code",
   "execution_count": null,
   "metadata": {},
   "outputs": [],
   "source": [
    "plot(sol, idxs=(1, 2, 3), denseplot=false)\n"
   ]
  },
  {
   "cell_type": "markdown",
   "metadata": {},
   "source": [
    "The zeroth variable in `idxs` is the independent variable (usually time). The below command plots the time series of the second state variable (`y`)."
   ]
  },
  {
   "cell_type": "code",
   "execution_count": null,
   "metadata": {},
   "outputs": [],
   "source": [
    "plot(sol, idxs=(0, 2))\n"
   ]
  },
  {
   "cell_type": "markdown",
   "metadata": {},
   "source": [
    "## Non-autonomous ODEs\n",
    "\n",
    "In non-autonomous ODEs, Some term(s) in the right-hadn-side (RHS) are time-dependent. For example, in this pendulum model with external, time-dependent, force.\n",
    "\n",
    "$$\n",
    "\\begin{aligned}\n",
    "\\dot{\\theta} &= \\omega(t) \\\\\n",
    "\\dot{\\omega} &= -1.5\\frac{g}{l}sin(\\theta(t)) + \\frac{3}{ml^2}M(t)\n",
    "\\end{aligned}\n",
    "$$\n",
    "\n",
    "- $\\theta$: pendulum angle\n",
    "- $\\omega$: angular rate\n",
    "- M: time-dependent external torgue\n",
    "- $l$: pendulum length\n",
    "- $g$: gravitional acceleration"
   ]
  },
  {
   "cell_type": "code",
   "execution_count": null,
   "metadata": {},
   "outputs": [],
   "source": [
    "using DifferentialEquations\n",
    "using Plots\n"
   ]
  },
  {
   "cell_type": "code",
   "execution_count": null,
   "metadata": {},
   "outputs": [],
   "source": [
    "l = 1.0                             ## length [m]\n",
    "m = 1.0                             ## mass [kg]\n",
    "g = 9.81                            ## gravitational acceleration [m/s²]\n"
   ]
  },
  {
   "cell_type": "code",
   "execution_count": null,
   "metadata": {},
   "outputs": [],
   "source": [
    "function pendulum!(du, u, p, t)\n",
    "    du[1] = u[2]                    ## θ'(t) = ω(t)\n",
    "    du[2] = -3g/(2l)*sin(u[1]) + 3/(m*l^2)*p(t) # ω'(t) = -3g/(2l) sin θ(t) + 3/(ml^2)M(t)\n",
    "end\n"
   ]
  },
  {
   "cell_type": "code",
   "execution_count": null,
   "metadata": {},
   "outputs": [],
   "source": [
    "θ₀ = 0.01                           ## initial angular deflection [rad]\n",
    "ω₀ = 0.0                            ## initial angular velocity [rad/s]\n",
    "u₀ = [θ₀, ω₀]                       ## initial state vector\n",
    "tspan = (0.0,10.0)                  ## time interval\n",
    "\n",
    "M = t->0.1sin(t)                    ## external torque [Nm] as the parameter fro the pendulum model\n"
   ]
  },
  {
   "cell_type": "code",
   "execution_count": null,
   "metadata": {},
   "outputs": [],
   "source": [
    "prob = ODEProblem(pendulum!, u₀, tspan, M)\n",
    "sol = solve(prob)\n"
   ]
  },
  {
   "cell_type": "code",
   "execution_count": null,
   "metadata": {},
   "outputs": [],
   "source": [
    "plot(sol, linewidth=2, xaxis=\"t\", label=[\"θ [rad]\" \"ω [rad/s]\"], layout=(2,1))\n"
   ]
  },
  {
   "cell_type": "markdown",
   "metadata": {},
   "source": [
    "## Linear ODE system\n",
    "\n",
    "In this example, the ODE system is described by a matrix differential operator.\n",
    "\n",
    "$\\dot{u} = Au$"
   ]
  },
  {
   "cell_type": "code",
   "execution_count": null,
   "metadata": {},
   "outputs": [],
   "source": [
    "using DifferentialEquations\n",
    "using Plots\n"
   ]
  },
  {
   "cell_type": "code",
   "execution_count": null,
   "metadata": {},
   "outputs": [],
   "source": [
    "A  = [1. 0  0 -5\n",
    "      4 -2  4 -3\n",
    "     -4  0  0  1\n",
    "      5 -2  2  3]\n",
    "\n",
    "u0 = rand(4, 2)\n",
    "\n",
    "tspan = (0.0, 1.0)\n",
    "f = (u, p, t) -> A*u\n",
    "prob = ODEProblem(f, u0, tspan)\n",
    "sol = solve(prob)\n",
    "fig = plot(sol)\n"
   ]
  }
 ],
 "metadata": {
  "kernelspec": {
   "display_name": "Julia 1.10.0",
   "language": "julia",
   "name": "julia-1.10"
  },
  "language_info": {
   "file_extension": ".jl",
   "mimetype": "application/julia",
   "name": "julia",
   "version": "1.10.0"
  }
 },
 "nbformat": 4,
 "nbformat_minor": 2
}
