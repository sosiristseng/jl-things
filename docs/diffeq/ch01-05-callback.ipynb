{
 "cells": [
  {
   "cell_type": "markdown",
   "metadata": {},
   "source": [
    "# Callbacks and Events\n",
    "\n",
    "Docs:\n",
    "- https://docs.sciml.ai/DiffEqDocs/stable/features/callback_functions/\n",
    "- https://tutorials.sciml.ai/html/introduction/04-callbacks_and_events.html\n",
    "\n",
    "## Types\n",
    "\n",
    "- `ContinuousCallback`: applied when a given *continuous condition* function hits zero. SciML solvers are able to interpolate the integration step to meet the condition.\n",
    "- `DiscreteCallback`: applied when its condition function is true.\n",
    "- `CallbackSet(cb1, cb2, ...)`: Multiple callbacks can be chained together to form a `CallbackSet`.\n",
    "- `VectorContinuousCallback`: an array of `ContinuousCallback`s.\n",
    "\n",
    "## How to\n",
    "\n",
    "After you define a callback, send it to the `solve()` function:\n",
    "\n",
    "```julia\n",
    "sol = solve(prob, alg, callback=cb)\n",
    "```\n",
    "\n",
    "## DiscreteCallback : Interventions at Preset Times\n",
    "\n",
    "The drug concentration in the blood follows exponential decay."
   ]
  },
  {
   "cell_type": "code",
   "execution_count": null,
   "metadata": {},
   "outputs": [],
   "source": [
    "using DifferentialEquations\n",
    "using Plots\n"
   ]
  },
  {
   "cell_type": "code",
   "execution_count": null,
   "metadata": {},
   "outputs": [],
   "source": [
    "# Exponential decay\n",
    "function dosing!(du, u, p, t)\n",
    "    du[1] = -u[1]\n",
    "end\n"
   ]
  },
  {
   "cell_type": "code",
   "execution_count": null,
   "metadata": {},
   "outputs": [],
   "source": [
    "u0 = [10.0]\n",
    "tspan = (0.0, 10.0)\n",
    "prob = ODEProblem(dosing!, u0, tspan)\n",
    "sol = solve(prob, Tsit5())\n"
   ]
  },
  {
   "cell_type": "code",
   "execution_count": null,
   "metadata": {},
   "outputs": [],
   "source": [
    "plot(sol, lw=3)\n"
   ]
  },
  {
   "cell_type": "markdown",
   "metadata": {},
   "source": [
    "Add a dose of 10 at `t = 4`. You may need to force the solver to stop at `t==4` by using `tstops=[4.0]` to properly apply the callback."
   ]
  },
  {
   "cell_type": "code",
   "execution_count": null,
   "metadata": {},
   "outputs": [],
   "source": [
    "condition(u, t, integrator) = t==4\n",
    "affect!(integrator) = integrator.u[1] += 10\n",
    "cb = DiscreteCallback(condition, affect!)\n"
   ]
  },
  {
   "cell_type": "code",
   "execution_count": null,
   "metadata": {},
   "outputs": [],
   "source": [
    "sol = solve(prob, Tsit5(), callback=cb, tstops=[4.0])\n",
    "fig = plot(sol)\n"
   ]
  },
  {
   "cell_type": "markdown",
   "metadata": {},
   "source": [
    "Applying multiple doses."
   ]
  },
  {
   "cell_type": "code",
   "execution_count": null,
   "metadata": {},
   "outputs": [],
   "source": [
    "dosetimes = [4.0, 8.0]\n",
    "condition(u,t,integrator) = t ∈ dosetimes\n",
    "affect!(integrator) = integrator.u[1] += 10\n",
    "cb = DiscreteCallback(condition,affect!)\n",
    "\n",
    "sol = solve(prob, Tsit5(), callback=cb, tstops=dosetimes)\n",
    "fig = plot(sol)\n"
   ]
  },
  {
   "cell_type": "markdown",
   "metadata": {},
   "source": [
    "Conditional dosing. Note that a dose was not given at t=6 because the conceentration is not more than 1."
   ]
  },
  {
   "cell_type": "code",
   "execution_count": null,
   "metadata": {},
   "outputs": [],
   "source": [
    "dosetimes = [4.0, 6.0, 8.0]\n",
    "condition(u,t,integrator) = t ∈ dosetimes && (u[1] < 1.0)\n",
    "affect!(integrator) = integrator.u[1] += 10integrator.t\n",
    "cb = DiscreteCallback(condition, affect!)\n",
    "\n",
    "sol = solve(prob, Tsit5(), callback=cb, tstops=dosetimes)\n",
    "fig = plot(sol)\n"
   ]
  },
  {
   "cell_type": "markdown",
   "metadata": {},
   "source": [
    "### PresetTimeCallback\n",
    "\n",
    "`PresetTimeCallback(tstops, affect!)` takes an array of times and an `affect!` function to apply. The solver will stop at `tstops` to ensure callbacks are applied."
   ]
  },
  {
   "cell_type": "code",
   "execution_count": null,
   "metadata": {},
   "outputs": [],
   "source": [
    "dosetimes = [4.0, 8.0]\n",
    "affect!(integrator) = integrator.u[1] += 10\n",
    "cb = PresetTimeCallback(dosetimes, affect!)\n",
    "sol = solve(prob, Tsit5(), callback=cb)\n",
    "fig = plot(sol)\n"
   ]
  },
  {
   "cell_type": "markdown",
   "metadata": {},
   "source": [
    "### Periodic callback\n",
    "\n",
    "`PeriodicCallback` is a special case of `DiscreteCallback`, used when a function should be called periodically in terms of integration time (as opposed to wall time)."
   ]
  },
  {
   "cell_type": "code",
   "execution_count": null,
   "metadata": {},
   "outputs": [],
   "source": [
    "prob = ODEProblem(dosing!, u0, (0.0, 25.0))\n",
    "\n",
    "affect!(integrator) = integrator.u[1] += 10\n",
    "cb = PeriodicCallback(affect!, 1.0)\n",
    "\n",
    "sol = solve(prob, Tsit5(), callback=cb)\n",
    "fig = plot(sol)\n"
   ]
  },
  {
   "cell_type": "markdown",
   "metadata": {},
   "source": [
    "## Continuous Callback\n",
    "\n",
    "bouncing Ball example"
   ]
  },
  {
   "cell_type": "code",
   "execution_count": null,
   "metadata": {},
   "outputs": [],
   "source": [
    "using DifferentialEquations\n",
    "using Plots\n"
   ]
  },
  {
   "cell_type": "code",
   "execution_count": null,
   "metadata": {},
   "outputs": [],
   "source": [
    "function ball!(du, u, p, t)\n",
    "    du[1] = u[2]\n",
    "    du[2] = -p\n",
    "end\n",
    "\n",
    "## When the ball touches the ground\n",
    "## Telling when event_f(u,t) == 0\n",
    "function condition(u, t, integrator)\n",
    "    u[1]\n",
    "end\n",
    "\n",
    "function affect!(integrator)\n",
    "    integrator.u[2] = -integrator.u[2]\n",
    "end\n",
    "\n",
    "cb = ContinuousCallback(condition, affect!)\n",
    "\n",
    "u0 = [50.0, 0.0]\n",
    "tspan = (0.0, 15.0)\n",
    "p = 9.8\n",
    "\n",
    "prob = ODEProblem(ball!, u0, tspan, p)\n",
    "sol = solve(prob, Tsit5(), callback=cb)\n",
    "fig = plot(sol, label=[\"Position\" \"Velocity\"])\n"
   ]
  },
  {
   "cell_type": "markdown",
   "metadata": {},
   "source": [
    "## Vector Continuous Callback\n",
    "\n",
    "You can group multiple callback together into a vector. In this example, we will simulate bouncing ball with multiple walls."
   ]
  },
  {
   "cell_type": "code",
   "execution_count": null,
   "metadata": {},
   "outputs": [],
   "source": [
    "function ball_2d!(du, u, p, t)\n",
    "    du[1] = u[2]  # x_pos\n",
    "    du[2] = -p    # x_vel\n",
    "    du[3] = u[4]  # y_pos\n",
    "    du[4] = 0.0   # y_vel\n",
    "end\n"
   ]
  },
  {
   "cell_type": "markdown",
   "metadata": {},
   "source": [
    "Vector conditions"
   ]
  },
  {
   "cell_type": "code",
   "execution_count": null,
   "metadata": {},
   "outputs": [],
   "source": [
    "function condition(out, u, t, integrator) # Event when event_f(u,t) == 0\n",
    "    out[1] = u[1]\n",
    "    out[2] = (u[3] - 10.0)u[3]\n",
    "end\n"
   ]
  },
  {
   "cell_type": "markdown",
   "metadata": {},
   "source": [
    "Vector affects"
   ]
  },
  {
   "cell_type": "code",
   "execution_count": null,
   "metadata": {},
   "outputs": [],
   "source": [
    "function affect!(integrator, idx)\n",
    "    if idx == 1\n",
    "      integrator.u[2] = -0.9integrator.u[2]\n",
    "    elseif idx == 2\n",
    "      integrator.u[4] = -0.9integrator.u[4]\n",
    "    end\n",
    "end\n"
   ]
  },
  {
   "cell_type": "code",
   "execution_count": null,
   "metadata": {},
   "outputs": [],
   "source": [
    "cb = VectorContinuousCallback(condition, affect!, 2)\n",
    "u0 = [50.0, 0.0, 0.0, 2.0]\n",
    "tspan = (0.0, 15.0)\n",
    "p = 9.8\n",
    "prob = ODEProblem(ball_2d!, u0, tspan, p)\n",
    "sol = solve(prob, Tsit5(), callback=cb, dt=1e-3, adaptive=false)\n",
    "fig = plot(sol, idxs=(3, 1))\n"
   ]
  },
  {
   "cell_type": "markdown",
   "metadata": {},
   "source": [
    "## Other Callbacks\n",
    "\n",
    "https://diffeq.sciml.ai/stable/features/callback_library/\n",
    "\n",
    "- `ManifoldProjection(g)`: keep `g(u) = 0`. For energy conservation.\n",
    "- `AutoAbstol()`: automatically adapt the absolute tolerance like [the functionality in MATLAB](https://www.mathworks.com/help/simulink/gui/absolute-tolerance.html).\n",
    "- `PositiveDomain()`: enforce non-negative solution. **The system should be defined also outside the positive domain**. There is also a more general version `GeneralDomain()`.\n",
    "- `StepsizeLimiter((u,p,t) -> maxtimestep)`: restrict maximual allowed time step.\n",
    "- `FunctionCallingCallback((u, t, int) -> func_content; funcat=[t1, t2, ...])`: call a function at the time points (t1, t2, ...) of interest.\n",
    "- `SavingCallback((u, t, int) -> data_to_be_saved, dataprototype)`: call a function and saves the result.\n",
    "- `IterativeCallback(time_choice(int) -> t2, user_affect!)`: apply an effect at the time of the next callback."
   ]
  }
 ],
 "metadata": {
  "kernelspec": {
   "display_name": "Julia 1.10.0",
   "language": "julia",
   "name": "julia-1.10"
  },
  "language_info": {
   "file_extension": ".jl",
   "mimetype": "application/julia",
   "name": "julia",
   "version": "1.10.0"
  }
 },
 "nbformat": 4,
 "nbformat_minor": 2
}
