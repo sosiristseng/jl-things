{
 "cells": [
  {
   "cell_type": "markdown",
   "metadata": {},
   "source": [
    "# Julia DataFrames Examples\n",
    "\n",
    "A brief introduction to basic usage of [DataFrames](https://github.com/JuliaData/DataFrames.jl), by [Bogumił Kamiński](http://bogumilkaminski.pl/about/) in <https://github.com/bkamins/Julia-DataFrames-Tutorial/>, *December 12, 2021*.\n",
    "\n",
    "The tutorial contains a specification of the project environment version under\n",
    "which it should be run. In order to prepare this environment, before using the\n",
    "tutorial notebooks, while in the project folder run the following command in the\n",
    "command line:\n",
    "\n",
    "```sh\n",
    "julia -e 'using Pkg; Pkg.activate(\".\"); Pkg.instantiate()'\n",
    "```"
   ]
  },
  {
   "cell_type": "markdown",
   "metadata": {},
   "source": [
    "## Runtime information"
   ]
  },
  {
   "cell_type": "code",
   "execution_count": null,
   "metadata": {},
   "outputs": [],
   "source": [
    "using InteractiveUtils\n",
    "versioninfo()"
   ]
  },
  {
   "cell_type": "code",
   "execution_count": null,
   "metadata": {},
   "outputs": [],
   "source": [
    "using Pkg\n",
    "Pkg.status()"
   ]
  }
 ],
 "metadata": {
  "kernelspec": {
   "display_name": "Julia 1.10.0",
   "language": "julia",
   "name": "julia-1.10"
  },
  "language_info": {
   "file_extension": ".jl",
   "mimetype": "application/julia",
   "name": "julia",
   "version": "1.10.0"
  }
 },
 "nbformat": 4,
 "nbformat_minor": 3
}
