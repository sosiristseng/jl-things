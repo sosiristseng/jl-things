{
 "cells": [
  {
   "cell_type": "markdown",
   "source": [
    "# Plots.jl gallery\n",
    "\n",
    "Sources:\n",
    "\n",
    "- [PlotsGallery.jl](https://github.com/goropikari/PlotsGallery.jl) by goropikari\n",
    "- [Plots.jl docs](https://docs.juliaplots.org/)"
   ],
   "metadata": {}
  },
  {
   "outputs": [],
   "cell_type": "code",
   "source": [
    "using Plots\n",
    "using Random\n",
    "Random.seed!(2021)\n",
    "PNG(img) = display(\"image/png\", img) ## Force PNG output"
   ],
   "metadata": {},
   "execution_count": null
  },
  {
   "cell_type": "markdown",
   "source": [
    "## Attributes\n",
    "https://docs.juliaplots.org/stable/attributes/\n",
    "### Ticks size and properties"
   ],
   "metadata": {}
  },
  {
   "outputs": [],
   "cell_type": "code",
   "source": [
    "fig = plot(\n",
    "    sin, 0, 2π;\n",
    "    xticks=0:0.5:2π,\n",
    "    xrotation=60,\n",
    "    xtickfontsize=25,\n",
    "    bottom_margin=15Plots.mm\n",
    ");\n",
    "fig |> PNG"
   ],
   "metadata": {},
   "execution_count": null
  },
  {
   "outputs": [],
   "cell_type": "code",
   "source": [
    "fig = plot(\n",
    "    sin, 0, 2π;\n",
    "    xtick=(0:0.5:2π, [\"$i a\" for i in 0:0.5:2π]),\n",
    "    ytick=-1:0.2:1,\n",
    "    xrotation=60,\n",
    "    yrotation=90,\n",
    ");\n",
    "fig |> PNG"
   ],
   "metadata": {},
   "execution_count": null
  },
  {
   "cell_type": "markdown",
   "source": [
    "### No axis\n",
    "`axis=false`"
   ],
   "metadata": {}
  },
  {
   "outputs": [],
   "cell_type": "code",
   "source": [
    "fig = plot(sin, 0, 2π, axis=false);\n",
    "fig |> PNG"
   ],
   "metadata": {},
   "execution_count": null
  },
  {
   "cell_type": "markdown",
   "source": [
    "### Log scale for axes\n",
    "`xscale=:log10`, `yscale=:log10`"
   ],
   "metadata": {}
  },
  {
   "outputs": [],
   "cell_type": "code",
   "source": [
    "fig = plot(exp, -5, 5, yscale=:log10, title=\"semilogy\", legend=nothing);\n",
    "fig |> PNG"
   ],
   "metadata": {},
   "execution_count": null
  },
  {
   "outputs": [],
   "cell_type": "code",
   "source": [
    "fig = plot(log, 1e-5, 10, xscale=:log10, title=\"semilogx\", legend=nothing);\n",
    "fig |> PNG"
   ],
   "metadata": {},
   "execution_count": null
  },
  {
   "outputs": [],
   "cell_type": "code",
   "source": [
    "fig = plot(x->x^1.7, 1e-3, 3, scale=:log10, title=\"log-log\", legend=nothing);\n",
    "fig |> PNG"
   ],
   "metadata": {},
   "execution_count": null
  },
  {
   "cell_type": "markdown",
   "source": [
    "### Axis range\n",
    "`xlims` and `ylims`"
   ],
   "metadata": {}
  },
  {
   "outputs": [],
   "cell_type": "code",
   "source": [
    "fig = plot(sin, 0, 2π, xlims=(-10, 10), ylims=(-2,2));\n",
    "fig |> PNG"
   ],
   "metadata": {},
   "execution_count": null
  },
  {
   "outputs": [],
   "cell_type": "code",
   "source": [
    "fig = plot(exp, 0, 10, yformatter=:scientific);\n",
    "fig |> PNG"
   ],
   "metadata": {},
   "execution_count": null
  },
  {
   "cell_type": "markdown",
   "source": [
    "### Flip Axis\n",
    "`xflip=true` and/or `yflip=true`"
   ],
   "metadata": {}
  },
  {
   "outputs": [],
   "cell_type": "code",
   "source": [
    "fig = plot(identity, 0:0.01:2π, proj=:polar, xflip=true, yflip=true);\n",
    "fig |> PNG"
   ],
   "metadata": {},
   "execution_count": null
  },
  {
   "cell_type": "markdown",
   "source": [
    "### Aspect ratio\n",
    "`aspect_ratio=:equal` or `aspect_ratio=<number>`"
   ],
   "metadata": {}
  },
  {
   "outputs": [],
   "cell_type": "code",
   "source": [
    "fig = heatmap(bitrand(10, 10), aspect_ratio=:equal, c=:blues, colorbar=false);\n",
    "fig |> PNG"
   ],
   "metadata": {},
   "execution_count": null
  },
  {
   "cell_type": "markdown",
   "source": [
    "### Fonts\n",
    "LaTeX fonts are supported by the `LaTeXStrings.jl` package."
   ],
   "metadata": {}
  },
  {
   "outputs": [],
   "cell_type": "code",
   "source": [
    "using Plots\n",
    "using LaTeXStrings\n",
    "\n",
    "fig = plot(sin, 0, 2π,\n",
    "    title=L\"y = \\sin(x)\",\n",
    "    titlefont=font(40), ## title\n",
    "\n",
    "    xlabel=L\"x\",\n",
    "    ylabel=\"y\",\n",
    "    xguidefontsize=30, ## x-guide\n",
    "    yguidefontsize=20, ## y-guide\n",
    "    # guidefontsize=20, ## both x,y-guide\n",
    "\n",
    "    xtick=(0:0.5:2π, [\"\\$ $(i) \\$\" for i in 0:0.5:2π]),\n",
    "    ytick=-1:0.5:1,\n",
    "    xtickfontsize=15,\n",
    "    ytickfontsize=20,\n",
    "    # tickfontsize=10, ## for both x and y\n",
    "\n",
    "    label=\"Sin function\",\n",
    "    legendfontsize=12,\n",
    "\n",
    "    xlims=(0,2π),\n",
    "    ylims=(-1,1),\n",
    "    bottom_margin=5Plots.mm,\n",
    "    left_margin=10Plots.mm,\n",
    "    top_margin=15Plots.mm\n",
    ");\n",
    "fig |> PNG\n",
    "\n",
    "fib(x) = (((1+sqrt(5))/2)^x - ((1-sqrt(5))/2)^x)/sqrt(5)\n",
    "\n",
    "ann = L\"F_n = \\frac{1}{\\sqrt{5}} \\left[\\left( \\frac{1+\\sqrt{5}}{2} \\right)^n - \\left( \\frac{1-\\sqrt{5}}{2} \\right)^n \\right]\"\n",
    "\n",
    "fig = plot(fib, 1:12, marker=:circle, xlabel=L\"n\", ylabel=L\"F_n\", annotation=(5, 100, ann));\n",
    "fig |> PNG"
   ],
   "metadata": {},
   "execution_count": null
  },
  {
   "cell_type": "markdown",
   "source": [
    "## Bar plots"
   ],
   "metadata": {}
  },
  {
   "outputs": [],
   "cell_type": "code",
   "source": [
    "using Plots\n",
    "using StatsPlots\n",
    "using StatsBase"
   ],
   "metadata": {},
   "execution_count": null
  },
  {
   "cell_type": "markdown",
   "source": [
    "Prepare data"
   ],
   "metadata": {}
  },
  {
   "outputs": [],
   "cell_type": "code",
   "source": [
    "measles = [38556, 24472, 14556, 18060, 19549, 8122, 28541, 7880, 3283, 4135, 7953, 1884]\n",
    "mumps = [20178, 23536, 34561, 37395, 36072, 32237, 18597, 9408, 6005, 6268, 8963, 13882]\n",
    "chickenPox = [37140, 32169, 37533, 39103, 33244, 23269, 16737, 5411, 3435, 6052, 12825, 23332]\n",
    "ticklabel = string.(collect('A':'L'))"
   ],
   "metadata": {},
   "execution_count": null
  },
  {
   "cell_type": "markdown",
   "source": [
    "### Grouped vertical bar plots\n",
    "\n",
    "Requires the `StatsPlots.jl` package.\n",
    "`groupedbar(data, bar_position = :dodge)`"
   ],
   "metadata": {}
  },
  {
   "outputs": [],
   "cell_type": "code",
   "source": [
    "fig = groupedbar([measles mumps chickenPox], bar_position = :dodge, bar_width=0.7, xticks=(1:12, ticklabel), label=[\"measles\" \"mumps\" \"chickenPox\"]);\n",
    "fig |> PNG"
   ],
   "metadata": {},
   "execution_count": null
  },
  {
   "cell_type": "markdown",
   "source": [
    "### Stacked vertical bar plots\n",
    "\n",
    "Requires `StatsPlots` package.\n",
    "`groupedbar(data, bar_position = :stack)`"
   ],
   "metadata": {}
  },
  {
   "outputs": [],
   "cell_type": "code",
   "source": [
    "fig = groupedbar([measles mumps chickenPox],\n",
    "        bar_position = :stack,\n",
    "        bar_width=0.7,\n",
    "        xticks=(1:12, ticklabel),\n",
    "        label=[\"measles\" \"mumps\" \"chickenPox\"]\n",
    ");\n",
    "fig |> PNG"
   ],
   "metadata": {},
   "execution_count": null
  },
  {
   "cell_type": "markdown",
   "source": [
    "### Horizontal Bar Plot\n",
    "`bar(data, orientation=:h)`"
   ],
   "metadata": {}
  },
  {
   "outputs": [],
   "cell_type": "code",
   "source": [
    "fig = bar(1:12, orientation=:h, yticks=(1:12, ticklabel), yflip=true);\n",
    "fig |> PNG"
   ],
   "metadata": {},
   "execution_count": null
  },
  {
   "cell_type": "markdown",
   "source": [
    "### Categorical Histogram Plot"
   ],
   "metadata": {}
  },
  {
   "outputs": [],
   "cell_type": "code",
   "source": [
    "status = [\"Poor\", \"Fair\", \"Good\", \"Excellent\"]\n",
    "data = sample(status, Weights([1,1,2,2]), 100)\n",
    "datamap = countmap(data)\n",
    "\n",
    "fig = bar((x -> datamap[x]).(status), xticks=(1:4, status), legend=nothing);\n",
    "fig |> PNG"
   ],
   "metadata": {},
   "execution_count": null
  },
  {
   "cell_type": "markdown",
   "source": [
    "## Histogram\n",
    "`histogram(data, bins=N)`"
   ],
   "metadata": {}
  },
  {
   "outputs": [],
   "cell_type": "code",
   "source": [
    "x = randn(1000)\n",
    "y = randn(1000)\n",
    "z = randn(1000)\n",
    "\n",
    "fig = histogram(x, bins=20, alpha=0.4, label=\"A\");\n",
    "histogram!(fig, y, bins=20, alpha=0.4, label=\"B\");\n",
    "histogram!(fig, z, bins=20, alpha=0.4, label=\"C\");\n",
    "fig |> PNG"
   ],
   "metadata": {},
   "execution_count": null
  },
  {
   "cell_type": "markdown",
   "source": [
    "## Box plots"
   ],
   "metadata": {}
  },
  {
   "outputs": [],
   "cell_type": "code",
   "source": [
    "using Plots\n",
    "using StatsPlots\n",
    "using Statistics\n",
    "\n",
    "n = 30\n",
    "science = rand(1:10, n)\n",
    "fig = boxplot(science, label=\"science\");\n",
    "fig |> PNG\n",
    "\n",
    "english = rand(1:10, n)\n",
    "fig = boxplot([science english], label=[\"science\" \"english\"]);\n",
    "fig |> PNG"
   ],
   "metadata": {},
   "execution_count": null
  },
  {
   "cell_type": "markdown",
   "source": [
    "## Contour Plots\n",
    "### Over a function\n",
    "`contour(xs, ys, f)` where `z = f(x, y)`"
   ],
   "metadata": {}
  },
  {
   "outputs": [],
   "cell_type": "code",
   "source": [
    "using Plots\n",
    "\n",
    "xs = range(0, stop=2, length=50)\n",
    "ys = range(0, stop=2, length=50)\n",
    "f = (x , y) -> x^2 + y^2\n",
    "\n",
    "fig = contour(xs, ys, f);\n",
    "fig |> PNG"
   ],
   "metadata": {},
   "execution_count": null
  },
  {
   "cell_type": "markdown",
   "source": [
    "### Nullclines\n",
    "[Nullclines](https://en.wikipedia.org/wiki/Nullcline) (zero-growth isoclines) are curves where the derivative of one variable is zero. Nullclines are used to analyze evolution and stability of ODE systems."
   ],
   "metadata": {}
  },
  {
   "outputs": [],
   "cell_type": "code",
   "source": [
    "using Plots\n",
    "\n",
    "dx = (x, y) -> 3x - 1.4x*y\n",
    "dy = (x, y) -> -y + 0.8x*y\n",
    "\n",
    "myrange = -1:0.01:4\n",
    "\n",
    "fig = contour(myrange, myrange, dx, levels=[0], color=:red, legend=false);\n",
    "contour!(fig, myrange, myrange, dy, levels=[0], color=:blue, legend=false);\n",
    "fig |> PNG"
   ],
   "metadata": {},
   "execution_count": null
  },
  {
   "cell_type": "markdown",
   "source": [
    "### Contour plot over an array\n",
    "`contour(x1d, y1d, xy2d)`"
   ],
   "metadata": {}
  },
  {
   "outputs": [],
   "cell_type": "code",
   "source": [
    "# Notice that xs is transposed, making zz a 2D matrix\n",
    "zz = f.(xs', ys)\n",
    "fig = contour(xs, ys, zz);\n",
    "fig |> PNG"
   ],
   "metadata": {},
   "execution_count": null
  },
  {
   "cell_type": "markdown",
   "source": [
    "### Filled Contour Plots\n",
    "+ `contour(xs, ys, f, fill=true)`\n",
    "+ `contourf(xs, ys, f)`"
   ],
   "metadata": {}
  },
  {
   "outputs": [],
   "cell_type": "code",
   "source": [
    "fig = contour(0:0.01:5, 0:0.01:5, (x, y) -> sin(3x) * cos(x+y), xlabel=\"x\", ylabel=\"y\", fill=true);\n",
    "fig |> PNG"
   ],
   "metadata": {},
   "execution_count": null
  },
  {
   "cell_type": "markdown",
   "source": [
    "## Datetime plot\n",
    "- Use `Dates` package and `Data` data type\n",
    "- Customize ticks"
   ],
   "metadata": {}
  },
  {
   "outputs": [],
   "cell_type": "code",
   "source": [
    "using Plots\n",
    "using Dates\n",
    "\n",
    "days = 31\n",
    "position = cumsum(randn(days))\n",
    "x = Date(2018,1,1):Day(1):Date(2018,1,31)\n",
    "ticks = [x[i] for i in 1:5:length(x)]\n",
    "\n",
    "fig = plot(x, position,\n",
    "     xlabel=\"Date\",\n",
    "     ylabel=\"Position\",\n",
    "     title=\"Track of random walker\",\n",
    "\t legend=nothing,\n",
    "     xticks=ticks,\n",
    "     xrotation=45,\n",
    "     bottom_margin=10Plots.mm,\n",
    "     left_margin=5Plots.mm\n",
    ");\n",
    "fig |> PNG"
   ],
   "metadata": {},
   "execution_count": null
  },
  {
   "cell_type": "markdown",
   "source": [
    "## Error bar\n",
    "`plots(..., xerr=xerr, yerr=yerr)`"
   ],
   "metadata": {}
  },
  {
   "outputs": [],
   "cell_type": "code",
   "source": [
    "using Plots\n",
    "\n",
    "f = x -> 2 * x + 1\n",
    "x = 0:0.1:2\n",
    "n = length(x)\n",
    "y = f.(x) + randn(n)\n",
    "\n",
    "fig = plot(\n",
    "    x, y,\n",
    "    xerr=0.1 * rand(n),\n",
    "    yerr=rand(n),\n",
    "\tlegend=nothing\n",
    ");\n",
    "fig |> PNG"
   ],
   "metadata": {},
   "execution_count": null
  },
  {
   "cell_type": "markdown",
   "source": [
    "## Heatmap\n",
    "`heatmap(data)`"
   ],
   "metadata": {}
  },
  {
   "outputs": [],
   "cell_type": "code",
   "source": [
    "using Plots\n",
    "\n",
    "a = rand(5,5)\n",
    "xlabel = string.(collect('A':'E'))\n",
    "ylabel = string.(collect('a':'e'))\n",
    "fig = heatmap(\n",
    "    a, xticks=(1:5, xlabel),\n",
    "    yticks=(1:5, ylabel),\n",
    "    aspect_ratio=:equal\n",
    ");\n",
    "fig |> PNG"
   ],
   "metadata": {},
   "execution_count": null
  },
  {
   "cell_type": "markdown",
   "source": [
    "Add number annotations to plots"
   ],
   "metadata": {}
  },
  {
   "outputs": [],
   "cell_type": "code",
   "source": [
    "fontsize = 15\n",
    "nrow, ncol = size(a)\n",
    "ann = [(i,j, text(round(a[i,j], digits=2), fontsize, :white, :center)) for i in 1:nrow for j in 1:ncol]\n",
    "\n",
    "annotate!(fig, ann, linecolor=:white);\n",
    "fig |> PNG"
   ],
   "metadata": {},
   "execution_count": null
  },
  {
   "cell_type": "markdown",
   "source": [
    "## Line plots\n",
    "\n",
    "```julia\n",
    "using Plots\n",
    "plot(x, y)\n",
    "plot(f, xRange)\n",
    "plot(f, xMin, xMax)\n",
    "plot(x, [y1 y2])\n",
    "```"
   ],
   "metadata": {}
  },
  {
   "outputs": [],
   "cell_type": "code",
   "source": [
    "using Plots\n",
    "\n",
    "# Data\n",
    "x = 0:0.1:2pi\n",
    "y1 = cos.(x)\n",
    "y2 = sin.(x)\n",
    "\n",
    "# Creating a plot in steps\n",
    "fig = plot(x, y1, color=\"blue\", linewidth=3);\n",
    "plot!(fig, x, y2, color=\"red\", line=:dash);\n",
    "title!(fig, \"Trigonometric functions\");\n",
    "xlabel!(fig, \"angle\");\n",
    "ylabel!(fig, \"sin(x) and cos(x)\");\n",
    "plot!(fig, xlims=(0,2pi), ylims=(-2, 2), size=(600, 600));\n",
    "\n",
    "fig |> PNG"
   ],
   "metadata": {},
   "execution_count": null
  },
  {
   "outputs": [],
   "cell_type": "code",
   "source": [
    "fig = plot(x, y1, line=(:blue, 3));\n",
    "plot!(fig, x, y2, line=(:dash, :red));\n",
    "# One set function to rule them all\n",
    "plot!(fig,\n",
    "    title=\"Trigonometric functions\",\n",
    "    xlabel=\"angle\",\n",
    "    ylabel=\"sin(x) and cos(x)\",\n",
    "    xlims=(0,2pi), ylims=(-2, 2), size=(600, 600)\n",
    ");\n",
    "\n",
    "fig |> PNG"
   ],
   "metadata": {},
   "execution_count": null
  },
  {
   "cell_type": "markdown",
   "source": [
    "### Plotting multiple series\n",
    "\n",
    "+ Rows = observations\n",
    "+ Columns = species"
   ],
   "metadata": {}
  },
  {
   "outputs": [],
   "cell_type": "code",
   "source": [
    "time = 30\n",
    "walker1 = cumsum(randn(time))\n",
    "walker2 = cumsum(randn(time))\n",
    "walker3 = cumsum(randn(time))\n",
    "walker4 = cumsum(randn(time))\n",
    "walker5 = cumsum(randn(time))\n",
    "fig = plot(1:time, [walker1 walker2 walker3 walker4 walker5],\n",
    "    xlabel=\"time\", ylabel=\"position\",\n",
    "    label=[\"walker1\" \"walker2\" \"walker3\" \"walker4\" \"walker5\"],\n",
    "    legend=:topleft\n",
    ");\n",
    "\n",
    "fig |> PNG"
   ],
   "metadata": {},
   "execution_count": null
  },
  {
   "cell_type": "markdown",
   "source": [
    "### Parameteric plots\n",
    "\n",
    "Functions can be plotted directly.\n",
    "\n",
    "+ `plot(f, xmin, xmax)`\n",
    "+ `plot(f, range_of_x)`\n",
    "+ `plot(fx(t), fy(t), range_of_t)`"
   ],
   "metadata": {}
  },
  {
   "outputs": [],
   "cell_type": "code",
   "source": [
    "let\n",
    "    f = x -> 5exp(-x^2)\n",
    "    g = x -> x^2\n",
    "    plot([f, g], -3, 3, label=[\"f\" \"g\"], legend=:top)\n",
    "end |> PNG"
   ],
   "metadata": {},
   "execution_count": null
  },
  {
   "outputs": [],
   "cell_type": "code",
   "source": [
    "plot(sin, t->sin(2t), 0, 2π, leg=false, fill=(0,:orange)) |> PNG"
   ],
   "metadata": {},
   "execution_count": null
  },
  {
   "cell_type": "markdown",
   "source": [
    "### 3D line plot\n",
    "\n",
    "Similar to 2D line plots.\n",
    "\n",
    "`plot(fx(t), fy(t), fz(t), tmin, tmax [, kwargs...])`"
   ],
   "metadata": {}
  },
  {
   "outputs": [],
   "cell_type": "code",
   "source": [
    "plot(cos, sin, t -> sin(5t), 0, 2pi, legend=nothing) |> PNG"
   ],
   "metadata": {},
   "execution_count": null
  },
  {
   "cell_type": "markdown",
   "source": [
    "## Line colors\n",
    "`plot(x, y, c=color)`"
   ],
   "metadata": {}
  },
  {
   "outputs": [],
   "cell_type": "code",
   "source": [
    "using Plots\n",
    "using SpecialFunctions\n",
    "\n",
    "x = 0:0.2:10\n",
    "y0 = besselj.(0,x)\n",
    "y1 = besselj.(1,x)\n",
    "y2 = besselj.(2,x)\n",
    "y3 = besselj.(3,x)\n",
    "y4 = besselj.(4,x)\n",
    "y5 = besselj.(5,x)\n",
    "y6 = besselj.(6,x)\n",
    "colors = [:red :green :blue :cyan :magenta :yellow :black]\n",
    "plot(x, [y0 y1 y2 y3 y4 y5 y6], c=colors) |> PNG"
   ],
   "metadata": {},
   "execution_count": null
  },
  {
   "cell_type": "markdown",
   "source": [
    "### Line styles"
   ],
   "metadata": {}
  },
  {
   "outputs": [],
   "cell_type": "code",
   "source": [
    "using Plots\n",
    "@show Plots.supported_styles()"
   ],
   "metadata": {},
   "execution_count": null
  },
  {
   "outputs": [],
   "cell_type": "code",
   "source": [
    "style = Plots.supported_styles()[2:end]\n",
    "style = reshape(style, 1, length(style))\n",
    "plot(x, [y0 y1 y2 y3 y4], line=(3, style)) |> PNG"
   ],
   "metadata": {},
   "execution_count": null
  },
  {
   "cell_type": "markdown",
   "source": [
    "## Polar Plots\n",
    "`plot(θ, r, proj=:polar)`"
   ],
   "metadata": {}
  },
  {
   "outputs": [],
   "cell_type": "code",
   "source": [
    "plot(θ -> 1 + cos(θ) * sin(θ)^2, 0, 2π, proj=:polar, lims=(0, 1.5)) |> PNG"
   ],
   "metadata": {},
   "execution_count": null
  },
  {
   "cell_type": "markdown",
   "source": [
    "### Rose Plots\n",
    "`plot(..., proj=:polar, line=:steppre)`"
   ],
   "metadata": {}
  },
  {
   "outputs": [],
   "cell_type": "code",
   "source": [
    "n = 24\n",
    "R = rand(n+1)\n",
    "plot(0:2pi/n:2pi, R, proj=:polar, line=:steppre, lims=(0, 1), legend=nothing) |> PNG"
   ],
   "metadata": {},
   "execution_count": null
  },
  {
   "cell_type": "markdown",
   "source": [
    "## Quiver Plots\n",
    "+ `quiver(x1d, y1d, quiver=(vx1d, vy1d)`\n",
    "+ `quiver(x2d, y2d, quiver=(x, y)->(u, v))`"
   ],
   "metadata": {}
  },
  {
   "outputs": [],
   "cell_type": "code",
   "source": [
    "using Plots\n",
    "\n",
    "n = 7\n",
    "f = (x,y) -> hypot(x, y) |> inv\n",
    "\n",
    "x = repeat(-3:(2*3)/n:3, 1, n) |> vec\n",
    "y = repeat(-3:(2*3)/n:3, 1, n)' |> vec\n",
    "vx = f.(x,y) .* cos.(atan.(y,x)) |> vec\n",
    "vy = f.(x,y) .* sin.(atan.(y,x)) |> vec\n",
    "quiver(x, y, quiver=(vx, vy), aspect_ratio=:equal) |> PNG"
   ],
   "metadata": {},
   "execution_count": null
  },
  {
   "outputs": [],
   "cell_type": "code",
   "source": [
    "g = (x, y) -> [f(x,y) * cos(atan(y,x)), f(x,y) * sin(atan(y,x))]\n",
    "xx = [x for y in -3:(2*3)/n:3, x in -3:(2*3)/n:3]\n",
    "yy = [y for y in -3:(2*3)/n:3, x in -3:(2*3)/n:3]\n",
    "quiver(xx, yy, quiver=g, aspect_ratio=:equal, color=:black) |> PNG"
   ],
   "metadata": {},
   "execution_count": null
  },
  {
   "cell_type": "markdown",
   "source": [
    "## Scatter Plots\n",
    "2D Scatter Plots: `scatter(xpos, ypos)`"
   ],
   "metadata": {}
  },
  {
   "outputs": [],
   "cell_type": "code",
   "source": [
    "using Plots\n",
    "\n",
    "n = 50\n",
    "x = rand(n)\n",
    "y = rand(n)\n",
    "ms = rand(50) * 30\n",
    "scatter(x, y, markersize=ms) |> PNG"
   ],
   "metadata": {},
   "execution_count": null
  },
  {
   "cell_type": "markdown",
   "source": [
    "3D Scatter Plots: `scatter(xpos, ypos, zpos)`"
   ],
   "metadata": {}
  },
  {
   "outputs": [],
   "cell_type": "code",
   "source": [
    "scatter(x, y, rand(n), markersize=ms) |> PNG"
   ],
   "metadata": {},
   "execution_count": null
  },
  {
   "cell_type": "markdown",
   "source": [
    "## Stairstep plot\n",
    "`plot(..., line=:steppre)`"
   ],
   "metadata": {}
  },
  {
   "outputs": [],
   "cell_type": "code",
   "source": [
    "plot(sin.(0:0.3:2pi), line=:steppre, label=\"Steps\") |> PNG"
   ],
   "metadata": {},
   "execution_count": null
  },
  {
   "cell_type": "markdown",
   "source": [
    "## Stem plot\n",
    "\n",
    "A.k.a lolipop plot.\n",
    "\n",
    "`plot(..., line=:stem)`"
   ],
   "metadata": {}
  },
  {
   "outputs": [],
   "cell_type": "code",
   "source": [
    "plot(sin.(0:0.3:2pi), line=:stem, marker=:star, markersize=20, ylims=(-1.1, 1.1), label=\"Stars\") |> PNG"
   ],
   "metadata": {},
   "execution_count": null
  },
  {
   "cell_type": "markdown",
   "source": [
    "## Subplots\n",
    "\n",
    "+ `plot(p1, p2, p3, ...)`\n",
    "+ `plot(..., layout=(nrow, ncol))`\n",
    "+ `plot(..., layout=@layout [...])`\n",
    "\n",
    "[Source](https://docs.juliaplots.org/latest/layouts/)"
   ],
   "metadata": {}
  },
  {
   "outputs": [],
   "cell_type": "code",
   "source": [
    "using Plots\n",
    "data = rand(100, 4)"
   ],
   "metadata": {},
   "execution_count": null
  },
  {
   "cell_type": "markdown",
   "source": [
    "create a 2x2 grid, and map each of the 4 series to one of the subplots"
   ],
   "metadata": {}
  },
  {
   "outputs": [],
   "cell_type": "code",
   "source": [
    "plot(data, layout = 4) |> PNG"
   ],
   "metadata": {},
   "execution_count": null
  },
  {
   "cell_type": "markdown",
   "source": [
    "More complex grid layouts can be created with the grid(...) constructor:"
   ],
   "metadata": {}
  },
  {
   "outputs": [],
   "cell_type": "code",
   "source": [
    "plot(data, layout = grid(4, 1, heights=[0.1 ,0.4, 0.4, 0.1])) |> PNG"
   ],
   "metadata": {},
   "execution_count": null
  },
  {
   "cell_type": "markdown",
   "source": [
    "Adding titles and labels"
   ],
   "metadata": {}
  },
  {
   "outputs": [],
   "cell_type": "code",
   "source": [
    "plot(data, layout = 4, label=[\"a\" \"b\" \"c\" \"d\"], title=[\"1\" \"2\" \"3\" \"4\"]) |> PNG"
   ],
   "metadata": {},
   "execution_count": null
  },
  {
   "cell_type": "markdown",
   "source": [
    "Using the `@layout` macro"
   ],
   "metadata": {}
  },
  {
   "outputs": [],
   "cell_type": "code",
   "source": [
    "l = @layout [\n",
    "    a{0.3w} [grid(3,3)\n",
    "             b{0.2h}  ]\n",
    "]\n",
    "\n",
    "fig = plot(\n",
    "    rand(10, 11),\n",
    "    layout = l, legend = false, seriestype = [:bar :scatter :path],\n",
    "    title = [\"($i)\" for j in 1:1, i in 1:11], titleloc = :right, titlefont = font(8)\n",
    ");\n",
    "fig |> PNG"
   ],
   "metadata": {},
   "execution_count": null
  },
  {
   "cell_type": "markdown",
   "source": [
    "Use _ to ignore a spot in the layout"
   ],
   "metadata": {}
  },
  {
   "outputs": [],
   "cell_type": "code",
   "source": [
    "fig = plot((plot() for i in 1:7)..., layout=@layout([_ ° _; ° ° °; ° ° °]));\n",
    "fig |> PNG"
   ],
   "metadata": {},
   "execution_count": null
  },
  {
   "cell_type": "markdown",
   "source": [
    "### Build subplots one by one"
   ],
   "metadata": {}
  },
  {
   "outputs": [],
   "cell_type": "code",
   "source": [
    "p1 = plot(sin, 0, 2pi, xlabel=\"x1\");\n",
    "p2 = plot(cos, 0, 2pi, xlabel=\"x2\");\n",
    "p3 = histogram(randn(1000), xlabel=\"x3\");\n",
    "p4 = plot(x->exp(-x^2), -3, 3, xlabel=\"x4\");\n",
    "fig = plot(p1, p2, p3, p4);\n",
    "fig |> PNG"
   ],
   "metadata": {},
   "execution_count": null
  },
  {
   "cell_type": "markdown",
   "source": [
    "## Surface plots\n",
    "\n",
    "+ `surface(x, y, z)`\n",
    "+ `surface(x, y, (x,y)->z)`\n",
    "+ `plot(x, y, z, linetype=:surface)`\n",
    "+ `plot(x, y, z, linetype=:wireframe)`"
   ],
   "metadata": {}
  },
  {
   "outputs": [],
   "cell_type": "code",
   "source": [
    "using Plots\n",
    "\n",
    "x = y = -10:10\n",
    "f = (x , y) -> x^2 + y^2\n",
    "\n",
    "surface(x, y, f) |> PNG"
   ],
   "metadata": {},
   "execution_count": null
  },
  {
   "cell_type": "markdown",
   "source": [
    "surface style"
   ],
   "metadata": {}
  },
  {
   "outputs": [],
   "cell_type": "code",
   "source": [
    "plot(x, y, f, linetype=:surface) |> PNG"
   ],
   "metadata": {},
   "execution_count": null
  },
  {
   "cell_type": "markdown",
   "source": [
    "wireframe style"
   ],
   "metadata": {}
  },
  {
   "outputs": [],
   "cell_type": "code",
   "source": [
    "plot(x, y, f, linetype=:wireframe) |> PNG"
   ],
   "metadata": {},
   "execution_count": null
  },
  {
   "cell_type": "markdown",
   "source": [
    "## Twin Y Axis\n",
    "`plot!(twinx())`"
   ],
   "metadata": {}
  },
  {
   "outputs": [],
   "cell_type": "code",
   "source": [
    "using Plots\n",
    "\n",
    "fig = plot(randn(100), ylabel=\"y1\", leg=:topright);\n",
    "\n",
    "plot!(twinx(fig), randn(100)*10,\n",
    "    c=:red,\n",
    "    ylabel=\"y2\",\n",
    "    leg=:bottomright,\n",
    "    size=(600, 400)\n",
    ");\n",
    "\n",
    "plot!(fig, right_margin=15Plots.mm);\n",
    "fig |> PNG"
   ],
   "metadata": {},
   "execution_count": null
  },
  {
   "cell_type": "markdown",
   "source": [
    "## Animations\n",
    "`@animate` for loops"
   ],
   "metadata": {}
  },
  {
   "outputs": [],
   "cell_type": "code",
   "source": [
    "using Plots"
   ],
   "metadata": {},
   "execution_count": null
  },
  {
   "cell_type": "markdown",
   "source": [
    "define the Lorenz attractor"
   ],
   "metadata": {}
  },
  {
   "outputs": [],
   "cell_type": "code",
   "source": [
    "Base.@kwdef mutable struct Lorenz\n",
    "    dt::Float64 = 0.02\n",
    "    σ::Float64 = 10\n",
    "    ρ::Float64 = 28\n",
    "    β::Float64 = 8/3\n",
    "    x::Float64 = 1\n",
    "    y::Float64 = 1\n",
    "    z::Float64 = 1\n",
    "end\n",
    "\n",
    "function step!(l::Lorenz)\n",
    "    dx = l.σ * (l.y - l.x)\n",
    "    dy = l.x * (l.ρ - l.z) - l.y\n",
    "    dz = l.x * l.y - l.β * l.z\n",
    "    l.x += l.dt * dx\n",
    "    l.y += l.dt * dy\n",
    "    l.z += l.dt * dz\n",
    "end\n",
    "\n",
    "attractor = Lorenz()"
   ],
   "metadata": {},
   "execution_count": null
  },
  {
   "cell_type": "markdown",
   "source": [
    "initialize a 3D plot with one empty series"
   ],
   "metadata": {}
  },
  {
   "outputs": [],
   "cell_type": "code",
   "source": [
    "plt = plot3d(\n",
    "    1,\n",
    "    xlim = (-30, 30),\n",
    "    ylim = (-30, 30),\n",
    "    zlim = (0, 60),\n",
    "    title = \"Lorenz Attractor\",\n",
    "    marker = 2,\n",
    ")"
   ],
   "metadata": {},
   "execution_count": null
  },
  {
   "cell_type": "markdown",
   "source": [
    "pushing new points to the plot"
   ],
   "metadata": {}
  },
  {
   "outputs": [],
   "cell_type": "code",
   "source": [
    "anim = @animate for i=1:1500\n",
    "    step!(attractor)\n",
    "    push!(plt, attractor.x, attractor.y, attractor.z)\n",
    "end\n",
    "\n",
    "mp4(anim, fps = 15)"
   ],
   "metadata": {},
   "execution_count": null
  },
  {
   "cell_type": "markdown",
   "source": [
    "---\n",
    "\n",
    "*This notebook was generated using [Literate.jl](https://github.com/fredrikekre/Literate.jl).*"
   ],
   "metadata": {}
  }
 ],
 "nbformat_minor": 3,
 "metadata": {
  "language_info": {
   "file_extension": ".jl",
   "mimetype": "application/julia",
   "name": "julia",
   "version": "1.10.0"
  },
  "kernelspec": {
   "name": "julia-1.10",
   "display_name": "Julia 1.10.0",
   "language": "julia"
  }
 },
 "nbformat": 4
}
