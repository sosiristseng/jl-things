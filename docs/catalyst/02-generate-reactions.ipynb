{
 "cells": [
  {
   "cell_type": "markdown",
   "metadata": {},
   "source": [
    "# Generating reaction systems programmatically\n",
    "\n",
    "There are two ways to create a reaction for a `ReactionSystem`:\n",
    "\n",
    "- `Reaction()` function\n",
    "- `@reaction` macro"
   ]
  },
  {
   "cell_type": "code",
   "execution_count": null,
   "metadata": {},
   "outputs": [],
   "source": [
    "using Catalyst\n",
    "using ModelingToolkit\n",
    "\n",
    "@parameters α K n δ γ β μ\n",
    "@variables t\n",
    "@species m₁(t) m₂(t) m₃(t) P₁(t) P₂(t) P₃(t)"
   ]
  },
  {
   "cell_type": "markdown",
   "metadata": {},
   "source": [
    "### Reaction function\n",
    "The `Reaction(rate, substrates, products)` function builds reactions. To allow for other stoichiometric coefficients we also provide a five argument form: `Reaction(rate, substrates, products, substrate_stoichiometries, product_stoichiometries)`"
   ]
  },
  {
   "cell_type": "code",
   "execution_count": null,
   "metadata": {},
   "outputs": [],
   "source": [
    "rxs = [\n",
    "    Reaction(hillr(P₃, α, K, n), nothing, [m₁]),\n",
    "    Reaction(hillr(P₁, α, K, n), nothing, [m₂]),\n",
    "    Reaction(hillr(P₂, α, K, n), nothing, [m₃]),\n",
    "    Reaction(δ, [m₁], nothing),\n",
    "    Reaction(γ, nothing, [m₁]),\n",
    "    Reaction(δ, [m₂], nothing),\n",
    "    Reaction(γ, nothing, [m₂]),\n",
    "    Reaction(δ, [m₃], nothing),\n",
    "    Reaction(γ, nothing, [m₃]),\n",
    "    Reaction(β, [m₁], [m₁, P₁]),\n",
    "    Reaction(β, [m₂], [m₂, P₂]),\n",
    "    Reaction(β, [m₃], [m₃, P₃]),\n",
    "    Reaction(μ, [P₁], nothing),\n",
    "    Reaction(μ, [P₂], nothing),\n",
    "    Reaction(μ, [P₃], nothing)\n",
    "]"
   ]
  },
  {
   "cell_type": "markdown",
   "metadata": {},
   "source": [
    "Use `ReactionSystem(reactions, indenpendeent_variable)` to collect these reactions. `@named` macro is used because every system in `ModelingToolkit` needs a name. `@named x = System(...)` is a short hand for `x = System(...; name=:x)`"
   ]
  },
  {
   "cell_type": "code",
   "execution_count": null,
   "metadata": {},
   "outputs": [],
   "source": [
    "@named repressilator = ReactionSystem(rxs, t)"
   ]
  },
  {
   "cell_type": "markdown",
   "metadata": {},
   "source": [
    "The `@reaction` macro provides the same syntax in the `@reaction_network` to build reactions. Note that `@reaction` macro only allows one-way reaction; **reversible arrows are not allowed**."
   ]
  },
  {
   "cell_type": "code",
   "execution_count": null,
   "metadata": {},
   "outputs": [],
   "source": [
    "@variables t\n",
    "@species P₁(t) P₂(t) P₃(t)\n",
    "\n",
    "rxs = [(@reaction hillr($P₃, α, K, n), ∅ --> m₁),\n",
    "    (@reaction hillr($P₁, α, K, n), ∅ --> m₂),\n",
    "    (@reaction hillr($P₂, α, K, n), ∅ --> m₃),\n",
    "    (@reaction δ, m₁ --> ∅),\n",
    "    (@reaction γ, ∅ --> m₁),\n",
    "    (@reaction δ, m₂ --> ∅),\n",
    "    (@reaction γ, ∅ --> m₂),\n",
    "    (@reaction δ, m₃ --> ∅),\n",
    "    (@reaction γ, ∅ --> m₃),\n",
    "    (@reaction β, m₁ --> m₁ + P₁),\n",
    "    (@reaction β, m₂ --> m₂ + P₂),\n",
    "    (@reaction β, m₃ --> m₃ + P₃),\n",
    "    (@reaction μ, P₁ --> ∅),\n",
    "    (@reaction μ, P₂ --> ∅),\n",
    "    (@reaction μ, P₃ --> ∅)]\n",
    "\n",
    "@named repressilator2 = ReactionSystem(rxs, t)"
   ]
  }
 ],
 "metadata": {
  "kernelspec": {
   "display_name": "Julia 1.10.3",
   "language": "julia",
   "name": "julia-1.10"
  },
  "language_info": {
   "file_extension": ".jl",
   "mimetype": "application/julia",
   "name": "julia",
   "version": "1.10.3"
  }
 },
 "nbformat": 4,
 "nbformat_minor": 2
}
