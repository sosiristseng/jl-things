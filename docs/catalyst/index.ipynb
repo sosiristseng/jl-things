{
 "cells": [
  {
   "cell_type": "markdown",
   "metadata": {},
   "source": [
    "# Catalyst\n",
    "\n",
    "Catalyst is a domain specific language (DSL) package for chemical reaction networks. `Catalyst.jl` is based on `ModelingToolkit.jl` for symbolic transformations and model code generation. The generated code can be efficiently solved by `DifferentialEquations.jl`.\n",
    "\n",
    "See also [Catalyst.jl docs](https://docs.sciml.ai/Catalyst/stable/).\n",
    "\n",
    "## Runtime environment"
   ]
  },
  {
   "cell_type": "code",
   "execution_count": null,
   "metadata": {},
   "outputs": [],
   "source": [
    "using Pkg\n",
    "Pkg.status()"
   ]
  },
  {
   "cell_type": "code",
   "execution_count": null,
   "metadata": {},
   "outputs": [],
   "source": [
    "using InteractiveUtils\n",
    "InteractiveUtils.versioninfo()"
   ]
  }
 ],
 "metadata": {
  "kernelspec": {
   "display_name": "Julia 1.10.3",
   "language": "julia",
   "name": "julia-1.10"
  },
  "language_info": {
   "file_extension": ".jl",
   "mimetype": "application/julia",
   "name": "julia",
   "version": "1.10.3"
  }
 },
 "nbformat": 4,
 "nbformat_minor": 2
}
