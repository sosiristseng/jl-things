{
 "cells": [
  {
   "cell_type": "markdown",
   "source": [
    "# Multiple Shooting\n",
    "\n",
    "Docs: https://docs.sciml.ai/DiffEqFlux/dev/examples/multiple_shooting/\n",
    "\n",
    "In Multiple Shooting, the training data is split into overlapping intervals. The solver is then trained on individual intervals.\n",
    "\n",
    "The optimization is achieved by `OptimizationPolyalgorithms.PolyOpt()`."
   ],
   "metadata": {}
  },
  {
   "outputs": [],
   "cell_type": "code",
   "source": [
    "using Lux\n",
    "using ComponentArrays\n",
    "using DiffEqFlux\n",
    "using Optimization\n",
    "using OptimizationPolyalgorithms\n",
    "using OrdinaryDiffEq\n",
    "using DiffEqFlux: group_ranges\n",
    "using Plots\n",
    "using Random\n",
    "PNG(img) = display(\"image/png\", img) ## Force PNG output\n",
    "rng = Random.default_rng()"
   ],
   "metadata": {},
   "execution_count": null
  },
  {
   "cell_type": "markdown",
   "source": [
    "Define initial conditions and time steps"
   ],
   "metadata": {}
  },
  {
   "outputs": [],
   "cell_type": "code",
   "source": [
    "datasize = 30\n",
    "u0 = Float32[2.0, 0.0]\n",
    "tspan = (0.0f0, 5.0f0)\n",
    "tsteps = range(tspan[begin], tspan[end], length = datasize)"
   ],
   "metadata": {},
   "execution_count": null
  },
  {
   "cell_type": "markdown",
   "source": [
    "True values"
   ],
   "metadata": {}
  },
  {
   "outputs": [],
   "cell_type": "code",
   "source": [
    "true_A = Float32[-0.1 2.0; -2.0 -0.1]"
   ],
   "metadata": {},
   "execution_count": null
  },
  {
   "cell_type": "markdown",
   "source": [
    "Generate data from the truth function."
   ],
   "metadata": {}
  },
  {
   "outputs": [],
   "cell_type": "code",
   "source": [
    "function trueODEfunc!(du, u, p, t)\n",
    "    du .= ((u.^3)'true_A)'\n",
    "end\n",
    "\n",
    "prob_trueode = ODEProblem(trueODEfunc!, u0, tspan)\n",
    "ode_data = Array(solve(prob_trueode, Tsit5(), saveat = tsteps))"
   ],
   "metadata": {},
   "execution_count": null
  },
  {
   "cell_type": "markdown",
   "source": [
    "Define the Neural Network"
   ],
   "metadata": {}
  },
  {
   "outputs": [],
   "cell_type": "code",
   "source": [
    "nn = Lux.Chain(\n",
    "    x -> x.^3,\n",
    "    Lux.Dense(2, 16, tanh),\n",
    "    Lux.Dense(16, 2)\n",
    ")\n",
    "p_init, st = Lux.setup(rng, nn)"
   ],
   "metadata": {},
   "execution_count": null
  },
  {
   "cell_type": "markdown",
   "source": [
    "Define a `NeuralODE` problem"
   ],
   "metadata": {}
  },
  {
   "outputs": [],
   "cell_type": "code",
   "source": [
    "neuralode = NeuralODE(nn, tspan, Tsit5(), saveat = tsteps)\n",
    "prob_node = ODEProblem((u,p,t)->nn(u,p,st)[1], u0, tspan, ComponentArray(p_init))"
   ],
   "metadata": {},
   "execution_count": null
  },
  {
   "outputs": [],
   "cell_type": "code",
   "source": [
    "function plot_multiple_shoot(plt, preds, group_size)\n",
    "\tstep = group_size-1\n",
    "\tranges = group_ranges(datasize, group_size)\n",
    "\n",
    "\tfor (i, rg) in enumerate(ranges)\n",
    "\t\tplot!(plt, tsteps[rg], preds[i][1,:], markershape=:circle, label=\"Group $(i)\")\n",
    "\tend\n",
    "end"
   ],
   "metadata": {},
   "execution_count": null
  },
  {
   "cell_type": "markdown",
   "source": [
    "Animate training process by the callback function"
   ],
   "metadata": {}
  },
  {
   "outputs": [],
   "cell_type": "code",
   "source": [
    "anim = Animation()\n",
    "callback = function (p, l, preds; doplot = true)\n",
    "    # display(l)\n",
    "    if doplot\n",
    "        # plot the original data\n",
    "        plt = scatter(tsteps, ode_data[1,:], label = \"Data\")\n",
    "        # plot the different predictions for individual shoot\n",
    "        plot_multiple_shoot(plt, preds, group_size)\n",
    "        frame(anim)\n",
    "        # display(plot(plt))\n",
    "    end\n",
    "    return false\n",
    "end"
   ],
   "metadata": {},
   "execution_count": null
  },
  {
   "cell_type": "markdown",
   "source": [
    "Define parameters for Multiple Shooting"
   ],
   "metadata": {}
  },
  {
   "outputs": [],
   "cell_type": "code",
   "source": [
    "group_size = 3\n",
    "continuity_term = 200\n",
    "\n",
    "function loss_function(data, pred)\n",
    "\treturn sum(abs2, data - pred)\n",
    "end\n",
    "\n",
    "function loss_multiple_shooting(p)\n",
    "    return multiple_shoot(p, ode_data, tsteps, prob_node, loss_function, Tsit5(), group_size; continuity_term)\n",
    "end"
   ],
   "metadata": {},
   "execution_count": null
  },
  {
   "cell_type": "markdown",
   "source": [
    "Solve the problem"
   ],
   "metadata": {}
  },
  {
   "outputs": [],
   "cell_type": "code",
   "source": [
    "adtype = Optimization.AutoZygote()\n",
    "optf = Optimization.OptimizationFunction((x,p) -> loss_multiple_shooting(x), adtype)\n",
    "optprob = Optimization.OptimizationProblem(optf, ComponentArray(p_init))\n",
    "res_ms = Optimization.solve(optprob, PolyOpt(), callback = callback)"
   ],
   "metadata": {},
   "execution_count": null
  },
  {
   "cell_type": "markdown",
   "source": [
    "Visualize the fitting processes"
   ],
   "metadata": {}
  },
  {
   "outputs": [],
   "cell_type": "code",
   "source": [
    "mp4(anim, fps=15)"
   ],
   "metadata": {},
   "execution_count": null
  },
  {
   "cell_type": "markdown",
   "source": [
    "---\n",
    "\n",
    "*This notebook was generated using [Literate.jl](https://github.com/fredrikekre/Literate.jl).*"
   ],
   "metadata": {}
  }
 ],
 "nbformat_minor": 3,
 "metadata": {
  "language_info": {
   "file_extension": ".jl",
   "mimetype": "application/julia",
   "name": "julia",
   "version": "1.10.0"
  },
  "kernelspec": {
   "name": "julia-1.10",
   "display_name": "Julia 1.10.0",
   "language": "julia"
  }
 },
 "nbformat": 4
}
