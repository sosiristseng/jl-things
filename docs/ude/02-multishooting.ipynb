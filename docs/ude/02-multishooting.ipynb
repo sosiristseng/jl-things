{
 "cells": [
  {
   "cell_type": "markdown",
   "metadata": {},
   "source": [
    "# Multiple Shooting\n",
    "\n",
    "Docs: https://docs.sciml.ai/DiffEqFlux/dev/examples/multiple_shooting/\n",
    "\n",
    "In Multiple Shooting, the training data is split into overlapping intervals. The solver is then trained on individual intervals.\n",
    "\n",
    "The optimization is achieved by `OptimizationPolyalgorithms.PolyOpt()`."
   ]
  },
  {
   "cell_type": "code",
   "execution_count": null,
   "metadata": {},
   "outputs": [],
   "source": [
    "using Lux\n",
    "using ComponentArrays\n",
    "using DiffEqFlux\n",
    "using Optimization\n",
    "using OptimizationPolyalgorithms\n",
    "using OrdinaryDiffEq\n",
    "using DiffEqFlux: group_ranges\n",
    "using Plots\n",
    "using Random\n",
    "rng = Random.default_rng()"
   ]
  },
  {
   "cell_type": "markdown",
   "metadata": {},
   "source": [
    "Define initial conditions and time steps"
   ]
  },
  {
   "cell_type": "code",
   "execution_count": null,
   "metadata": {},
   "outputs": [],
   "source": [
    "datasize = 30\n",
    "u0 = Float32[2.0, 0.0]\n",
    "tspan = (0.0f0, 5.0f0)\n",
    "tsteps = range(tspan[begin], tspan[end], length = datasize)"
   ]
  },
  {
   "cell_type": "markdown",
   "metadata": {},
   "source": [
    "True values"
   ]
  },
  {
   "cell_type": "code",
   "execution_count": null,
   "metadata": {},
   "outputs": [],
   "source": [
    "true_A = Float32[-0.1 2.0; -2.0 -0.1]"
   ]
  },
  {
   "cell_type": "markdown",
   "metadata": {},
   "source": [
    "Generate data from the truth function."
   ]
  },
  {
   "cell_type": "code",
   "execution_count": null,
   "metadata": {},
   "outputs": [],
   "source": [
    "function trueODEfunc!(du, u, p, t)\n",
    "    du .= ((u.^3)'true_A)'\n",
    "end\n",
    "\n",
    "prob_trueode = ODEProblem(trueODEfunc!, u0, tspan)\n",
    "ode_data = Array(solve(prob_trueode, Tsit5(), saveat = tsteps))"
   ]
  },
  {
   "cell_type": "markdown",
   "metadata": {},
   "source": [
    "Define the Neural Network"
   ]
  },
  {
   "cell_type": "code",
   "execution_count": null,
   "metadata": {},
   "outputs": [],
   "source": [
    "nn = Lux.Chain(\n",
    "    x -> x.^3,\n",
    "    Lux.Dense(2, 16, tanh),\n",
    "    Lux.Dense(16, 2)\n",
    ")\n",
    "p_init, st = Lux.setup(rng, nn)"
   ]
  },
  {
   "cell_type": "markdown",
   "metadata": {},
   "source": [
    "Define the `NeuralODE` problem"
   ]
  },
  {
   "cell_type": "code",
   "execution_count": null,
   "metadata": {},
   "outputs": [],
   "source": [
    "neuralode = NeuralODE(nn, tspan, Tsit5(), saveat = tsteps)\n",
    "prob_node = ODEProblem((u,p,t)->nn(u,p,st)[1], u0, tspan, ComponentArray(p_init))"
   ]
  },
  {
   "cell_type": "code",
   "execution_count": null,
   "metadata": {},
   "outputs": [],
   "source": [
    "function plot_multiple_shoot(plt, preds, group_size)\n",
    "\tstep = group_size-1\n",
    "\tranges = group_ranges(datasize, group_size)\n",
    "\n",
    "\tfor (i, rg) in enumerate(ranges)\n",
    "\t\tplot!(plt, tsteps[rg], preds[i][1,:], markershape=:circle, label=\"Group $(i)\")\n",
    "\tend\n",
    "end"
   ]
  },
  {
   "cell_type": "markdown",
   "metadata": {},
   "source": [
    "Animate training process by the callback function"
   ]
  },
  {
   "cell_type": "code",
   "execution_count": null,
   "metadata": {},
   "outputs": [],
   "source": [
    "anim = Animation()\n",
    "callback = function (p, l, preds; doplot = true)\n",
    "    # display(l)\n",
    "    if doplot\n",
    "        # plot the original data\n",
    "        plt = scatter(tsteps, ode_data[1,:], label = \"Data\")\n",
    "        # plot the different predictions for individual shoot\n",
    "        plot_multiple_shoot(plt, preds, group_size)\n",
    "        frame(anim)\n",
    "        # display(plot(plt))\n",
    "    end\n",
    "    return false\n",
    "end"
   ]
  },
  {
   "cell_type": "markdown",
   "metadata": {},
   "source": [
    "Define parameters for Multiple Shooting"
   ]
  },
  {
   "cell_type": "code",
   "execution_count": null,
   "metadata": {},
   "outputs": [],
   "source": [
    "group_size = 3\n",
    "continuity_term = 200\n",
    "\n",
    "function loss_function(data, pred)\n",
    "\treturn sum(abs2, data - pred)\n",
    "end\n",
    "\n",
    "ps = ComponentArray(p_init)\n",
    "pd, pax = getdata(ps), getaxes(ps)\n",
    "\n",
    "function loss_multiple_shooting(p)\n",
    "    ps = ComponentArray(p, pax)\n",
    "    return multiple_shoot(ps, ode_data, tsteps, prob_node, loss_function, Tsit5(), group_size; continuity_term)\n",
    "end"
   ]
  },
  {
   "cell_type": "markdown",
   "metadata": {},
   "source": [
    "Solve the problem"
   ]
  },
  {
   "cell_type": "code",
   "execution_count": null,
   "metadata": {},
   "outputs": [],
   "source": [
    "adtype = Optimization.AutoForwardDiff()\n",
    "optf = Optimization.OptimizationFunction((x,p) -> loss_multiple_shooting(x), adtype)\n",
    "optprob = Optimization.OptimizationProblem(optf, pd)"
   ]
  },
  {
   "cell_type": "code",
   "execution_count": null,
   "metadata": {},
   "outputs": [],
   "source": [
    "res_ms = Optimization.solve(optprob, PolyOpt(), callback = callback)"
   ]
  },
  {
   "cell_type": "markdown",
   "metadata": {},
   "source": [
    "Visualize the fitting processes"
   ]
  },
  {
   "cell_type": "code",
   "execution_count": null,
   "metadata": {},
   "outputs": [],
   "source": [
    "mp4(anim, fps=15)"
   ]
  }
 ],
 "metadata": {
  "kernelspec": {
   "display_name": "Julia 1.10.2",
   "language": "julia",
   "name": "julia-1.10"
  },
  "language_info": {
   "file_extension": ".jl",
   "mimetype": "application/julia",
   "name": "julia",
   "version": "1.10.2"
  }
 },
 "nbformat": 4,
 "nbformat_minor": 3
}
