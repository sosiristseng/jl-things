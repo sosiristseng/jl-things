{
 "cells": [
  {
   "cell_type": "markdown",
   "source": [
    "# First Neural ODE example\n",
    "\n",
    "A neural ODE is an ODE where a neural network defines its derivative function. $\\dot{u} = NN(u)$\n",
    "\n",
    "From: https://docs.sciml.ai/DiffEqFlux/stable/examples/neural_ode/"
   ],
   "metadata": {}
  },
  {
   "outputs": [],
   "cell_type": "code",
   "source": [
    "using Lux, DiffEqFlux, DifferentialEquations, ComponentArrays\n",
    "using Optimization, OptimizationOptimJL, OptimizationOptimisers\n",
    "using Random, Plots\n",
    "PNG(img) = display(\"image/png\", img) ## Force PNG output\n",
    "rng = Random.default_rng()"
   ],
   "metadata": {},
   "execution_count": null
  },
  {
   "cell_type": "markdown",
   "source": [
    "True solution"
   ],
   "metadata": {}
  },
  {
   "outputs": [],
   "cell_type": "code",
   "source": [
    "function trueODEfunc(du, u, p, t)\n",
    "    true_A = [-0.1 2.0; -2.0 -0.1]\n",
    "    du .= ((u.^3)'true_A)'\n",
    "end"
   ],
   "metadata": {},
   "execution_count": null
  },
  {
   "cell_type": "markdown",
   "source": [
    "The data used for training"
   ],
   "metadata": {}
  },
  {
   "outputs": [],
   "cell_type": "code",
   "source": [
    "u0 = Float32[2.0; 0.0]\n",
    "datasize = 30\n",
    "tspan = (0.0f0, 1.5f0)\n",
    "tsteps = range(tspan[begin], tspan[end], length = datasize)\n",
    "prob_trueode = ODEProblem(trueODEfunc, u0, tspan)\n",
    "ode_data = Array(solve(prob_trueode, Tsit5(), saveat = tsteps))"
   ],
   "metadata": {},
   "execution_count": null
  },
  {
   "cell_type": "markdown",
   "source": [
    "Make a `NeuralODE` problem with a neural network defined by `Lux.jl`."
   ],
   "metadata": {}
  },
  {
   "outputs": [],
   "cell_type": "code",
   "source": [
    "dudt2 = Lux.Chain(\n",
    "    x -> x.^3,\n",
    "    Lux.Dense(2, 50, tanh),\n",
    "    Lux.Dense(50, 2)\n",
    ")\n",
    "\n",
    "p, st = Lux.setup(rng, dudt2)\n",
    "prob_neuralode = NeuralODE(dudt2, tspan, Tsit5(), saveat = tsteps)"
   ],
   "metadata": {},
   "execution_count": null
  },
  {
   "cell_type": "markdown",
   "source": [
    "Define output, loss, and callback functions."
   ],
   "metadata": {}
  },
  {
   "outputs": [],
   "cell_type": "code",
   "source": [
    "function predict_neuralode(p)\n",
    "    Array(prob_neuralode(u0, p, st)[1])\n",
    "  end\n",
    "\n",
    "function loss_neuralode(p)\n",
    "    pred = predict_neuralode(p)\n",
    "    loss = sum(abs2, ode_data .- pred)\n",
    "    return loss, pred\n",
    "end"
   ],
   "metadata": {},
   "execution_count": null
  },
  {
   "cell_type": "markdown",
   "source": [
    "Do not plot by default. Users could change doplot=true to see the plots callbacks"
   ],
   "metadata": {}
  },
  {
   "outputs": [],
   "cell_type": "code",
   "source": [
    "callback = function (p, l, pred; doplot = false)\n",
    "  println(l)\n",
    "  # plot current prediction against data\n",
    "  if doplot\n",
    "    plt = scatter(tsteps, ode_data[1,:], label = \"data\")\n",
    "    scatter!(plt, tsteps, pred[1,:], label = \"prediction\")\n",
    "    PNG(plot(plt))\n",
    "  end\n",
    "  return false\n",
    "end"
   ],
   "metadata": {},
   "execution_count": null
  },
  {
   "cell_type": "markdown",
   "source": [
    "Try the callback function on the first iteration."
   ],
   "metadata": {}
  },
  {
   "outputs": [],
   "cell_type": "code",
   "source": [
    "pinit = ComponentArray(p)\n",
    "callback(pinit, loss_neuralode(pinit)...; doplot=true)"
   ],
   "metadata": {},
   "execution_count": null
  },
  {
   "cell_type": "markdown",
   "source": [
    "Use Optimization.jl to solve the problem.\n",
    "- `Zygote` for automatic differentiation (AD)\n",
    "- `loss_neuralode` as the function to be optimized\n",
    "- Make an `OptimizationProblem`"
   ],
   "metadata": {}
  },
  {
   "outputs": [],
   "cell_type": "code",
   "source": [
    "adtype = Optimization.AutoZygote()\n",
    "optf = Optimization.OptimizationFunction((x, p) -> loss_neuralode(x), adtype)\n",
    "optprob = Optimization.OptimizationProblem(optf, pinit)"
   ],
   "metadata": {},
   "execution_count": null
  },
  {
   "cell_type": "markdown",
   "source": [
    "Solve the `OptimizationProblem`."
   ],
   "metadata": {}
  },
  {
   "outputs": [],
   "cell_type": "code",
   "source": [
    "result_neuralode = Optimization.solve(\n",
    "    optprob,\n",
    "    OptimizationOptimisers.ADAM(0.05),\n",
    "    callback = callback,\n",
    "    maxiters = 300\n",
    ")"
   ],
   "metadata": {},
   "execution_count": null
  },
  {
   "cell_type": "markdown",
   "source": [
    "Use another optimization algorithm `Optim.BFGS()` and start from where the `ADAM()` algorithm stopped."
   ],
   "metadata": {}
  },
  {
   "outputs": [],
   "cell_type": "code",
   "source": [
    "optprob2 = remake(optprob, u0 = result_neuralode.u)\n",
    "\n",
    "result_neuralode2 = Optimization.solve(\n",
    "    optprob2,\n",
    "    Optim.BFGS(initial_stepnorm=0.01),\n",
    "    callback=callback,\n",
    "    allow_f_increases = false\n",
    ")"
   ],
   "metadata": {},
   "execution_count": null
  },
  {
   "cell_type": "markdown",
   "source": [
    "Plot the solution to see if it matches the provided data."
   ],
   "metadata": {}
  },
  {
   "outputs": [],
   "cell_type": "code",
   "source": [
    "callback(result_neuralode2.u, loss_neuralode(result_neuralode2.u)...; doplot=true)"
   ],
   "metadata": {},
   "execution_count": null
  },
  {
   "cell_type": "markdown",
   "source": [
    "## Animated solving process\n",
    "Let's reset the problem and visualize the training process."
   ],
   "metadata": {}
  },
  {
   "outputs": [],
   "cell_type": "code",
   "source": [
    "rng = Random.default_rng()\n",
    "u0 = Float32[2.0; 0.0]\n",
    "datasize = 30\n",
    "tspan = (0.0f0, 1.5f0)\n",
    "tsteps = range(tspan[begin], tspan[end], length = datasize)"
   ],
   "metadata": {},
   "execution_count": null
  },
  {
   "cell_type": "markdown",
   "source": [
    "Setup truth values for validation"
   ],
   "metadata": {}
  },
  {
   "outputs": [],
   "cell_type": "code",
   "source": [
    "true_A = Float32[-0.1 2.0; -2.0 -0.1]\n",
    "\n",
    "function trueODEfunc!(du, u, p, t)\n",
    "    du .= ((u.^3)'true_A)'\n",
    "end"
   ],
   "metadata": {},
   "execution_count": null
  },
  {
   "outputs": [],
   "cell_type": "code",
   "source": [
    "prob_trueode = ODEProblem(trueODEfunc!, u0, tspan)\n",
    "ode_data = Array(solve(prob_trueode, Tsit5(), saveat = tsteps))"
   ],
   "metadata": {},
   "execution_count": null
  },
  {
   "outputs": [],
   "cell_type": "code",
   "source": [
    "nodeFunc = Lux.Chain(\n",
    "    x -> x.^3,\n",
    "    Lux.Dense(2, 50, tanh),\n",
    "    Lux.Dense(50, 2)\n",
    ")\n",
    "\n",
    "p, st = Lux.setup(rng, nodeFunc)"
   ],
   "metadata": {},
   "execution_count": null
  },
  {
   "cell_type": "markdown",
   "source": [
    "Parameters in the neural network:"
   ],
   "metadata": {}
  },
  {
   "outputs": [],
   "cell_type": "code",
   "source": [
    "p"
   ],
   "metadata": {},
   "execution_count": null
  },
  {
   "cell_type": "markdown",
   "source": [
    "Use `NeuroODE()` to construct the problem"
   ],
   "metadata": {}
  },
  {
   "outputs": [],
   "cell_type": "code",
   "source": [
    "prob_node = NeuralODE(nodeFunc, tspan, Tsit5(), saveat = tsteps)"
   ],
   "metadata": {},
   "execution_count": null
  },
  {
   "cell_type": "markdown",
   "source": [
    "Predicted values."
   ],
   "metadata": {}
  },
  {
   "outputs": [],
   "cell_type": "code",
   "source": [
    "function predict_neuralode(p)\n",
    "    Array(prob_node(u0, p, st)[1])\n",
    "end"
   ],
   "metadata": {},
   "execution_count": null
  },
  {
   "cell_type": "markdown",
   "source": [
    "The loss function."
   ],
   "metadata": {}
  },
  {
   "outputs": [],
   "cell_type": "code",
   "source": [
    "function loss_neuralode(p)\n",
    "    pred = predict_neuralode(p)\n",
    "    loss = sum(abs2, ode_data .- pred)\n",
    "    return loss, pred\n",
    "end"
   ],
   "metadata": {},
   "execution_count": null
  },
  {
   "cell_type": "markdown",
   "source": [
    "Callback function to observe training process"
   ],
   "metadata": {}
  },
  {
   "outputs": [],
   "cell_type": "code",
   "source": [
    "anim = Animation()\n",
    "callback = function (p, l, pred; doplot = true)\n",
    "    # display(l)\n",
    "    if doplot\n",
    "        plt = scatter(tsteps, ode_data[1,:], label = \"data\")\n",
    "        scatter!(plt, tsteps, pred[1,:], label = \"prediction\")\n",
    "        frame(anim)\n",
    "        # display(plot(plt))\n",
    "    end\n",
    "    return false\n",
    "end"
   ],
   "metadata": {},
   "execution_count": null
  },
  {
   "outputs": [],
   "cell_type": "code",
   "source": [
    "adtype = Optimization.AutoZygote()\n",
    "optf = Optimization.OptimizationFunction((x, p) -> loss_neuralode(x), adtype)\n",
    "optprob = Optimization.OptimizationProblem(optf, ComponentArray(p))"
   ],
   "metadata": {},
   "execution_count": null
  },
  {
   "cell_type": "markdown",
   "source": [
    "Solve the problem using the ADAM optimizer"
   ],
   "metadata": {}
  },
  {
   "outputs": [],
   "cell_type": "code",
   "source": [
    "result_neuralode = Optimization.solve(\n",
    "    optprob,\n",
    "    OptimizationOptimisers.ADAM(0.05),\n",
    "    callback = callback,\n",
    "    maxiters = 300\n",
    ")"
   ],
   "metadata": {},
   "execution_count": null
  },
  {
   "cell_type": "markdown",
   "source": [
    "And then solve the problem using the LBFGS optimizer"
   ],
   "metadata": {}
  },
  {
   "outputs": [],
   "cell_type": "code",
   "source": [
    "optprob2 = remake(optprob, u0 = result_neuralode.u)\n",
    "\n",
    "result_neuralode2 = Optimization.solve(\n",
    "    optprob2,\n",
    "    Optim.LBFGS(),\n",
    "    callback = callback,\n",
    "    allow_f_increases = false\n",
    ")"
   ],
   "metadata": {},
   "execution_count": null
  },
  {
   "cell_type": "markdown",
   "source": [
    "Visualize fitting process"
   ],
   "metadata": {}
  },
  {
   "outputs": [],
   "cell_type": "code",
   "source": [
    "mp4(anim, fps=15)"
   ],
   "metadata": {},
   "execution_count": null
  },
  {
   "cell_type": "markdown",
   "source": [
    "---\n",
    "\n",
    "*This notebook was generated using [Literate.jl](https://github.com/fredrikekre/Literate.jl).*"
   ],
   "metadata": {}
  }
 ],
 "nbformat_minor": 3,
 "metadata": {
  "language_info": {
   "file_extension": ".jl",
   "mimetype": "application/julia",
   "name": "julia",
   "version": "1.10.0"
  },
  "kernelspec": {
   "name": "julia-1.10",
   "display_name": "Julia 1.10.0",
   "language": "julia"
  }
 },
 "nbformat": 4
}
