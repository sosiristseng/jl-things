{
 "cells": [
  {
   "cell_type": "markdown",
   "metadata": {},
   "source": [
    "# First Neural ODE example\n",
    "\n",
    "A neural ODE is an ODE where a neural network defines its derivative function. $\\dot{u} = NN(u)$\n",
    "\n",
    "From: https://docs.sciml.ai/DiffEqFlux/stable/examples/neural_ode/"
   ]
  },
  {
   "cell_type": "code",
   "execution_count": null,
   "metadata": {},
   "outputs": [],
   "source": [
    "using Lux, DiffEqFlux, DifferentialEquations, ComponentArrays\n",
    "using Optimization, OptimizationOptimJL, OptimizationOptimisers\n",
    "using Random, Plots\n",
    "\n",
    "rng = Random.default_rng()"
   ]
  },
  {
   "cell_type": "markdown",
   "metadata": {},
   "source": [
    "True solution"
   ]
  },
  {
   "cell_type": "code",
   "execution_count": null,
   "metadata": {},
   "outputs": [],
   "source": [
    "function trueODEfunc(du, u, p, t)\n",
    "    true_A = [-0.1 2.0; -2.0 -0.1]\n",
    "    du .= ((u.^3)'true_A)'\n",
    "end"
   ]
  },
  {
   "cell_type": "markdown",
   "metadata": {},
   "source": [
    "The data used for training"
   ]
  },
  {
   "cell_type": "code",
   "execution_count": null,
   "metadata": {},
   "outputs": [],
   "source": [
    "u0 = Float32[2.0; 0.0]\n",
    "datasize = 30\n",
    "tspan = (0.0f0, 1.5f0)\n",
    "tsteps = range(tspan[begin], tspan[end], length = datasize)\n",
    "prob_trueode = ODEProblem(trueODEfunc, u0, tspan)\n",
    "ode_data = Array(solve(prob_trueode, Tsit5(), saveat = tsteps))"
   ]
  },
  {
   "cell_type": "markdown",
   "metadata": {},
   "source": [
    "Make a `NeuralODE` problem with a neural network defined by `Lux.jl`."
   ]
  },
  {
   "cell_type": "code",
   "execution_count": null,
   "metadata": {},
   "outputs": [],
   "source": [
    "dudt2 = Lux.Chain(\n",
    "    x -> x.^3,\n",
    "    Lux.Dense(2, 50, tanh),\n",
    "    Lux.Dense(50, 2)\n",
    ")\n",
    "\n",
    "p, st = Lux.setup(rng, dudt2)\n",
    "prob_neuralode = NeuralODE(dudt2, tspan, Tsit5(), saveat = tsteps)"
   ]
  },
  {
   "cell_type": "markdown",
   "metadata": {},
   "source": [
    "Define output, loss, and callback functions."
   ]
  },
  {
   "cell_type": "code",
   "execution_count": null,
   "metadata": {},
   "outputs": [],
   "source": [
    "function predict_neuralode(p)\n",
    "    Array(prob_neuralode(u0, p, st)[1])\n",
    "  end\n",
    "\n",
    "function loss_neuralode(p)\n",
    "    pred = predict_neuralode(p)\n",
    "    loss = sum(abs2, ode_data .- pred)\n",
    "    return loss, pred\n",
    "end"
   ]
  },
  {
   "cell_type": "markdown",
   "metadata": {},
   "source": [
    "Do not generate plots by default. Users could change doplot=true to see the figures in the callback fuction."
   ]
  },
  {
   "cell_type": "code",
   "execution_count": null,
   "metadata": {},
   "outputs": [],
   "source": [
    "callback = function (p, l, pred; doplot = false)\n",
    "    println(l)\n",
    "    # plot current prediction against data\n",
    "    if doplot\n",
    "      plt = scatter(tsteps, ode_data[1,:], label = \"data\")\n",
    "      scatter!(plt, tsteps, pred[1,:], label = \"prediction\")\n",
    "      plot(plt)\n",
    "    end\n",
    "    return false\n",
    "end"
   ]
  },
  {
   "cell_type": "markdown",
   "metadata": {},
   "source": [
    "Try the callback function on the first iteration."
   ]
  },
  {
   "cell_type": "code",
   "execution_count": null,
   "metadata": {},
   "outputs": [],
   "source": [
    "pinit = ComponentArray(p)\n",
    "callback(pinit, loss_neuralode(pinit)...; doplot=true)"
   ]
  },
  {
   "cell_type": "markdown",
   "metadata": {},
   "source": [
    "Use Optimization.jl to solve the problem.\n",
    "- `Zygote` for automatic differentiation (AD)\n",
    "- `loss_neuralode` as the function to be optimized\n",
    "- Make an `OptimizationProblem`"
   ]
  },
  {
   "cell_type": "code",
   "execution_count": null,
   "metadata": {},
   "outputs": [],
   "source": [
    "adtype = Optimization.AutoZygote()\n",
    "optf = Optimization.OptimizationFunction((x, p) -> loss_neuralode(x), adtype)\n",
    "optprob = Optimization.OptimizationProblem(optf, pinit)"
   ]
  },
  {
   "cell_type": "markdown",
   "metadata": {},
   "source": [
    "Solve the `OptimizationProblem`."
   ]
  },
  {
   "cell_type": "code",
   "execution_count": null,
   "metadata": {},
   "outputs": [],
   "source": [
    "result_neuralode = Optimization.solve(\n",
    "    optprob,\n",
    "    OptimizationOptimisers.ADAM(0.05),\n",
    "    callback = callback,\n",
    "    maxiters = 300\n",
    ")"
   ]
  },
  {
   "cell_type": "markdown",
   "metadata": {},
   "source": [
    "Use another optimization algorithm `Optim.BFGS()` and start from where the `ADAM()` algorithm stopped."
   ]
  },
  {
   "cell_type": "code",
   "execution_count": null,
   "metadata": {},
   "outputs": [],
   "source": [
    "optprob2 = remake(optprob, u0 = result_neuralode.u)\n",
    "\n",
    "result_neuralode2 = Optimization.solve(\n",
    "    optprob2,\n",
    "    Optim.BFGS(initial_stepnorm=0.01),\n",
    "    callback=callback,\n",
    "    allow_f_increases = false\n",
    ")"
   ]
  },
  {
   "cell_type": "markdown",
   "metadata": {},
   "source": [
    "Plot the solution to see if it matches the provided data."
   ]
  },
  {
   "cell_type": "code",
   "execution_count": null,
   "metadata": {},
   "outputs": [],
   "source": [
    "callback(result_neuralode2.u, loss_neuralode(result_neuralode2.u)...; doplot=true)"
   ]
  },
  {
   "cell_type": "markdown",
   "metadata": {},
   "source": [
    "## Animated solving process\n",
    "Let's reset the problem and visualize the training process."
   ]
  },
  {
   "cell_type": "code",
   "execution_count": null,
   "metadata": {},
   "outputs": [],
   "source": [
    "rng = Random.default_rng()\n",
    "u0 = Float32[2.0; 0.0]\n",
    "datasize = 30\n",
    "tspan = (0.0f0, 1.5f0)\n",
    "tsteps = range(tspan[begin], tspan[end], length = datasize)"
   ]
  },
  {
   "cell_type": "markdown",
   "metadata": {},
   "source": [
    "Setup truth values for validation"
   ]
  },
  {
   "cell_type": "code",
   "execution_count": null,
   "metadata": {},
   "outputs": [],
   "source": [
    "true_A = Float32[-0.1 2.0; -2.0 -0.1]\n",
    "\n",
    "function trueODEfunc!(du, u, p, t)\n",
    "    du .= ((u.^3)'true_A)'\n",
    "end"
   ]
  },
  {
   "cell_type": "code",
   "execution_count": null,
   "metadata": {},
   "outputs": [],
   "source": [
    "prob_trueode = ODEProblem(trueODEfunc!, u0, tspan)\n",
    "ode_data = Array(solve(prob_trueode, Tsit5(), saveat = tsteps))"
   ]
  },
  {
   "cell_type": "code",
   "execution_count": null,
   "metadata": {},
   "outputs": [],
   "source": [
    "nodeFunc = Lux.Chain(\n",
    "    x -> x.^3,\n",
    "    Lux.Dense(2, 50, tanh),\n",
    "    Lux.Dense(50, 2)\n",
    ")\n",
    "\n",
    "p, st = Lux.setup(rng, nodeFunc)"
   ]
  },
  {
   "cell_type": "markdown",
   "metadata": {},
   "source": [
    "Parameters in the neural network:"
   ]
  },
  {
   "cell_type": "code",
   "execution_count": null,
   "metadata": {},
   "outputs": [],
   "source": [
    "p"
   ]
  },
  {
   "cell_type": "markdown",
   "metadata": {},
   "source": [
    "Use `NeuroODE()` to construct the problem"
   ]
  },
  {
   "cell_type": "code",
   "execution_count": null,
   "metadata": {},
   "outputs": [],
   "source": [
    "prob_node = NeuralODE(nodeFunc, tspan, Tsit5(), saveat = tsteps)"
   ]
  },
  {
   "cell_type": "markdown",
   "metadata": {},
   "source": [
    "Predicted values."
   ]
  },
  {
   "cell_type": "code",
   "execution_count": null,
   "metadata": {},
   "outputs": [],
   "source": [
    "function predict_neuralode(p)\n",
    "    Array(prob_node(u0, p, st)[1])\n",
    "end"
   ]
  },
  {
   "cell_type": "markdown",
   "metadata": {},
   "source": [
    "The loss function."
   ]
  },
  {
   "cell_type": "code",
   "execution_count": null,
   "metadata": {},
   "outputs": [],
   "source": [
    "function loss_neuralode(p)\n",
    "    pred = predict_neuralode(p)\n",
    "    loss = sum(abs2, ode_data .- pred)\n",
    "    return loss, pred\n",
    "end"
   ]
  },
  {
   "cell_type": "markdown",
   "metadata": {},
   "source": [
    "Callback function to observe training process"
   ]
  },
  {
   "cell_type": "code",
   "execution_count": null,
   "metadata": {},
   "outputs": [],
   "source": [
    "anim = Animation()\n",
    "callback = function (p, l, pred; doplot = true)\n",
    "    if doplot\n",
    "        plt = scatter(tsteps, ode_data[1,:], label = \"data\")\n",
    "        scatter!(plt, tsteps, pred[1,:], label = \"prediction\")\n",
    "        frame(anim)\n",
    "    end\n",
    "    return false\n",
    "end"
   ]
  },
  {
   "cell_type": "code",
   "execution_count": null,
   "metadata": {},
   "outputs": [],
   "source": [
    "adtype = Optimization.AutoZygote()\n",
    "optf = Optimization.OptimizationFunction((x, p) -> loss_neuralode(x), adtype)\n",
    "optprob = Optimization.OptimizationProblem(optf, ComponentArray(p))"
   ]
  },
  {
   "cell_type": "markdown",
   "metadata": {},
   "source": [
    "Solve the problem using the ADAM optimizer"
   ]
  },
  {
   "cell_type": "code",
   "execution_count": null,
   "metadata": {},
   "outputs": [],
   "source": [
    "result_neuralode = Optimization.solve(\n",
    "    optprob,\n",
    "    OptimizationOptimisers.ADAM(0.05),\n",
    "    callback = callback,\n",
    "    maxiters = 300\n",
    ")"
   ]
  },
  {
   "cell_type": "markdown",
   "metadata": {},
   "source": [
    "And then solve the problem using the LBFGS optimizer"
   ]
  },
  {
   "cell_type": "code",
   "execution_count": null,
   "metadata": {},
   "outputs": [],
   "source": [
    "optprob2 = remake(optprob, u0 = result_neuralode.u)\n",
    "\n",
    "result_neuralode2 = Optimization.solve(\n",
    "    optprob2,\n",
    "    Optim.LBFGS(),\n",
    "    callback = callback,\n",
    "    allow_f_increases = false\n",
    ")"
   ]
  },
  {
   "cell_type": "markdown",
   "metadata": {},
   "source": [
    "Visualize fitting process"
   ]
  },
  {
   "cell_type": "code",
   "execution_count": null,
   "metadata": {},
   "outputs": [],
   "source": [
    "mp4(anim, fps=15)"
   ]
  }
 ],
 "metadata": {
  "kernelspec": {
   "display_name": "Julia 1.10.2",
   "language": "julia",
   "name": "julia-1.10"
  },
  "language_info": {
   "file_extension": ".jl",
   "mimetype": "application/julia",
   "name": "julia",
   "version": "1.10.2"
  }
 },
 "nbformat": 4,
 "nbformat_minor": 3
}
