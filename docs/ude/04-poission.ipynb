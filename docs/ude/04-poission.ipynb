{
 "cells": [
  {
   "cell_type": "markdown",
   "metadata": {},
   "source": [
    "# Solving PDE with ModelingToolkit and NeuralPDE\n",
    "\n",
    "Solving Poisson PDE Systems\n",
    "\n",
    "$$\n",
    "\\partial^{2}_{x}u(x,y) + \\partial^{2}_{y}u(x,y) = -\\sin (\\pi x) \\sin (\\pi y)\n",
    "$$\n",
    "\n",
    "with boundary conditions\n",
    "\n",
    "$$\n",
    "\\begin{align}\n",
    "u(0, y) &= 0 \\\\\n",
    "u(1, y) &= 0 \\\\\n",
    "u(x, 0) &= 0 \\\\\n",
    "u(x, 1) &= 0 \\\\\n",
    "\\end{align}\n",
    "$$\n",
    "\n",
    "where\n",
    "\n",
    "$x ∈ [0, 1], y ∈ [0, 1]$"
   ]
  },
  {
   "cell_type": "code",
   "execution_count": null,
   "metadata": {},
   "outputs": [],
   "source": [
    "using NeuralPDE\n",
    "using Lux\n",
    "using Plots\n",
    "using Optimization\n",
    "using OptimizationOptimJL\n",
    "using ModelingToolkit\n",
    "import ModelingToolkit: Interval\n",
    "Plots.default(fmt=:png)"
   ]
  },
  {
   "cell_type": "code",
   "execution_count": null,
   "metadata": {},
   "outputs": [],
   "source": [
    "@variables x y u(..)\n",
    "Dxx = Differential(x)^2\n",
    "Dyy = Differential(y)^2"
   ]
  },
  {
   "cell_type": "markdown",
   "metadata": {},
   "source": [
    "2D PDE equations"
   ]
  },
  {
   "cell_type": "code",
   "execution_count": null,
   "metadata": {},
   "outputs": [],
   "source": [
    "eq  = Dxx(u(x, y)) + Dyy(u(x, y)) ~ -sinpi(x) * sinpi(y)"
   ]
  },
  {
   "cell_type": "markdown",
   "metadata": {},
   "source": [
    "Boundary conditions"
   ]
  },
  {
   "cell_type": "code",
   "execution_count": null,
   "metadata": {},
   "outputs": [],
   "source": [
    "bcs = [\n",
    "    u(0, y) ~ 0.0, u(1, y) ~ 0.0,\n",
    "    u(x, 0) ~ 0.0, u(x, 1) ~ 0.0\n",
    "]"
   ]
  },
  {
   "cell_type": "markdown",
   "metadata": {},
   "source": [
    "Space domains"
   ]
  },
  {
   "cell_type": "code",
   "execution_count": null,
   "metadata": {},
   "outputs": [],
   "source": [
    "domains = [\n",
    "    x ∈ Interval(0.0, 1.0),\n",
    "    y ∈ Interval(0.0, 1.0)\n",
    "]"
   ]
  },
  {
   "cell_type": "markdown",
   "metadata": {},
   "source": [
    "Build a neural network for the PDE solver."
   ]
  },
  {
   "cell_type": "code",
   "execution_count": null,
   "metadata": {},
   "outputs": [],
   "source": [
    "dim = 2\n",
    "chain = Lux.Chain(Dense(dim, 16, Lux.σ), Dense(16, 16, Lux.σ), Dense(16, 1))"
   ]
  },
  {
   "cell_type": "markdown",
   "metadata": {},
   "source": [
    "Discretization method: `PhysicsInformedNN()` (PINN)."
   ]
  },
  {
   "cell_type": "code",
   "execution_count": null,
   "metadata": {},
   "outputs": [],
   "source": [
    "dx = 0.05\n",
    "discretization = PhysicsInformedNN(chain, GridTraining(dx))"
   ]
  },
  {
   "cell_type": "markdown",
   "metadata": {},
   "source": [
    "Next we build our PDE system and discretize it.\n",
    "Because this system is time-invariant, the corresponding problem is an `OptimizationProblem`."
   ]
  },
  {
   "cell_type": "code",
   "execution_count": null,
   "metadata": {},
   "outputs": [],
   "source": [
    "@named pde_system = PDESystem(eq, bcs, domains, [x, y], [u(x, y)])\n",
    "prob = discretize(pde_system, discretization)"
   ]
  },
  {
   "cell_type": "markdown",
   "metadata": {},
   "source": [
    "The callback function records the loss value."
   ]
  },
  {
   "cell_type": "code",
   "execution_count": null,
   "metadata": {},
   "outputs": [],
   "source": [
    "alg = OptimizationOptimJL.BFGS()"
   ]
  },
  {
   "cell_type": "markdown",
   "metadata": {},
   "source": [
    "Callback function"
   ]
  },
  {
   "cell_type": "code",
   "execution_count": null,
   "metadata": {},
   "outputs": [],
   "source": [
    "larr = Float64[]\n",
    "callback = function (p, l)\n",
    "    push!(larr, l)\n",
    "    return false\n",
    "end"
   ]
  },
  {
   "cell_type": "markdown",
   "metadata": {},
   "source": [
    "Solve the problem."
   ]
  },
  {
   "cell_type": "code",
   "execution_count": null,
   "metadata": {},
   "outputs": [],
   "source": [
    "res = Optimization.solve(prob, alg, callback = callback, maxiters=1500)\n",
    "plot(larr, xlabel=\"Iters\", title=\"Loss\", yscale=:log10, lab=\"Loss\") |> PNG"
   ]
  },
  {
   "cell_type": "markdown",
   "metadata": {},
   "source": [
    "Plot the predicted solution of the PDE and compare it with the analytical solution to see the relative error."
   ]
  },
  {
   "cell_type": "code",
   "execution_count": null,
   "metadata": {},
   "outputs": [],
   "source": [
    "xs, ys = [infimum(d.domain):dx/10:supremum(d.domain) for d in domains]\n",
    "analytic_sol_func(x,y) = (sinpi(x)*sinpi(y))/(2pi^2)\n",
    "\n",
    "phi = discretization.phi\n",
    "u_predict = reshape([first(phi([x, y], res.u)) for x in xs for y in ys], (length(xs), length(ys)))\n",
    "u_real = reshape([analytic_sol_func(x, y) for x in xs for y in ys], (length(xs), length(ys)))\n",
    "diff_u = abs.(u_predict .- u_real)\n",
    "\n",
    "p1 = plot(xs, ys, u_real, linetype=:contourf, title = \"analytic\")\n",
    "p2 = plot(xs, ys, u_predict, linetype=:contourf, title = \"predict\")\n",
    "p3 = plot(xs, ys, diff_u, linetype=:contourf, title = \"error\")\n",
    "plot(p1, p2, p3)"
   ]
  }
 ],
 "metadata": {
  "kernelspec": {
   "display_name": "Julia 1.10.0",
   "language": "julia",
   "name": "julia-1.10"
  },
  "language_info": {
   "file_extension": ".jl",
   "mimetype": "application/julia",
   "name": "julia",
   "version": "1.10.0"
  }
 },
 "nbformat": 4,
 "nbformat_minor": 3
}
