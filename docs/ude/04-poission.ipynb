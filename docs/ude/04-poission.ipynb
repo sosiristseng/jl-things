{
 "cells": [
  {
   "cell_type": "markdown",
   "source": [
    "# Solving PDE with ModelingToolkit and NeuralPDE\n",
    "\n",
    "Solving Poisson PDE Systems\n",
    "\n",
    "$$\n",
    "\\partial^{2}_{x}u(x,y) + \\partial^{2}_{y}u(x,y) = -\\sin (\\pi x) \\sin (\\pi y)\n",
    "$$\n",
    "\n",
    "with boundary conditions\n",
    "\n",
    "$$\n",
    "\\begin{align}\n",
    "u(0, y) &= 0 \\\\\n",
    "u(1, y) &= 0 \\\\\n",
    "u(x, 0) &= 0 \\\\\n",
    "u(x, 1) &= 0 \\\\\n",
    "\\end{align}\n",
    "$$\n",
    "\n",
    "where\n",
    "\n",
    "$x ∈ [0, 1], y ∈ [0, 1]$"
   ],
   "metadata": {}
  },
  {
   "outputs": [],
   "cell_type": "code",
   "source": [
    "using NeuralPDE\n",
    "using Lux\n",
    "using Plots\n",
    "using Optimization\n",
    "using OptimizationOptimJL\n",
    "using ModelingToolkit\n",
    "import ModelingToolkit: Interval\n",
    "PNG(img) = display(\"image/png\", img) ## Force PNG output"
   ],
   "metadata": {},
   "execution_count": null
  },
  {
   "outputs": [],
   "cell_type": "code",
   "source": [
    "@variables x y u(..)\n",
    "Dxx = Differential(x)^2\n",
    "Dyy = Differential(y)^2"
   ],
   "metadata": {},
   "execution_count": null
  },
  {
   "cell_type": "markdown",
   "source": [
    "2D PDE equations"
   ],
   "metadata": {}
  },
  {
   "outputs": [],
   "cell_type": "code",
   "source": [
    "eq  = Dxx(u(x, y)) + Dyy(u(x, y)) ~ -sinpi(x) * sinpi(y)"
   ],
   "metadata": {},
   "execution_count": null
  },
  {
   "cell_type": "markdown",
   "source": [
    "Boundary conditions"
   ],
   "metadata": {}
  },
  {
   "outputs": [],
   "cell_type": "code",
   "source": [
    "bcs = [\n",
    "    u(0, y) ~ 0.0, u(1, y) ~ 0.0,\n",
    "    u(x, 0) ~ 0.0, u(x, 1) ~ 0.0\n",
    "]"
   ],
   "metadata": {},
   "execution_count": null
  },
  {
   "cell_type": "markdown",
   "source": [
    "Space domains"
   ],
   "metadata": {}
  },
  {
   "outputs": [],
   "cell_type": "code",
   "source": [
    "domains = [\n",
    "    x ∈ Interval(0.0, 1.0),\n",
    "    y ∈ Interval(0.0, 1.0)\n",
    "]"
   ],
   "metadata": {},
   "execution_count": null
  },
  {
   "cell_type": "markdown",
   "source": [
    "Build a neural network for the PDE solver."
   ],
   "metadata": {}
  },
  {
   "outputs": [],
   "cell_type": "code",
   "source": [
    "dim = 2\n",
    "chain = Lux.Chain(Dense(dim, 16, Lux.σ), Dense(16, 16, Lux.σ), Dense(16, 1))"
   ],
   "metadata": {},
   "execution_count": null
  },
  {
   "cell_type": "markdown",
   "source": [
    "Discretization method: `PhysicsInformedNN()` (PINN)."
   ],
   "metadata": {}
  },
  {
   "outputs": [],
   "cell_type": "code",
   "source": [
    "dx = 0.05\n",
    "discretization = PhysicsInformedNN(chain, GridTraining(dx))"
   ],
   "metadata": {},
   "execution_count": null
  },
  {
   "cell_type": "markdown",
   "source": [
    "Next we build our PDE system and discretize it.\n",
    "Because this system is time-invariant, the corresponding problem is an `OptimizationProblem`."
   ],
   "metadata": {}
  },
  {
   "outputs": [],
   "cell_type": "code",
   "source": [
    "@named pde_system = PDESystem(eq, bcs, domains, [x, y], [u(x, y)])\n",
    "prob = discretize(pde_system, discretization)"
   ],
   "metadata": {},
   "execution_count": null
  },
  {
   "cell_type": "markdown",
   "source": [
    "The callback function records the loss value."
   ],
   "metadata": {}
  },
  {
   "outputs": [],
   "cell_type": "code",
   "source": [
    "alg = OptimizationOptimJL.BFGS()"
   ],
   "metadata": {},
   "execution_count": null
  },
  {
   "cell_type": "markdown",
   "source": [
    "Callback function"
   ],
   "metadata": {}
  },
  {
   "outputs": [],
   "cell_type": "code",
   "source": [
    "larr = Float64[]\n",
    "callback = function (p, l)\n",
    "    push!(larr, l)\n",
    "    return false\n",
    "end"
   ],
   "metadata": {},
   "execution_count": null
  },
  {
   "cell_type": "markdown",
   "source": [
    "Solve the problem."
   ],
   "metadata": {}
  },
  {
   "outputs": [],
   "cell_type": "code",
   "source": [
    "res = Optimization.solve(prob, alg, callback = callback, maxiters=1500)\n",
    "plot(larr, xlabel=\"Iters\", title=\"Loss\", yscale=:log10, lab=\"Loss\") |> PNG"
   ],
   "metadata": {},
   "execution_count": null
  },
  {
   "cell_type": "markdown",
   "source": [
    "Plot the predicted solution of the PDE and compare it with the analytical solution to see the relative error."
   ],
   "metadata": {}
  },
  {
   "outputs": [],
   "cell_type": "code",
   "source": [
    "xs, ys = [infimum(d.domain):dx/10:supremum(d.domain) for d in domains]\n",
    "analytic_sol_func(x,y) = (sinpi(x)*sinpi(y))/(2pi^2)\n",
    "\n",
    "phi = discretization.phi\n",
    "u_predict = reshape([first(phi([x, y], res.u)) for x in xs for y in ys], (length(xs), length(ys)))\n",
    "u_real = reshape([analytic_sol_func(x, y) for x in xs for y in ys], (length(xs), length(ys)))\n",
    "diff_u = abs.(u_predict .- u_real)\n",
    "\n",
    "p1 = plot(xs, ys, u_real, linetype=:contourf, title = \"analytic\");\n",
    "p2 = plot(xs, ys, u_predict, linetype=:contourf, title = \"predict\");\n",
    "p3 = plot(xs, ys, diff_u, linetype=:contourf, title = \"error\");\n",
    "plot(p1, p2, p3) |> PNG"
   ],
   "metadata": {},
   "execution_count": null
  },
  {
   "cell_type": "markdown",
   "source": [
    "---\n",
    "\n",
    "*This notebook was generated using [Literate.jl](https://github.com/fredrikekre/Literate.jl).*"
   ],
   "metadata": {}
  }
 ],
 "nbformat_minor": 3,
 "metadata": {
  "language_info": {
   "file_extension": ".jl",
   "mimetype": "application/julia",
   "name": "julia",
   "version": "1.10.0"
  },
  "kernelspec": {
   "name": "julia-1.10",
   "display_name": "Julia 1.10.0",
   "language": "julia"
  }
 },
 "nbformat": 4
}
